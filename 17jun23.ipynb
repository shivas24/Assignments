{
  "nbformat": 4,
  "nbformat_minor": 0,
  "metadata": {
    "colab": {
      "provenance": [],
      "authorship_tag": "ABX9TyPvT6D2QxGXDiU4FootPs34",
      "include_colab_link": true
    },
    "kernelspec": {
      "name": "python3",
      "display_name": "Python 3"
    },
    "language_info": {
      "name": "python"
    }
  },
  "cells": [
    {
      "cell_type": "markdown",
      "metadata": {
        "id": "view-in-github",
        "colab_type": "text"
      },
      "source": [
        "<a href=\"https://colab.research.google.com/github/shivas24/Assignments/blob/main/17jun23.ipynb\" target=\"_parent\"><img src=\"https://colab.research.google.com/assets/colab-badge.svg\" alt=\"Open In Colab\"/></a>"
      ]
    },
    {
      "cell_type": "code",
      "execution_count": null,
      "metadata": {
        "id": "gB_DdhC6qpyA"
      },
      "outputs": [],
      "source": []
    },
    {
      "cell_type": "markdown",
      "source": [
        "#What is the role of try and exception block?"
      ],
      "metadata": {
        "id": "8N8jwW-tqsvN"
      }
    },
    {
      "cell_type": "code",
      "source": [
        "\"\"\"try and exception are used to control the human errors while coding.\n",
        "While some times if a coding problems happen, system will execute the loops continuously .\n",
        "In such situaations to handle those errors we use try ..except..blocks.\n",
        "Major advantages of this block to efficiently handle the coding. Like ValueErrors,Zerodivisionerror etc..\"\"\"\n",
        "\n",
        "'''syntax\n",
        "try:\n",
        "\n",
        "    coding\n",
        "\n",
        "except Error:\n",
        "    error handler\n",
        "'''\n",
        "try:\n",
        "    x=10/0\n",
        "\n",
        "except ZeroDivisionError:\n",
        "    print(\"zero divisible error\")"
      ],
      "metadata": {
        "colab": {
          "base_uri": "https://localhost:8080/"
        },
        "id": "IVo-7dCKqwAC",
        "outputId": "fd331c99-4c10-4599-bf1d-7d6b5fb87023"
      },
      "execution_count": null,
      "outputs": [
        {
          "output_type": "stream",
          "name": "stdout",
          "text": [
            "zero divisible error\n"
          ]
        }
      ]
    },
    {
      "cell_type": "markdown",
      "source": [
        "#What is the syntax for a basic try-except block?"
      ],
      "metadata": {
        "id": "VlbgaDOqr0Rl"
      }
    },
    {
      "cell_type": "code",
      "source": [
        "\"\"\"#Syntax\n",
        "\n",
        "try:\n",
        "\n",
        "    coding\n",
        "except:\n",
        "\n",
        "    error description\n",
        "\n",
        "OR\n",
        "\n",
        "try:\n",
        "    condition\n",
        "\n",
        "exception ErrorHandler:\n",
        "\n",
        "    print(\"Error Handler description)\n",
        "\"\"\""
      ],
      "metadata": {
        "id": "ZClBpfB6sbFG"
      },
      "execution_count": null,
      "outputs": []
    },
    {
      "cell_type": "markdown",
      "source": [
        "#What happens if an exception occurs inside a try block and there is no matching except block?"
      ],
      "metadata": {
        "id": "DJIa_sMFsxlC"
      }
    },
    {
      "cell_type": "code",
      "source": [
        "#If except block not able to handle the error, system bydefault catch the error and check if any\n",
        "#such predefined error is designed. Else it shows the error with reason\n",
        "try:\n",
        "\n",
        "    a=4/0\n",
        "\n",
        "except ValueError:\n",
        "   print(\"ValueError\")\n"
      ],
      "metadata": {
        "colab": {
          "base_uri": "https://localhost:8080/",
          "height": 245
        },
        "id": "ONJWt9-Is1Cf",
        "outputId": "702c1279-fc9f-4f48-9c32-d81f78b127ca"
      },
      "execution_count": null,
      "outputs": [
        {
          "output_type": "error",
          "ename": "ZeroDivisionError",
          "evalue": "ignored",
          "traceback": [
            "\u001b[0;31m---------------------------------------------------------------------------\u001b[0m",
            "\u001b[0;31mZeroDivisionError\u001b[0m                         Traceback (most recent call last)",
            "\u001b[0;32m<ipython-input-4-9112dac8d03a>\u001b[0m in \u001b[0;36m<cell line: 1>\u001b[0;34m()\u001b[0m\n\u001b[1;32m      1\u001b[0m \u001b[0;32mtry\u001b[0m\u001b[0;34m:\u001b[0m\u001b[0;34m\u001b[0m\u001b[0;34m\u001b[0m\u001b[0m\n\u001b[1;32m      2\u001b[0m \u001b[0;34m\u001b[0m\u001b[0m\n\u001b[0;32m----> 3\u001b[0;31m     \u001b[0ma\u001b[0m\u001b[0;34m=\u001b[0m\u001b[0;36m4\u001b[0m\u001b[0;34m/\u001b[0m\u001b[0;36m0\u001b[0m\u001b[0;34m\u001b[0m\u001b[0;34m\u001b[0m\u001b[0m\n\u001b[0m\u001b[1;32m      4\u001b[0m \u001b[0;34m\u001b[0m\u001b[0m\n\u001b[1;32m      5\u001b[0m \u001b[0;32mexcept\u001b[0m \u001b[0mValueError\u001b[0m\u001b[0;34m:\u001b[0m\u001b[0;34m\u001b[0m\u001b[0;34m\u001b[0m\u001b[0m\n",
            "\u001b[0;31mZeroDivisionError\u001b[0m: division by zero"
          ]
        }
      ]
    },
    {
      "cell_type": "code",
      "source": [
        "try:\n",
        "    a=1/0\n",
        "    a=a**3\n",
        "    print(a)\n",
        "except ValueError:\n",
        "    print(\"Value error\")\n",
        "\n"
      ],
      "metadata": {
        "colab": {
          "base_uri": "https://localhost:8080/",
          "height": 245
        },
        "id": "ySIjqQzwtcNP",
        "outputId": "b34709fe-04b0-4763-e5ab-d54030288093"
      },
      "execution_count": null,
      "outputs": [
        {
          "output_type": "error",
          "ename": "ZeroDivisionError",
          "evalue": "ignored",
          "traceback": [
            "\u001b[0;31m---------------------------------------------------------------------------\u001b[0m",
            "\u001b[0;31mZeroDivisionError\u001b[0m                         Traceback (most recent call last)",
            "\u001b[0;32m<ipython-input-12-ae128cb7bdc8>\u001b[0m in \u001b[0;36m<cell line: 1>\u001b[0;34m()\u001b[0m\n\u001b[1;32m      1\u001b[0m \u001b[0;32mtry\u001b[0m\u001b[0;34m:\u001b[0m\u001b[0;34m\u001b[0m\u001b[0;34m\u001b[0m\u001b[0m\n\u001b[0;32m----> 2\u001b[0;31m     \u001b[0ma\u001b[0m\u001b[0;34m=\u001b[0m\u001b[0;36m1\u001b[0m\u001b[0;34m/\u001b[0m\u001b[0;36m0\u001b[0m\u001b[0;34m\u001b[0m\u001b[0;34m\u001b[0m\u001b[0m\n\u001b[0m\u001b[1;32m      3\u001b[0m     \u001b[0ma\u001b[0m\u001b[0;34m=\u001b[0m\u001b[0ma\u001b[0m\u001b[0;34m**\u001b[0m\u001b[0;36m3\u001b[0m\u001b[0;34m\u001b[0m\u001b[0;34m\u001b[0m\u001b[0m\n\u001b[1;32m      4\u001b[0m     \u001b[0mprint\u001b[0m\u001b[0;34m(\u001b[0m\u001b[0ma\u001b[0m\u001b[0;34m)\u001b[0m\u001b[0;34m\u001b[0m\u001b[0;34m\u001b[0m\u001b[0m\n\u001b[1;32m      5\u001b[0m \u001b[0;32mexcept\u001b[0m \u001b[0mValueError\u001b[0m\u001b[0;34m:\u001b[0m\u001b[0;34m\u001b[0m\u001b[0;34m\u001b[0m\u001b[0m\n",
            "\u001b[0;31mZeroDivisionError\u001b[0m: division by zero"
          ]
        }
      ]
    },
    {
      "cell_type": "markdown",
      "source": [
        "#What is the difference between using a bare except block and specifying a specific exception type?"
      ],
      "metadata": {
        "id": "YtugDmnlvz0t"
      }
    },
    {
      "cell_type": "code",
      "source": [
        "#specific exception block is designed for to catch the specific error\n",
        "\n",
        "#examp\n",
        "\n",
        "try:\n",
        "    x=10/0\n",
        "\n",
        "except ZeroDivisionError:\n",
        "    print(\"Not Divisible by Zero\")\n",
        "\n",
        "try:\n",
        "    x=input(\"enter value\")\n",
        "    x= x-2\n",
        "    print(x)\n",
        "except TypeError:\n",
        "    print(\"Wrong Value\")"
      ],
      "metadata": {
        "colab": {
          "base_uri": "https://localhost:8080/"
        },
        "id": "hcnZAFhOufzP",
        "outputId": "a14a74a9-02d6-459b-cb48-71c4e7beaa8e"
      },
      "execution_count": null,
      "outputs": [
        {
          "output_type": "stream",
          "name": "stdout",
          "text": [
            "Not Divisible by Zero\n",
            "enter value5\n",
            "Wrong Value\n"
          ]
        }
      ]
    },
    {
      "cell_type": "code",
      "source": [
        "#Bare Exception Error\n",
        "\n",
        "try:\n",
        "    x=10\n",
        "    y=x+\"Hello\"    # here it cant concatenate int with string.Hence throws error\n",
        "\n",
        "except:\n",
        "    print(\"Wrong data type\")"
      ],
      "metadata": {
        "colab": {
          "base_uri": "https://localhost:8080/"
        },
        "id": "IckZeBN2wez-",
        "outputId": "52b5b057-898f-4c1b-c5aa-92adf17861f9"
      },
      "execution_count": null,
      "outputs": [
        {
          "output_type": "stream",
          "name": "stdout",
          "text": [
            "Wrong data type\n"
          ]
        }
      ]
    },
    {
      "cell_type": "markdown",
      "source": [
        "#Can you have nested try-except blocks in Python? If yes, then give an example."
      ],
      "metadata": {
        "id": "JELrJxruxgHt"
      }
    },
    {
      "cell_type": "code",
      "source": [
        "#Yes We can\n",
        "\n",
        "try:\n",
        "    num1=input(\"Enter Value1::\")\n",
        "    num2=input(\"enter value2::\")\n",
        "\n",
        "    try:\n",
        "        val=num1/num2\n",
        "        print(val)\n",
        "    except ZeroDivisionError:\n",
        "        print(\"Zero Division error\")\n",
        "except TypeError:\n",
        "    print(\"Type Error\")"
      ],
      "metadata": {
        "colab": {
          "base_uri": "https://localhost:8080/"
        },
        "id": "q0TFW88SxO_g",
        "outputId": "fe25201a-5cea-4553-c8fa-8960d44cd401"
      },
      "execution_count": null,
      "outputs": [
        {
          "output_type": "stream",
          "name": "stdout",
          "text": [
            "Enter Value1::5\n",
            "enter value2::2\n",
            "Type Error\n"
          ]
        }
      ]
    },
    {
      "cell_type": "code",
      "source": [
        "\n",
        "try:\n",
        "    num1=input(\"Enter Value1::\")\n",
        "    num2=input(\"enter value2::\")\n",
        "\n",
        "    try:\n",
        "        val=int(num1)/int(num2)\n",
        "        print(val)\n",
        "    except ZeroDivisionError:\n",
        "        print(\"Zero Division error\")\n",
        "except TypeError:\n",
        "    print(\"Type Error\")"
      ],
      "metadata": {
        "colab": {
          "base_uri": "https://localhost:8080/"
        },
        "id": "Bdqx1eGUyow0",
        "outputId": "636bf21a-5f59-40e4-841e-81ca11e4430f"
      },
      "execution_count": null,
      "outputs": [
        {
          "output_type": "stream",
          "name": "stdout",
          "text": [
            "Enter Value1::5\n",
            "enter value2::2\n",
            "2.5\n"
          ]
        }
      ]
    },
    {
      "cell_type": "code",
      "source": [
        "try:\n",
        "    num1=input(\"Enter Value1::\")\n",
        "    num2=input(\"enter value2::\")\n",
        "\n",
        "    try:\n",
        "        val=int(num1)/int(num2)\n",
        "        print(val)\n",
        "    except ZeroDivisionError:\n",
        "        print(\"Zero Division error\")\n",
        "except TypeError:\n",
        "    print(\"Type Error\")"
      ],
      "metadata": {
        "colab": {
          "base_uri": "https://localhost:8080/"
        },
        "id": "tSzKRnxNy_ep",
        "outputId": "fe05e6ed-f0e1-4428-bf26-4be2ff4f7384"
      },
      "execution_count": null,
      "outputs": [
        {
          "output_type": "stream",
          "name": "stdout",
          "text": [
            "Enter Value1::5\n",
            "enter value2::0\n",
            "Zero Division error\n"
          ]
        }
      ]
    },
    {
      "cell_type": "markdown",
      "source": [
        "#Can we use multiple exception blocks, if yes then give an example"
      ],
      "metadata": {
        "id": "4OtHszOxzRFd"
      }
    },
    {
      "cell_type": "code",
      "source": [
        "#Yes\n",
        "\n",
        "try:\n",
        "    num1=input(\"Enter Value1::\") #treated as string\n",
        "    num2=input(\"enter value2::\") #treated as string\n",
        "    val=num1/num2  # can not divide string datatype\n",
        "    print(val)\n",
        "\n",
        "except ValueError:\n",
        "    print(\"Value error\")\n",
        "except ZeroDivisionError:\n",
        "        print(\"Zero Division error\")\n",
        "except TypeError:\n",
        "    print(\"Type Error\")"
      ],
      "metadata": {
        "colab": {
          "base_uri": "https://localhost:8080/"
        },
        "id": "X3j_jiAMzLcb",
        "outputId": "c77530ce-03f0-4b81-a284-2bf5e327eed2"
      },
      "execution_count": null,
      "outputs": [
        {
          "output_type": "stream",
          "name": "stdout",
          "text": [
            "Enter Value1::5\n",
            "enter value2::2\n",
            "Type Error\n"
          ]
        }
      ]
    },
    {
      "cell_type": "code",
      "source": [
        "try:\n",
        "    num1=input(\"Enter Value1::\") #num1 is string\n",
        "    num2=input(\"enter value2::\")\n",
        "    val=int(num1)/int(num2)\n",
        "    print(val)\n",
        "\n",
        "except ValueError:\n",
        "    print(\"Value error\")\n",
        "except ZeroDivisionError:\n",
        "        print(\"Zero Division error\")\n",
        "except TypeError:\n",
        "    print(\"Type Error\")"
      ],
      "metadata": {
        "colab": {
          "base_uri": "https://localhost:8080/"
        },
        "id": "5fbVUpck0FQH",
        "outputId": "e30c3ca6-ca3d-465b-d511-6c4b5f7678a7"
      },
      "execution_count": null,
      "outputs": [
        {
          "output_type": "stream",
          "name": "stdout",
          "text": [
            "Enter Value1::Hello\n",
            "enter value2::5\n",
            "Value error\n"
          ]
        }
      ]
    },
    {
      "cell_type": "code",
      "source": [
        "try:\n",
        "    num1=input(\"Enter Value1::\") #num1 is string\n",
        "    num2=input(\"enter value2::\")\n",
        "    val=int(num1)/int(num2)\n",
        "    print(val)\n",
        "\n",
        "except ValueError:\n",
        "    print(\"Value error\")\n",
        "except ZeroDivisionError:\n",
        "        print(\"Zero Division error\")\n",
        "except TypeError:\n",
        "    print(\"Type Error\")"
      ],
      "metadata": {
        "colab": {
          "base_uri": "https://localhost:8080/"
        },
        "id": "_rLyniIA0UJa",
        "outputId": "4c61d9ab-facd-40db-95df-9fe20b129ba7"
      },
      "execution_count": null,
      "outputs": [
        {
          "output_type": "stream",
          "name": "stdout",
          "text": [
            "Enter Value1::15\n",
            "enter value2::0\n",
            "Zero Division error\n"
          ]
        }
      ]
    },
    {
      "cell_type": "markdown",
      "source": [
        "#Write the reason due to which following errors are raised:\n",
        "\n",
        "a. EOFError ::\n",
        "\n",
        "b. FloatingPointError\n",
        "\n",
        "c. IndexError\n",
        "\n",
        "d. MemoryError\n",
        "\n",
        "e. OverflowError\n",
        "\n",
        "f. TabError\n",
        "\n",
        "g. ValueError"
      ],
      "metadata": {
        "id": "keyboS_51omE"
      }
    },
    {
      "cell_type": "code",
      "source": [
        "#EOF error\n",
        "#EOF Error will be raised when something wrong termination encountered in middleof execution\n",
        "#Ctrl +D\n",
        "\n",
        "try:\n",
        "    x=input(\"enter value::\")\n",
        "    print(\"entered value  is::\",x)\n",
        "\n",
        "except EOFError:\n",
        "    print(\"Uninterrputed termination\")"
      ],
      "metadata": {
        "colab": {
          "base_uri": "https://localhost:8080/"
        },
        "id": "XTyDPH9j1Dzz",
        "outputId": "1a4b8d07-1e93-4792-851f-6b05cfea7f08"
      },
      "execution_count": null,
      "outputs": [
        {
          "output_type": "stream",
          "name": "stdout",
          "text": [
            "enter value::\u0004\n",
            "Uninterrputed termination\n"
          ]
        }
      ]
    },
    {
      "cell_type": "code",
      "source": [
        "#FloatingPoint error\n",
        "#Actuallhy in binary system we can not represent decimal values of small values in systems accurately\n",
        "#So in such cases floating point errors occurs\n",
        "#Instead of 0.21 it gives some minor values . to control this we use this\n",
        "a=0.01\n",
        "b=0.2\n",
        "a+b\n",
        "\n",
        "\n"
      ],
      "metadata": {
        "colab": {
          "base_uri": "https://localhost:8080/"
        },
        "id": "ooeWdZMr2onx",
        "outputId": "1e7e78f3-f885-41de-ef6a-9678f371309c"
      },
      "execution_count": null,
      "outputs": [
        {
          "output_type": "execute_result",
          "data": {
            "text/plain": [
              "0.21000000000000002"
            ]
          },
          "metadata": {},
          "execution_count": 57
        }
      ]
    },
    {
      "cell_type": "code",
      "source": [],
      "metadata": {
        "id": "E8LWER906Aaj"
      },
      "execution_count": null,
      "outputs": []
    },
    {
      "cell_type": "markdown",
      "source": [
        "#IndexError"
      ],
      "metadata": {
        "id": "RqcJeLha-YJl"
      }
    },
    {
      "cell_type": "code",
      "source": [
        "#When index is out of range this error occurs\n",
        "\n",
        "ls=[\"Apple\",\"Banana\",\"Mango\"]\n",
        "\n",
        "try:\n",
        "    print(ls[3])\n",
        "except IndexError:\n",
        "    print(\"Index Out of range\")\n",
        "\n",
        "\n",
        "\n"
      ],
      "metadata": {
        "colab": {
          "base_uri": "https://localhost:8080/"
        },
        "id": "QSBSEbaN-bL1",
        "outputId": "74918bca-0cd8-4540-cddd-97ab43891d58"
      },
      "execution_count": 11,
      "outputs": [
        {
          "output_type": "stream",
          "name": "stdout",
          "text": [
            "Index Out of range\n"
          ]
        }
      ]
    },
    {
      "cell_type": "code",
      "source": [
        "#Memory error\n",
        "\n",
        "#When program runs out of memory this eror occurs\n",
        "\n",
        "#Overflowerror\n",
        "\n",
        "#when result of calculation is too large\n",
        "\n",
        "a =0.01\n",
        "b=0.2\n",
        "a+b\n",
        "\n"
      ],
      "metadata": {
        "colab": {
          "base_uri": "https://localhost:8080/"
        },
        "id": "RhcyNkv5-4Uf",
        "outputId": "0dabc8d8-f14d-4109-a428-d8420b3ac6db"
      },
      "execution_count": null,
      "outputs": [
        {
          "output_type": "stream",
          "name": "stdout",
          "text": [
            "2.9299326746326637e-10\n"
          ]
        }
      ]
    },
    {
      "cell_type": "code",
      "source": [
        "#TabError\n",
        "# When indentation issue\n",
        "x=5\n",
        "y=5\n",
        "try:\n",
        "\n",
        "    print(x+y)\n",
        "        print()  #Indentation or Tab Error\n",
        "except TabError:\n",
        "    print(\"Tab error\")\n"
      ],
      "metadata": {
        "colab": {
          "base_uri": "https://localhost:8080/",
          "height": 140
        },
        "id": "9RDh-5-hBPRz",
        "outputId": "69e2c0d4-f67c-4866-9a3d-066f9c6cbcb3"
      },
      "execution_count": 15,
      "outputs": [
        {
          "output_type": "error",
          "ename": "IndentationError",
          "evalue": "ignored",
          "traceback": [
            "\u001b[0;36m  File \u001b[0;32m\"<ipython-input-15-02a2370022ac>\"\u001b[0;36m, line \u001b[0;32m8\u001b[0m\n\u001b[0;31m    print()  #Indentation or Tab Error\u001b[0m\n\u001b[0m    ^\u001b[0m\n\u001b[0;31mIndentationError\u001b[0m\u001b[0;31m:\u001b[0m unexpected indent\n"
          ]
        }
      ]
    },
    {
      "cell_type": "code",
      "source": [
        "#Valueerror\n",
        "#Raises when wrong value is specified\n",
        "try:\n",
        "    num1=input(\"value::\")\n",
        "    print(int(num1)+5)\n",
        "except ValueError:\n",
        "    print(\"Value error,Wrong data Type\")"
      ],
      "metadata": {
        "id": "SnRPNNueDpK2",
        "colab": {
          "base_uri": "https://localhost:8080/"
        },
        "outputId": "9f67539b-4ef7-4dda-e484-461cde0df60d"
      },
      "execution_count": null,
      "outputs": [
        {
          "output_type": "stream",
          "name": "stdout",
          "text": [
            "value::HELLO\n",
            "Value error,Wrong data Type\n"
          ]
        }
      ]
    },
    {
      "cell_type": "code",
      "source": [],
      "metadata": {
        "id": "Tv1ldI2eGXGo"
      },
      "execution_count": null,
      "outputs": []
    },
    {
      "cell_type": "markdown",
      "source": [
        "#Write code for the following given scenario and add try-exception block to it.\n",
        "a. Program to divide two numbers\n",
        "\n",
        "b. Program to convert a string to an integer\n",
        "\n",
        "c. Program to access an element in a list\n",
        "\n",
        "d. Program to handle a specific exception\n",
        "\n",
        "e. Program to handle any exception"
      ],
      "metadata": {
        "id": "a262WKcAHm4x"
      }
    },
    {
      "cell_type": "code",
      "source": [
        "#a...Program to  divide two numbers\n",
        "\n",
        "try:\n",
        "    x=10\n",
        "    y=0\n",
        "    print(x/y)\n",
        "except ZeroDivisionError:\n",
        "    print(\"Zero Divisible error. either value cant be zero\")"
      ],
      "metadata": {
        "colab": {
          "base_uri": "https://localhost:8080/"
        },
        "id": "MjTkWnppHqJU",
        "outputId": "e04702ce-ee2c-401d-b99b-6ec891f45508"
      },
      "execution_count": null,
      "outputs": [
        {
          "output_type": "stream",
          "name": "stdout",
          "text": [
            "Zero Divisible error. either value cant be zero\n"
          ]
        }
      ]
    },
    {
      "cell_type": "code",
      "source": [
        "#Program to convert to integer\n",
        "try:\n",
        "    num=input(\"Value::\")\n",
        "    print(type(num))\n",
        "    num=int(num)\n",
        "    print(num)\n",
        "\n",
        "except ValueError as e:\n",
        "    print(\"Invalid Data.....\",e)"
      ],
      "metadata": {
        "colab": {
          "base_uri": "https://localhost:8080/"
        },
        "id": "jovj-MbfIBis",
        "outputId": "859367d1-a642-4191-dc17-c49842541c3a"
      },
      "execution_count": null,
      "outputs": [
        {
          "output_type": "stream",
          "name": "stdout",
          "text": [
            "Value::3\n",
            "<class 'str'>\n",
            "3\n"
          ]
        }
      ]
    },
    {
      "cell_type": "code",
      "source": [
        "#Program to access an element in a list\n",
        "\n",
        "lst=[2,3,5,24,77,44]\n",
        "\n",
        "value=input(\"Enter The Index Value to retrieve::\")\n",
        "try:\n",
        "    print(lst[int(value)])\n",
        "\n",
        "except IndexError:\n",
        "    print(f\"You can access upto {len(lst)} elements only.Element Length Exceeded. Try smaller value.\")\n",
        "\n"
      ],
      "metadata": {
        "colab": {
          "base_uri": "https://localhost:8080/"
        },
        "id": "pm8tZDaFI4B4",
        "outputId": "705de38c-285f-41aa-e397-198edb822c7e"
      },
      "execution_count": null,
      "outputs": [
        {
          "output_type": "stream",
          "name": "stdout",
          "text": [
            "Enter The Index Value to retrieve::12\n",
            "You can access upto 6 elements only.Element Length Exceeded. Try smaller value.\n"
          ]
        }
      ]
    },
    {
      "cell_type": "code",
      "source": [
        "#Program to specific exception\n",
        "\n",
        "try:\n",
        "    num = 10\n",
        "    val=num/0\n",
        "\n",
        "except ZeroDivisionError:\n",
        "    print(\"Cant Divide by Zero\")"
      ],
      "metadata": {
        "colab": {
          "base_uri": "https://localhost:8080/"
        },
        "id": "3n1HaJPiKtRJ",
        "outputId": "e797c513-37a9-4cd8-bbd4-deb63ea44813"
      },
      "execution_count": null,
      "outputs": [
        {
          "output_type": "stream",
          "name": "stdout",
          "text": [
            "Cant Divide by Zero\n"
          ]
        }
      ]
    },
    {
      "cell_type": "code",
      "source": [
        "#Program to  handle  any exception\n",
        "\n",
        "num=input(\"value::\")\n",
        "lst=[1,2,3]\n",
        "try:\n",
        "    print(lst[int(num)])\n",
        "\n",
        "except Exception as e:\n",
        "    print(\"exception is::\",e)"
      ],
      "metadata": {
        "colab": {
          "base_uri": "https://localhost:8080/"
        },
        "id": "EWmqZ_DoNvAI",
        "outputId": "2596c93a-af9d-46af-e673-36c6287d719f"
      },
      "execution_count": null,
      "outputs": [
        {
          "output_type": "stream",
          "name": "stdout",
          "text": [
            "value::6\n",
            "exception is:: list index out of range\n"
          ]
        }
      ]
    },
    {
      "cell_type": "code",
      "source": [
        "#Program to  handle  any exception\n",
        "\n",
        "num=input(\"value::\")\n",
        "\n",
        "try :\n",
        "    num==int(num)\n",
        "    print(num)\n",
        "\n",
        "except Exception as e:\n",
        "    print(\"exception is::\",e)"
      ],
      "metadata": {
        "colab": {
          "base_uri": "https://localhost:8080/"
        },
        "id": "xJWT52T0QpMW",
        "outputId": "ee33f6f7-b890-483d-9d43-7f34d8a2ff07"
      },
      "execution_count": null,
      "outputs": [
        {
          "output_type": "stream",
          "name": "stdout",
          "text": [
            "value::2.4\n",
            "exception is:: invalid literal for int() with base 10: '2.4'\n"
          ]
        }
      ]
    },
    {
      "cell_type": "code",
      "source": [
        "class NotIntegerError(Exception):\n",
        "    pass\n",
        "\n",
        "x = input(\"Enter a number: \")\n",
        "\n",
        "try:\n",
        "    if x.isdigit():\n",
        "        print(x)\n",
        "    else:\n",
        "        raise NotIntegerError(Exception)\n",
        "except NotIntegerError:\n",
        "    print(\"Not an Integer\")"
      ],
      "metadata": {
        "colab": {
          "base_uri": "https://localhost:8080/"
        },
        "id": "wWO0ps-6YA_L",
        "outputId": "585b3bb8-8e19-4b58-9da8-41794c99dabd"
      },
      "execution_count": 22,
      "outputs": [
        {
          "output_type": "stream",
          "name": "stdout",
          "text": [
            "Enter a number: 5.6\n",
            "Not an Integer\n"
          ]
        }
      ]
    },
    {
      "cell_type": "code",
      "source": [],
      "metadata": {
        "id": "xDzvj1uDZe4g"
      },
      "execution_count": null,
      "outputs": []
    }
  ]
}