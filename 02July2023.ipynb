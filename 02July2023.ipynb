{
  "nbformat": 4,
  "nbformat_minor": 0,
  "metadata": {
    "colab": {
      "provenance": [],
      "authorship_tag": "ABX9TyPPhah0Ujn+59ZOV6nlyKnq",
      "include_colab_link": true
    },
    "kernelspec": {
      "name": "python3",
      "display_name": "Python 3"
    },
    "language_info": {
      "name": "python"
    }
  },
  "cells": [
    {
      "cell_type": "markdown",
      "metadata": {
        "id": "view-in-github",
        "colab_type": "text"
      },
      "source": [
        "<a href=\"https://colab.research.google.com/github/shivas24/Assignments/blob/main/02July2023.ipynb\" target=\"_parent\"><img src=\"https://colab.research.google.com/assets/colab-badge.svg\" alt=\"Open In Colab\"/></a>"
      ]
    },
    {
      "cell_type": "code",
      "execution_count": null,
      "metadata": {
        "id": "CF4GH3g7t-E0"
      },
      "outputs": [],
      "source": []
    },
    {
      "cell_type": "markdown",
      "source": [
        "#Explain what inheritance is in object-oriented programming and why it is used"
      ],
      "metadata": {
        "id": "8EMs6hQ_uAke"
      }
    },
    {
      "cell_type": "code",
      "source": [
        "#Inheritance is a property of OOPs to acquire data from other class. Generally we call child class and parent class or super class and sub class.\n",
        "#child class acquires the properties of parent class is called inheritance\n",
        "#for code reusability , overwrite the functionality,or for polymorphism\n",
        "\n"
      ],
      "metadata": {
        "id": "dv_JVIdjuDj7"
      },
      "execution_count": null,
      "outputs": []
    },
    {
      "cell_type": "markdown",
      "source": [
        "#Discuss the concept of single inheritance and multiple inheritance, highlighting their differences and advantages."
      ],
      "metadata": {
        "id": "56kQZHIEvE4J"
      }
    },
    {
      "cell_type": "code",
      "source": [
        "#Single inheritance is to inherit from one super class or parent class\n",
        "#Where as multiple inheritance is to acquire from multiple super classes or parent classes\n",
        "#Single inheritance is easy to use and readibility, wehre as multipleinheritance is more complex\n",
        "#but can performmultiple functions hence reduces use of writing code\n",
        "\n",
        "class super1:\n",
        "    def name_age(self):\n",
        "        self.name=\"Shivaprrasad\"\n",
        "        self.age=45\n",
        "\n",
        "class super2:\n",
        "    def city_state(self):\n",
        "        self.city=\"Vizag\"\n",
        "        self.state=\"AndhraPradesh\"\n",
        "\n",
        "class final(super1,super2):\n",
        "    def __init__(self):\n",
        "        super().__init__()\n",
        "\n"
      ],
      "metadata": {
        "id": "6KMysJYWvD9r"
      },
      "execution_count": null,
      "outputs": []
    },
    {
      "cell_type": "markdown",
      "source": [
        "#Explain the terms \"base class\" and \"derived class\" in the context of inheritance."
      ],
      "metadata": {
        "id": "5o5a-qZoC5lL"
      }
    },
    {
      "cell_type": "code",
      "source": [
        "\n",
        "class super1:\n",
        "    def __init__(self):\n",
        "        self.name=\"Shivaprrasad\"\n",
        "        self.age=45\n",
        "#Above is caleed base class or parent class or super class\n",
        "\n",
        "\n",
        "class final(super1):\n",
        "    def __init__(self):\n",
        "        super().__init__()\n",
        "\n",
        "    def __str__(self):\n",
        "       return f\"{self.name},{self.age}\"  #Acquired from super1 attributes\n",
        "obj=final()\n",
        "print(obj)\n",
        "#This is called derived class becuase which is acquiring attributes of super1 class or final(super1),\n",
        "#is derived from the attributes of super1, hence known as derived class"
      ],
      "metadata": {
        "colab": {
          "base_uri": "https://localhost:8080/"
        },
        "id": "HoFtfFwJ73G6",
        "outputId": "e0eda77f-8665-4e92-8530-730a0914662a"
      },
      "execution_count": null,
      "outputs": [
        {
          "output_type": "stream",
          "name": "stdout",
          "text": [
            "Shivaprrasad,45\n"
          ]
        }
      ]
    },
    {
      "cell_type": "markdown",
      "source": [
        "#What is the significance of the \"protected\" access modifier in inheritance? How does it differ from \"private\" and \"public\" modifiers?"
      ],
      "metadata": {
        "id": "8yJwGC_KE4u8"
      }
    },
    {
      "cell_type": "code",
      "source": [
        "\"\"\"\n",
        "public access modifiers are accessibleanywhere in the class are known as  public class, so we can access class variables outside class.\"\"\"\n",
        "\n",
        "class Public:\n",
        "    def __init__(self):\n",
        "        self.public= \"shivaprrasad\"  #publica variable represents by .\n",
        "    def public(self):\n",
        "        self.public=self.public\n",
        "\n",
        "obj=Public()\n",
        "print(\"Public class::\",obj.public)  #Accessing the public variable\n",
        "\n",
        "\"\"\"Private varibales are are personal to that class anf can not be accssed directly from outside of its class\"\"\"\n",
        "\n",
        "class Private:\n",
        "    def __init__(self):\n",
        "        self.__private=\"Shivaprrasad\"   #Private variable denoted with __(double iunderscore)\n",
        "\n",
        "obj2=Private()\n",
        "print(\"Private::\",obj2._Private__private) #Accessing the private variablle .we must use class name to access the private variable\n",
        "#We can not directly access the private varubale using variable name\n",
        "\n",
        "\"\"\" Protected variables are varibales protected by that class an cant not access diretly fromoutside class ,which are protected by class\"\"\"\n",
        "\n",
        "class Protected:\n",
        "    def __init__(self):\n",
        "        self._protected=\"Shivaprrasad\"\n",
        "obj3=Protected()\n",
        "print(\"Protected::\",obj3._protected)\n",
        "#Protected varibales can also be accessed directly using variable name"
      ],
      "metadata": {
        "id": "pPTtLz6xDdUq",
        "colab": {
          "base_uri": "https://localhost:8080/"
        },
        "outputId": "c8af1e99-a770-4ced-a63f-eb46da77e53d"
      },
      "execution_count": 31,
      "outputs": [
        {
          "output_type": "stream",
          "name": "stdout",
          "text": [
            "Public class:: shivaprrasad\n",
            "Private:: Shivaprrasad\n",
            "Protected:: Shivaprrasad\n"
          ]
        }
      ]
    },
    {
      "cell_type": "markdown",
      "source": [
        "#What is the purpose of the \"super\" keyword in inheritance? Provide an example"
      ],
      "metadata": {
        "id": "TnDMdJlLE7ZO"
      }
    },
    {
      "cell_type": "code",
      "source": [
        "#The main purpose of super keyword to acquire the attributes of another class.\n",
        "#Its purpose is to reduce coding part means reusability of code, extending functionality\n",
        "#of previous class\n",
        "\n",
        "class super1:\n",
        "    def __init__(self):\n",
        "        self.name=\"Shivaprrasad\"\n",
        "        self.age=45\n",
        "#Above is caleed base class or parent class or super class\n",
        "\n",
        "\n",
        "class final(super1):\n",
        "    def __init__(self):\n",
        "        super().__init__()  #We are acquiring the attributed of super1 class like name,age. so no need\n",
        "                                    # to define again.\n",
        "\n",
        "    def __str__(self):\n",
        "       return f\"{self.name},{self.age}\"  #Acquired from super1 attributes\n",
        "obj=final()\n",
        "print(obj)"
      ],
      "metadata": {
        "colab": {
          "base_uri": "https://localhost:8080/"
        },
        "id": "imkLav3CE-Fu",
        "outputId": "7a7f1f1b-c03e-4cb6-dd70-2d81c120d5ac"
      },
      "execution_count": null,
      "outputs": [
        {
          "output_type": "stream",
          "name": "stdout",
          "text": [
            "Shivaprrasad,45\n"
          ]
        }
      ]
    },
    {
      "cell_type": "markdown",
      "source": [
        "#Create a base class called \"Vehicle\" with attributes like \"make\", \"model\", and \"year\". Then, create a derived class called \"Car\" that inherits from \"Vehicle\" and adds an attribute called \"fuel_type\". Implement appropriate methods in both classes."
      ],
      "metadata": {
        "id": "whk4BFCjFsPL"
      }
    },
    {
      "cell_type": "code",
      "source": [
        "class Vehicle:\n",
        "    def __init__(self,make,model,year):\n",
        "        self.make=make\n",
        "        self.model=model\n",
        "        self.year=year\n",
        "\n",
        "class Car(Vehicle):\n",
        "    def __init__(self,make,model,year,fuel_type): #Taking values\n",
        "        super().__init__(make,model,year) #Dont chnage the sequence\n",
        "        self.fuel_type=fuel_type\n",
        "\n",
        "    def __str__(self):\n",
        "        return f\"Vehicle Maker is::{self.make}\\n Model::{self.model}\\n Year::{self.year}\\n Fuel Type ::{self.fuel_type}\"\n",
        "\n",
        "obj=Car(\"TATA\",\"Nexon\",2022,\"Petrol\")  #Passing variables to subclass\n",
        "print(obj)"
      ],
      "metadata": {
        "colab": {
          "base_uri": "https://localhost:8080/"
        },
        "id": "EtbE41DBFw5L",
        "outputId": "5441a626-0c9c-4e7b-eea1-b016490c2d4c"
      },
      "execution_count": null,
      "outputs": [
        {
          "output_type": "stream",
          "name": "stdout",
          "text": [
            "Vehicle Maker is::TATA\n",
            " Model::Nexon\n",
            " Year::2022\n",
            " Fuel Type ::Petrol\n"
          ]
        }
      ]
    },
    {
      "cell_type": "markdown",
      "source": [
        "#Create a base class called \"Employee\" with attributes like \"name\" and \"salary.\" Derive two classes, \"Manager\" and \"Developer,\" from \"Employee.\" Add an dditional attribute called \"department\" for the \"Manager\" class and \"programming_language\" for the \"Developer\" class."
      ],
      "metadata": {
        "id": "iHhPwYEWSc5W"
      }
    },
    {
      "cell_type": "code",
      "source": [
        "class Employee:\n",
        "    def __init__(self,name,salary):\n",
        "        self.name=name\n",
        "        self.salary=salary\n",
        "        self.company=\"IT Solution\"\n",
        "\n",
        "class Manager(Employee):\n",
        "    def __init__(self,name,salary,department):\n",
        "        super().__init__(name,salary)\n",
        "        self.department=department\n",
        "\n",
        "    def __str__(self):\n",
        "        return f\"{self.company},{self.name},{self.salary},{self.department}\"\n",
        "\n",
        "class Developer(Employee):\n",
        "    def __init__(self,name,salary,p_lang):\n",
        "        super().__init__(name,salary)\n",
        "        self.p_lang=p_lang\n",
        "\n",
        "    def __str__(self):\n",
        "        return f\"{self.company},{self.name}, {self.salary},{self.p_lang}\"\n",
        "\n",
        "manager=Manager(\"Shiva\",2500000,\"IT\")\n",
        "developer=Developer(\"Karthkeyaa\",2000000,\"Python\")\n",
        "print(\"MANAGER::\",manager)\n",
        "print(\"DEVELOPER::\",developer)\n",
        "\n"
      ],
      "metadata": {
        "colab": {
          "base_uri": "https://localhost:8080/"
        },
        "id": "4Co0GMiTJAMj",
        "outputId": "2d9b1f8e-569b-431d-ad43-b9f19adb918f"
      },
      "execution_count": 1,
      "outputs": [
        {
          "output_type": "stream",
          "name": "stdout",
          "text": [
            "MANAGER:: IT Solution,Shiva,2500000,IT\n",
            "DEVELOPER:: IT Solution,Karthkeyaa, 2000000,Python\n"
          ]
        }
      ]
    },
    {
      "cell_type": "markdown",
      "source": [
        "#Design a base class called \"Shape\" with attributes like \"colour\" and \"border_width.\" Create derived classes, \"Rectangle\" and \"Circle,\" that inherit from \"Shape\" and add specific attributes like \"length\" and \"width\" for the \"Rectangle\" class and \"radius\" for the \"Circle\" class."
      ],
      "metadata": {
        "id": "nbQ26Y8ulmmZ"
      }
    },
    {
      "cell_type": "code",
      "source": [
        "class Shape:\n",
        "    def __init__(self,colour,border_width):\n",
        "        self.colour=colour\n",
        "        self.border_width=border_width\n",
        "\n",
        "class Rectangle(Shape):\n",
        "    def __init__(self,length,colour,border_width):\n",
        "        super().__init__(colour,border_width)\n",
        "        self.length=length\n",
        "    def __str__(self):\n",
        "        return f\"{self.colour}, {self.border_width}, {self.length}\"\n",
        "\n",
        "class Circle(Shape):\n",
        "    def __init__(self,colour,border_width,width):\n",
        "        super().__init__(colour,border_width)\n",
        "        self.width=width\n",
        "\n",
        "    def __str__(self):\n",
        "        return f\"{self.colour}, {self.border_width},{self.width}\"\n",
        "\n",
        "rectangle=Rectangle(4,\"Yellow\",0.5)\n",
        "circle=Circle(\"Red\",0.9,5)\n",
        "\n",
        "print(\"Rectangle::\",rectangle)\n",
        "print(\"Circle::\",circle)"
      ],
      "metadata": {
        "colab": {
          "base_uri": "https://localhost:8080/"
        },
        "id": "NTiWxTkgUFjl",
        "outputId": "20a8a498-513e-4edb-bebe-739900c998cc"
      },
      "execution_count": null,
      "outputs": [
        {
          "output_type": "stream",
          "name": "stdout",
          "text": [
            "Rectangle:: Yellow, 0.5, 4\n",
            "Circle:: Red, 0.9,5\n"
          ]
        }
      ]
    },
    {
      "cell_type": "markdown",
      "source": [
        "#Create a base class called \"Device\" with attributes like \"brand\" and \"model.\" Derive two classes, \"Phone\" and \"Tablet,\" from \"Device.\" Add specific attributes like \"screen_size\" for the \"Phone\" class and \"battery_capacity\" for the \"Tablet\" class."
      ],
      "metadata": {
        "id": "aNn9xMsvrNs5"
      }
    },
    {
      "cell_type": "code",
      "source": [
        "class Device:\n",
        "    def __init__(self,brand,model):\n",
        "        self.brand=brand\n",
        "        self.model=model\n",
        "\n",
        "class Phone(Device):\n",
        "    def __init__(self,brand,model,screen_size):\n",
        "        super().__init__(brand,model)\n",
        "\n",
        "        self.screen_size=screen_size\n",
        "\n",
        "    def __str__(self):\n",
        "        return f\"{self.brand}, {self.model}, {self.screen_size}\"\n",
        "\n",
        "class Tablet(Device):\n",
        "    def __init__(self,brand,model,battery):\n",
        "        super().__init__(brand,model)\n",
        "\n",
        "        self.battery=battery\n",
        "    def __str__(self):\n",
        "        return f\"{self.brand}, {self.model}, {self.battery}\"\n",
        "\n",
        "phone=Phone(\"Samsung\",\"S20\",6.5)\n",
        "tablet=Tablet(\"Apple\",\"I15\",10000)\n",
        "print(phone,\"\\n\",tablet)"
      ],
      "metadata": {
        "colab": {
          "base_uri": "https://localhost:8080/"
        },
        "id": "PtnefcURq17J",
        "outputId": "37ecc369-a2a0-4058-c0e0-5bb9d32ec318"
      },
      "execution_count": null,
      "outputs": [
        {
          "output_type": "stream",
          "name": "stdout",
          "text": [
            "Samsung, S20, 6.5 \n",
            " Apple, I15, 10000\n"
          ]
        }
      ]
    },
    {
      "cell_type": "markdown",
      "source": [
        "#Create a base class called \"BankAccount\" with attributes like \"account_number\" and \"balance.\" Derive two classes, \"SavingsAccount\" and \"CheckingAccount,\" from \"BankAccount.\" Add specific methods like \"calculate_interest\" for the \"SavingsAccount\" class and \"deduct_fees\" for the \"CheckingAccount\" class."
      ],
      "metadata": {
        "id": "b9B5r-3Oxyb1"
      }
    },
    {
      "cell_type": "code",
      "source": [
        "class BankAccount:\n",
        "    def __init__(self,account_number,balance):\n",
        "        self.acc_num=account_number\n",
        "        self.balance=balance\n",
        "\n",
        "class SavingAccount(BankAccount):\n",
        "    def __init__(self,account_number,balance,interest):\n",
        "        super().__init__(account_number,balance)\n",
        "\n",
        "        self.interest=interest\n",
        "\n",
        "    def __str__(self):\n",
        "        self.bal_aft_int=self.balance+ (self.balance*self.interest)/100\n",
        "\n",
        "        return f\"{self.acc_num}... {self.balance}... {self.bal_aft_int}\"\n",
        "\n",
        "class CheckingAccount(BankAccount):\n",
        "    def __init__(self,account_number,balance,ded_fee):\n",
        "        super().__init__(account_number,balance)\n",
        "        self.ded_fee=ded_fee\n",
        "\n",
        "    def __str__(self):\n",
        "        self.bal_aft_ded=self.balance-self.ded_fee\n",
        "\n",
        "        return f\"{self.acc_num}... {self.balance}... {self.bal_aft_ded}\"\n",
        "\n",
        "savingaccount=SavingAccount(6001529838,1500000,8)\n",
        "checkingaccount=CheckingAccount(1594891458,2500000,4540.23)\n",
        "\n",
        "print(\"Saving Account Details:::\",savingaccount)\n",
        "print(\"Checking Account Details:::\",checkingaccount)\n",
        "\n"
      ],
      "metadata": {
        "colab": {
          "base_uri": "https://localhost:8080/"
        },
        "id": "Nd6-8MiUxdA0",
        "outputId": "051ab870-1469-4de5-a60b-1e4d153bef9c"
      },
      "execution_count": null,
      "outputs": [
        {
          "output_type": "stream",
          "name": "stdout",
          "text": [
            "Saving Account Details::: 6001529838... 1500000... 1620000.0\n",
            "Checking Account Details::: 1594891458... 2500000... 2495459.77\n"
          ]
        }
      ]
    },
    {
      "cell_type": "code",
      "source": [],
      "metadata": {
        "id": "i51T-JEU1b8V"
      },
      "execution_count": null,
      "outputs": []
    }
  ]
}