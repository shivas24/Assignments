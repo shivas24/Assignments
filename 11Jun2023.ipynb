{
  "nbformat": 4,
  "nbformat_minor": 0,
  "metadata": {
    "colab": {
      "provenance": [],
      "authorship_tag": "ABX9TyOKvVEpnezmn13dOtx8xhD5",
      "include_colab_link": true
    },
    "kernelspec": {
      "name": "python3",
      "display_name": "Python 3"
    },
    "language_info": {
      "name": "python"
    }
  },
  "cells": [
    {
      "cell_type": "markdown",
      "metadata": {
        "id": "view-in-github",
        "colab_type": "text"
      },
      "source": [
        "<a href=\"https://colab.research.google.com/github/shivas24/Assignments/blob/main/11Jun2023.ipynb\" target=\"_parent\"><img src=\"https://colab.research.google.com/assets/colab-badge.svg\" alt=\"Open In Colab\"/></a>"
      ]
    },
    {
      "cell_type": "code",
      "execution_count": null,
      "metadata": {
        "id": "1Bm1GxOmAARy"
      },
      "outputs": [],
      "source": []
    },
    {
      "cell_type": "markdown",
      "source": [
        "#What is a lambda function in Python, and how does it differ from a regular function?"
      ],
      "metadata": {
        "id": "xTj-ojaOAGUL"
      }
    },
    {
      "cell_type": "code",
      "source": [
        "#Lambda function take multiple arguments to  perform a one calculation.\n",
        "#Once we executed a lambda function it takes multiple values\n",
        "#The saved expression is stored in memory,so no need to calculate again\n",
        "#When there is no need of full function we us elambda function for short calculations\n",
        "\n",
        "#Lambda function starts with lamda keyword where regular function defines with def keyword and syntax\n",
        "\n",
        "#regular function\n",
        "def funx(a):\n",
        "    return a+3\n",
        "\n",
        "obj=funx(5)\n",
        "print(obj)\n",
        "\n",
        "#lambda fuction\n",
        "val= lambda a:a+3\n",
        "print(val(4))\n",
        "\n",
        "val1=lambda x,y:x**y\n",
        "print(val1(2,3))"
      ],
      "metadata": {
        "colab": {
          "base_uri": "https://localhost:8080/"
        },
        "id": "WB8bpiTTAHmW",
        "outputId": "f4d14825-6eef-414f-b55d-9e4734a0cb70"
      },
      "execution_count": null,
      "outputs": [
        {
          "output_type": "stream",
          "name": "stdout",
          "text": [
            "8\n",
            "7\n",
            "8\n"
          ]
        }
      ]
    },
    {
      "cell_type": "markdown",
      "source": [
        "#Can a lambda function in Python have multiple arguments? If yes, how can you define and use them?"
      ],
      "metadata": {
        "id": "wKstXbh1FtYb"
      }
    },
    {
      "cell_type": "code",
      "source": [
        "# yes. it can have\n",
        "\n",
        "ret_val= lambda x,y : (x+y)+(x*y)+(x**y)\n",
        "\n",
        "print(ret_val(2,3))\n",
        "print(ret_val(3,4))\n",
        "print(ret_val(4,-5))"
      ],
      "metadata": {
        "colab": {
          "base_uri": "https://localhost:8080/"
        },
        "id": "Sr_8eKL_E8oZ",
        "outputId": "81d0910d-59f0-44e0-afe6-dbce27d98a4b"
      },
      "execution_count": null,
      "outputs": [
        {
          "output_type": "stream",
          "name": "stdout",
          "text": [
            "19\n",
            "100\n",
            "-20.9990234375\n"
          ]
        }
      ]
    },
    {
      "cell_type": "markdown",
      "source": [
        "#How are lambda functions typically used in Python? Provide an example use case."
      ],
      "metadata": {
        "id": "Zx_RUFgTGt8E"
      }
    },
    {
      "cell_type": "code",
      "source": [
        "def funx(b):\n",
        "    return lambda a: (a+b) +(a*b)+(a**b)\n",
        "\n",
        "result=funx(3)\n",
        "\n",
        "print(result(2))\n",
        "print(result(3))\n",
        "print(result(4))\n",
        "\n",
        "\"\"\" Here we are passing a value to function funx(), then we are calculating using lambda function\n",
        "The output expression with unknown value a is stored in result. When we pass the value of a with result(2)\n",
        "it will complete the calculation by inserting value of a and prints finaloutput  \"\"\"\n",
        "\n",
        "print(result(-11))"
      ],
      "metadata": {
        "colab": {
          "base_uri": "https://localhost:8080/"
        },
        "id": "d0myDaDNGVc0",
        "outputId": "ab553595-e133-4271-ada4-9695796410c6"
      },
      "execution_count": null,
      "outputs": [
        {
          "output_type": "stream",
          "name": "stdout",
          "text": [
            "19\n",
            "42\n",
            "83\n",
            "-1372\n"
          ]
        }
      ]
    },
    {
      "cell_type": "markdown",
      "source": [
        "#What are the advantages and limitations of lambda functions compared to regular functions in Python?"
      ],
      "metadata": {
        "id": "OxO8-zOTJHRH"
      }
    },
    {
      "cell_type": "code",
      "source": [
        "#The advantages of lamda functions are readability ,simple and concise. We can use in functions as one line expressions.\n",
        "#The caluated value is stored in memory location,  so next time just by passing value we can get result\n",
        "\n",
        "#The disadvanatges we can not use for multiple statements. Because one line statements. Short functionality we use\n",
        "\n",
        "#Where as regular expression can be used for long coding purposes .\n",
        "\n",
        "#lambda function represents with lambda keyword where as regular function withn def keyword"
      ],
      "metadata": {
        "id": "XcrGbc6MHt5b"
      },
      "execution_count": null,
      "outputs": []
    },
    {
      "cell_type": "markdown",
      "source": [
        "#Are lambda functions in Python able to access variables defined outside of their own scope? Explain with an example."
      ],
      "metadata": {
        "id": "qCeSh5KrMKQA"
      }
    },
    {
      "cell_type": "code",
      "source": [
        "#Answer is YES\n",
        "\n",
        "#example\n",
        "def  funx(a):\n",
        "    y=a\n",
        "    result=lambda x: (x+y)+(x*y)+(x**y)\n",
        "    return result\n",
        "\n",
        "var=funx(3)\n",
        "print(var(5)) # here we are passing values to function from outside i.e 5"
      ],
      "metadata": {
        "colab": {
          "base_uri": "https://localhost:8080/"
        },
        "id": "i7ld-Xb-MN60",
        "outputId": "30b6db5f-86be-45b1-e6c1-83bc01beddb0"
      },
      "execution_count": null,
      "outputs": [
        {
          "output_type": "stream",
          "name": "stdout",
          "text": [
            "148\n"
          ]
        }
      ]
    },
    {
      "cell_type": "markdown",
      "source": [
        "#Write a lambda function to calculate the square of a given number."
      ],
      "metadata": {
        "id": "ypXqFUKlP3M4"
      }
    },
    {
      "cell_type": "code",
      "source": [
        "import math\n",
        "\n",
        "x= lambda a:math.pow(a,2)\n",
        "\n",
        "val=float(input(\"Enter Value::\"))\n",
        "print(x)  #lambda function\n",
        "print(x(val)) #input to lambda"
      ],
      "metadata": {
        "colab": {
          "base_uri": "https://localhost:8080/"
        },
        "id": "tGPqrRRrP6rt",
        "outputId": "97f6cd3a-969c-47ad-803b-fd6d0bf73c5f"
      },
      "execution_count": null,
      "outputs": [
        {
          "output_type": "stream",
          "name": "stdout",
          "text": [
            "Enter Value::6\n",
            "<function <lambda> at 0x7f87da2f9cf0>\n",
            "36.0\n"
          ]
        }
      ]
    },
    {
      "cell_type": "markdown",
      "source": [
        "#Create a lambda function to find the maximum value in a list of integers."
      ],
      "metadata": {
        "id": "O8jV9-HgVl1t"
      }
    },
    {
      "cell_type": "code",
      "source": [
        "\n",
        "L1=[2,4,6,8,4,10,12,15,24]\n",
        "\n",
        "max_val=lambda lst: max(lst)  #we are passing list L1 as input .finds max value from L1\n",
        "print(max_val(L1))"
      ],
      "metadata": {
        "colab": {
          "base_uri": "https://localhost:8080/"
        },
        "id": "mvi-WY9IMvVc",
        "outputId": "bf5f8e38-aa22-4eab-c93d-81d60db47bd3"
      },
      "execution_count": null,
      "outputs": [
        {
          "output_type": "stream",
          "name": "stdout",
          "text": [
            "24\n"
          ]
        }
      ]
    },
    {
      "cell_type": "markdown",
      "source": [
        "#Implement a lambda function to filter out all the even numbers from a list of integers."
      ],
      "metadata": {
        "id": "0vdmq3WDyalZ"
      }
    },
    {
      "cell_type": "code",
      "source": [
        "lst1=[2,3,4,6,7,9,12,15,16,17,18]\n",
        "\n",
        "x=lambda num: (num % 2) == 0\n",
        "print(type(x))  # x is a function\n",
        "\n",
        "print(tuple(filter(x,lst1)))\n",
        "\n",
        "#filter function takes i and nput as function name and iterable variable and generates output as enumerated object.\n",
        "#That we can convert into list or tuple or any iterable object\n",
        "\n",
        "#here x is lambda expression or function, lst1 is list iterable object"
      ],
      "metadata": {
        "colab": {
          "base_uri": "https://localhost:8080/"
        },
        "id": "caFg0T7sO6XS",
        "outputId": "78647fda-4270-4a3d-815b-6dd0671ec9cc"
      },
      "execution_count": null,
      "outputs": [
        {
          "output_type": "stream",
          "name": "stdout",
          "text": [
            "<class 'function'>\n",
            "(2, 4, 6, 12, 16, 18)\n"
          ]
        }
      ]
    },
    {
      "cell_type": "code",
      "source": [
        "lst1=[2,3,4,6,7,9,12,15,16,17,18]\n",
        "for i in range(len(lst1)):\n",
        "    x= lambda x :(x[i] % 2) == 0\n",
        "    x(lst1)\n",
        "\n",
        "    (print(\"even number::\" f\"{lst1[i]}\" if x(lst1) else \"\", end=\"    \"))\n"
      ],
      "metadata": {
        "colab": {
          "base_uri": "https://localhost:8080/"
        },
        "id": "NgTVGF0ud-pD",
        "outputId": "ffb67a01-2d56-4014-be74-e359f2d883e8"
      },
      "execution_count": null,
      "outputs": [
        {
          "output_type": "stream",
          "name": "stdout",
          "text": [
            "even number::2        even number::4    even number::6            even number::12        even number::16        even number::18    "
          ]
        }
      ]
    },
    {
      "cell_type": "code",
      "source": [
        "#List of even number\n",
        "lst1=[2,3,4,6,7,9,12,15,16,17,18]\n",
        "\n",
        "x=lambda num: num % 2 == 0  #Here lst1 will be sent to as input for num\n",
        "\n",
        "obj=filter(x,lst1)  # filter function takes x as function name, lst1 as iterable vaariable\n",
        "print(list(obj))"
      ],
      "metadata": {
        "id": "YmLJVfpOV6yA",
        "colab": {
          "base_uri": "https://localhost:8080/"
        },
        "outputId": "e83578ff-43a5-4c90-ada3-bd1fc1e8375d"
      },
      "execution_count": null,
      "outputs": [
        {
          "output_type": "stream",
          "name": "stdout",
          "text": [
            "[2, 4, 6, 12, 16, 18]\n"
          ]
        }
      ]
    },
    {
      "cell_type": "code",
      "source": [
        "#list of non even numbers\n",
        "lst2=[2,3,4,6,7,9,12,15,16,17,18]\n",
        "\n",
        "x= lambda num: num % 2 != 0   # here num value will be passed from filter function lst2 .\n",
        "\n",
        "obj=filter(x,lst2)   # filter function takes input as function name and iterable object\n",
        "print(list(obj))"
      ],
      "metadata": {
        "colab": {
          "base_uri": "https://localhost:8080/"
        },
        "id": "kspq1fzFzHZ_",
        "outputId": "63b7d537-6f3a-4b62-8191-4311f5bba091"
      },
      "execution_count": null,
      "outputs": [
        {
          "output_type": "stream",
          "name": "stdout",
          "text": [
            "[3, 7, 9, 15, 17]\n"
          ]
        }
      ]
    },
    {
      "cell_type": "markdown",
      "source": [
        "#Write a lambda function to sort a list of strings in ascending order based on the length of each string."
      ],
      "metadata": {
        "id": "icxUeGjVIc-U"
      }
    },
    {
      "cell_type": "code",
      "source": [
        "lst=[\"Apple\",\"Pomegranate\",\"Banana\",'cherry','Mangoes']\n",
        "\n",
        "z=sorted(lst,key=lambda lst:len(lst))\n",
        "\n",
        "\n",
        "print(z)  #sorted list with stirng length\n",
        "print(sorted(lst)) #sorted list in ascending  based ASCII character order. In ASCII upper case comes first then lower case"
      ],
      "metadata": {
        "colab": {
          "base_uri": "https://localhost:8080/"
        },
        "id": "24YTEoiCG9Q_",
        "outputId": "15cf78bf-bd12-4019-ec06-625d26d5dcb5"
      },
      "execution_count": null,
      "outputs": [
        {
          "output_type": "stream",
          "name": "stdout",
          "text": [
            "['Apple', 'Banana', 'cherry', 'Mangoes', 'Pomegranate']\n",
            "['Apple', 'Banana', 'Mangoes', 'Pomegranate', 'cherry']\n"
          ]
        }
      ]
    },
    {
      "cell_type": "code",
      "source": [],
      "metadata": {
        "id": "hf5xWcUbJEqm"
      },
      "execution_count": null,
      "outputs": []
    },
    {
      "cell_type": "markdown",
      "source": [
        "#Create a lambda function that takes two lists as input and returns a new list containing the common elements between the two lists."
      ],
      "metadata": {
        "id": "f0sAZthVhSkE"
      }
    },
    {
      "cell_type": "code",
      "source": [
        "ls1=[1,2,3,4,5,6]\n",
        "ls2=[3,5,7,9,11,4]\n",
        "\n",
        "x=lambda a,b: set(a).intersection(set(b))\n",
        "\"\"\"Takes ls1,ls2 as input and converts them to set and returns  lambda expression.\n",
        "Then we use intersection to group common elements then convert to list\"\"\"\n",
        "\n",
        "print(list(x(ls1,ls2)))"
      ],
      "metadata": {
        "colab": {
          "base_uri": "https://localhost:8080/"
        },
        "id": "K9QcKv6zhUWI",
        "outputId": "2c0d0808-50af-49b8-f1c3-80a2dadf297a"
      },
      "execution_count": null,
      "outputs": [
        {
          "output_type": "stream",
          "name": "stdout",
          "text": [
            "[3, 4, 5]\n"
          ]
        }
      ]
    },
    {
      "cell_type": "markdown",
      "source": [
        "#Write a recursive function to calculate the factorial of a given positive integer."
      ],
      "metadata": {
        "id": "lIGXd7Nwjqog"
      }
    },
    {
      "cell_type": "code",
      "source": [
        "def fun(n):\n",
        "\n",
        "    if n == 0  or n == 1:\n",
        "        return 1  # Because facorialof 0 and 1 is 1 bydefault\n",
        "\n",
        "    else:\n",
        "        result=n * fun(n-1) #4*(4-1=3)*(3-1=2)*(2-1=1)= 4*3*2*1=24\n",
        "        return result\n",
        "\n",
        "obj=fun(5)\n",
        "print(obj)"
      ],
      "metadata": {
        "colab": {
          "base_uri": "https://localhost:8080/"
        },
        "id": "Q-0sUHO7jrvW",
        "outputId": "006c6186-afa7-4588-992f-b499cdf1a332"
      },
      "execution_count": null,
      "outputs": [
        {
          "output_type": "stream",
          "name": "stdout",
          "text": [
            "120\n"
          ]
        }
      ]
    },
    {
      "cell_type": "markdown",
      "source": [
        "#Create a recursive function to find the sum of all the elements in a given list."
      ],
      "metadata": {
        "id": "lDVYMyNk877J"
      }
    },
    {
      "cell_type": "code",
      "source": [
        "def sum(n):\n",
        "    if n ==0 or n==1:\n",
        "        return 1\n",
        "    else:\n",
        "        total=n+sum(n-1)  #6+(6-1=5)+(5-1=4)+(4-1=3)+(3-1=2)+(2-1=1)=21\n",
        "        return total\n",
        "obj=sum(6)\n",
        "print(obj)"
      ],
      "metadata": {
        "colab": {
          "base_uri": "https://localhost:8080/"
        },
        "id": "ThMCyOil89IF",
        "outputId": "0d8a5c1e-8aef-4d38-a501-a44f3145770e"
      },
      "execution_count": null,
      "outputs": [
        {
          "output_type": "stream",
          "name": "stdout",
          "text": [
            "21\n"
          ]
        }
      ]
    },
    {
      "cell_type": "markdown",
      "source": [
        "#Write a recursive function to determine whether a given string is a palindrome."
      ],
      "metadata": {
        "id": "LkYwgWjX960i"
      }
    },
    {
      "cell_type": "code",
      "source": [
        "i=0\n",
        "def palindrom(val):\n",
        "    val=val\n",
        "\n",
        "\n",
        "    if len(val)<=1:\n",
        "        print(\"Palindrom\")\n",
        "    elif val[i]==val[-(i+1)]:\n",
        "        palindrom(val[i+1])\n",
        "\n",
        "        print(\"Palindrom\")\n",
        "    else:\n",
        "        print(\"Not Palindrome\")\n",
        "obj=palindrom(input('Enter String::\\n'))\n",
        "obj\n",
        "\n",
        "\n",
        "i=0\n",
        "def palindrom(val):\n",
        "    val=val\n",
        "\n",
        "\n",
        "    if len(val)<=1:\n",
        "        print(\"Palindrom\")\n",
        "    elif val[i]==val[-(i+1)]:\n",
        "        palindrom(val[i+1])\n",
        "\n",
        "        print(\"Palindrom\")\n",
        "    else:\n",
        "        print(\"Not Palindrome\")\n",
        "obj=palindrom(input('Enter String::\\n'))\n",
        "obj"
      ],
      "metadata": {
        "colab": {
          "base_uri": "https://localhost:8080/"
        },
        "id": "osY8f2DB3jrW",
        "outputId": "e2a7deb2-3013-44df-f012-3bdedf9c4e26"
      },
      "execution_count": null,
      "outputs": [
        {
          "output_type": "stream",
          "name": "stdout",
          "text": [
            "Enter String::\n",
            "radar\n",
            "Palindrom\n",
            "Palindrom\n",
            "Enter String::\n",
            "shiva\n",
            "Not Palindrome\n"
          ]
        }
      ]
    },
    {
      "cell_type": "markdown",
      "source": [
        "#Implement a recursive function to find the greatest common divisor (GCD) of two positive integers."
      ],
      "metadata": {
        "id": "yDNkHvFc-H-5"
      }
    },
    {
      "cell_type": "code",
      "source": [
        "def positive(n1,n2):\n",
        "    l1=[]\n",
        "    l2=[]\n",
        "    l3=[]\n",
        "    if n1 == 0 and n2 != 0:\n",
        "        return n2\n",
        "    elif n1 != 0 and n2 ==0:\n",
        "        return n1\n",
        "    else:\n",
        "#Greatest common divisor is divide the number without leaving any remainder\n",
        "\n",
        "#for 6 = 1,2,3,6\n",
        "#for 12 = 1,2,3,4,6,12\n",
        "#common of both is 3.\n",
        "\n",
        "        for i in range(1,n1+1):\n",
        "            for j in range(1,n2+1):\n",
        "                l1.append(i) if (n1 % i == 0) else  l3.append(i)\n",
        "                l2.append(j) if (n2 % j == 0)  else l3.append(j)\n",
        "\n",
        "\n",
        "\n",
        "    print(\"l1\",set(l1))\n",
        "    print(\"l2\",set(l2))\n",
        "    l3=(set(l1).intersection(set(l2)))\n",
        "    print(\"GCD :::\",max(l3))\n",
        "obj=positive(int(input(\"enter N1::\")),int(input(\"enter N2::\")))\n",
        "\n"
      ],
      "metadata": {
        "colab": {
          "base_uri": "https://localhost:8080/"
        },
        "id": "00ATKw2g-I6G",
        "outputId": "b41d7b90-50ee-4882-bb21-6a3ec0100d8b"
      },
      "execution_count": null,
      "outputs": [
        {
          "output_type": "stream",
          "name": "stdout",
          "text": [
            "enter N1::6\n",
            "enter N2::9\n",
            "l1 {1, 2, 3, 6}\n",
            "l2 {1, 3, 9}\n",
            "GCD ::: 3\n"
          ]
        }
      ]
    },
    {
      "cell_type": "code",
      "source": [
        "import math\n",
        "gcd=math.gcd(8,102)\n",
        "gcd"
      ],
      "metadata": {
        "colab": {
          "base_uri": "https://localhost:8080/"
        },
        "id": "Z0OLiTxqgy3f",
        "outputId": "55acf077-7844-4516-bc80-be4f20b3fd01"
      },
      "execution_count": 69,
      "outputs": [
        {
          "output_type": "execute_result",
          "data": {
            "text/plain": [
              "2"
            ]
          },
          "metadata": {},
          "execution_count": 69
        }
      ]
    },
    {
      "cell_type": "code",
      "source": [
        "#Recursive function()\n",
        "\n",
        "\n",
        "def positive(n1, n2):\n",
        "    l1 = []\n",
        "    l2 = []\n",
        "    l3=[]\n",
        "    def recur(i, j):\n",
        "\n",
        "\n",
        "        if i <= n1 and j <= n2:\n",
        "            l1.append(i) if n1 % i == 0 and i != n1 else l3.append(i)\n",
        "            l2.append(j) if n2 % j == 0 and j != n2 else l3.append(j)\n",
        "            recur(i + 1, j + 1)\n",
        "\n",
        "    recur(i=1, j=1)  #Initialvalues i=1,j=1\n",
        "    print(\"l1::\", set(l1)) #converts to set\n",
        "    print(\"l2::\", set(l2)) #converts to set\n",
        "    l3 = set(l1).intersection(set(l2)) #new set with l1,l2\n",
        "    print(\"GCD :::\", max(l3))\n",
        "\n",
        "obj = positive(6,9)\n",
        "print()\n",
        "obj=positive(24,42)"
      ],
      "metadata": {
        "id": "6faMEnIZB6vq",
        "colab": {
          "base_uri": "https://localhost:8080/"
        },
        "outputId": "3db25c73-9753-402e-e4c0-279b82e88300"
      },
      "execution_count": 95,
      "outputs": [
        {
          "output_type": "stream",
          "name": "stdout",
          "text": [
            "l1:: {1, 2, 3}\n",
            "l2:: {1, 3}\n",
            "GCD ::: 3\n",
            "\n",
            "l1:: {1, 2, 3, 4, 6, 8, 12}\n",
            "l2:: {1, 2, 3, 6, 7, 14, 21}\n",
            "GCD ::: 6\n"
          ]
        }
      ]
    },
    {
      "cell_type": "code",
      "source": [],
      "metadata": {
        "id": "fb0NSeMKiYvd"
      },
      "execution_count": null,
      "outputs": []
    }
  ]
}