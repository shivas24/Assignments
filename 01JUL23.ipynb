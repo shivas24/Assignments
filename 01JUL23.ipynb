{
  "cells": [
    {
      "cell_type": "markdown",
      "metadata": {
        "id": "view-in-github",
        "colab_type": "text"
      },
      "source": [
        "<a href=\"https://colab.research.google.com/github/shivas24/Assignments/blob/main/01JUL23.ipynb\" target=\"_parent\"><img src=\"https://colab.research.google.com/assets/colab-badge.svg\" alt=\"Open In Colab\"/></a>"
      ]
    },
    {
      "cell_type": "code",
      "execution_count": null,
      "metadata": {
        "id": "y7mO4GQLcrqP"
      },
      "outputs": [],
      "source": []
    },
    {
      "cell_type": "markdown",
      "metadata": {
        "id": "5G_GhghVcx12"
      },
      "source": [
        "#What is the primary goal of Object-Oriented Programming (OOP)?"
      ]
    },
    {
      "cell_type": "code",
      "execution_count": null,
      "metadata": {
        "id": "KxH0WgXMc0zV"
      },
      "outputs": [],
      "source": [
        "\"\"\"#The primary goal of an OOP is to readibilty,reusability of code, so that it makes coding is modular and simpler .\n",
        "\n",
        "It depends particularly on 4 topics i.e.\n",
        "\n",
        "1. encapsulation: defining a data into a single unit named as class to  perform set of operations\n",
        "in the form of functions with in the class.\n",
        "\n",
        "2. Abstraction:  Abstraction is  used to classifying the high complex data into classes so that can be\n",
        "able to access particular part of code when required. It can helps to hide the data which is not required\n",
        "\n",
        "3. Inheritance: which is used to acquired the data from one class toanother class, without writing the code again.\n",
        "To define the same variables again and again we use this inheritance method to access the data . Generally\n",
        "we call it as parent class and acquirer is child class\n",
        "\n",
        "4. Polymorphism : is the concept to use the same function in various times , but each time it runs different\n",
        "code of functionality.\n",
        "\n",
        "\n",
        "\"\"\""
      ]
    },
    {
      "cell_type": "markdown",
      "metadata": {
        "id": "GzMYApVXq6lT"
      },
      "source": [
        "#What is an object in Python?"
      ]
    },
    {
      "cell_type": "code",
      "execution_count": null,
      "metadata": {
        "colab": {
          "base_uri": "https://localhost:8080/"
        },
        "id": "hakrs26wq8Mx",
        "outputId": "752079e4-a581-417d-8429-db90c0e4f0be"
      },
      "outputs": [
        {
          "name": "stdout",
          "output_type": "stream",
          "text": [
            "Shiva\n"
          ]
        }
      ],
      "source": [
        "#Object is an instance of a class.\n",
        "\n",
        "class name:\n",
        "        name=\"Shiva\"\n",
        "\n",
        "obj=name()\n",
        "print(obj.name)\n",
        "\n",
        "#Here obj is the instance of class.it represenst the class name\n"
      ]
    },
    {
      "cell_type": "markdown",
      "metadata": {
        "id": "szTBP20F2Y9X"
      },
      "source": [
        "#What is class in python"
      ]
    },
    {
      "cell_type": "code",
      "execution_count": null,
      "metadata": {
        "colab": {
          "base_uri": "https://localhost:8080/"
        },
        "id": "Eqf6CEEY2bYl",
        "outputId": "db4f5889-4a39-480a-80dd-31a7aab8babc"
      },
      "outputs": [
        {
          "name": "stdout",
          "output_type": "stream",
          "text": [
            "Shhiva is First Name and SK is last Name\n",
            "Shhiva\n",
            "SK\n"
          ]
        }
      ],
      "source": [
        "#generally speaks class is a blueprint or replica for creating an object\n",
        "\n",
        "#Classes are constructors which will be initiialised whenever we call a class.\n",
        "#Typically class defines attributes and methods in OOPs.\n",
        "\n",
        "class person:\n",
        "\n",
        "\n",
        "        f_name=\"Shhiva\"\n",
        "        l_name=\"SK\"\n",
        "        print (f'{f_name} is First Name and {l_name} is last Name')\n",
        "\n",
        "obj=person\n",
        "print(obj.f_name)\n",
        "print(obj.l_name)\n"
      ]
    },
    {
      "cell_type": "markdown",
      "metadata": {
        "id": "g_po87EU5WNo"
      },
      "source": [
        "#What are attributes and methods in a class?"
      ]
    },
    {
      "cell_type": "code",
      "execution_count": null,
      "metadata": {
        "colab": {
          "base_uri": "https://localhost:8080/"
        },
        "id": "7-CHL9BzrHsB",
        "outputId": "8d6d2246-ece6-4b03-d533-5adebe109ae7"
      },
      "outputs": [
        {
          "name": "stdout",
          "output_type": "stream",
          "text": [
            "Name is::shivaPrrasad ,Age is ::45\n"
          ]
        }
      ],
      "source": [
        "class person:\n",
        "\n",
        "    full_name=\"Shivaprrasad SK\"  # is class attributed\n",
        "    def __init__(self,name,age):   # Is called as constructor or method instance\n",
        "        self.name=name                # instance attributes or variables\n",
        "        self.age=age                     # instance variable attribute\n",
        "\n",
        "    def __str__(self,name,age):    #instance method\n",
        "        return self.name,self.age\n",
        "\n",
        "obj=person(\"shivaPrrasad\",45)\n",
        "print(f\"Name is::{obj.name} ,Age is ::{obj.age}\")"
      ]
    },
    {
      "cell_type": "markdown",
      "metadata": {
        "id": "YQwF4kmz8AWS"
      },
      "source": [
        "#What is the difference between class variables and instance variables in Python?"
      ]
    },
    {
      "cell_type": "code",
      "execution_count": null,
      "metadata": {
        "colab": {
          "base_uri": "https://localhost:8080/"
        },
        "id": "mdGlMyle6CYe",
        "outputId": "bb8466ea-0114-4dd6-fa2c-48d0a5dd5f9f"
      },
      "outputs": [
        {
          "name": "stdout",
          "output_type": "stream",
          "text": [
            "Shiva 45\n",
            "Karthik 2\n",
            "Shiva Sunkaranam\n",
            "Shiva Sunkaranam\n"
          ]
        }
      ],
      "source": [
        "class person:\n",
        "    full_name=\"Shiva Sunkaranam\"  #class variable\n",
        "\n",
        "    def __init__(self,name,age):\n",
        "        self.name=name           #instance variable\n",
        "        self.age=age                 #instance variable\n",
        "    def __str__(self,name,age):\n",
        "        return f\"{self.name},{self.age}\"\n",
        "\n",
        "obj1=person(\"Shiva\",45)\n",
        "obj2=person(\"Karthik\",2)\n",
        "\n",
        "print(obj1.name,obj1.age)   #Accessing instance variables\n",
        "print(obj2.name,obj2.age)\n",
        "print(obj1.full_name)           #Accessing class variables\n",
        "print(obj2.full_name)\n"
      ]
    },
    {
      "cell_type": "markdown",
      "metadata": {
        "id": "uOIAzlAUBzRa"
      },
      "source": [
        "#What is the purpose of the self parameter in Python class methods?"
      ]
    },
    {
      "cell_type": "code",
      "execution_count": null,
      "metadata": {
        "colab": {
          "base_uri": "https://localhost:8080/"
        },
        "id": "brGKONP6BOkH",
        "outputId": "683cd1e2-9f4b-453a-b6a1-0502034c828b"
      },
      "outputs": [
        {
          "name": "stdout",
          "output_type": "stream",
          "text": [
            "karthik 45\n"
          ]
        }
      ],
      "source": [
        "#self variable defines as local  variable or instance variable of that class method\n",
        "\n",
        "class person:\n",
        "\n",
        "    def __init__(self,name,age):\n",
        "        self.name='karthik'   #Here self instance of this method and we are overwriting instance of name with local value\n",
        "        self.age=age\n",
        "    def __str__(self):\n",
        "\n",
        "        return f\"{self.name},{self.age}\"  # returns updated name and age\n",
        "\n",
        "obj=person(\"Shiva\",45)\n",
        "print(obj.name,obj.age)  #Prints updated name and age"
      ]
    },
    {
      "cell_type": "markdown",
      "metadata": {
        "id": "FTbHkjdCGYym"
      },
      "source": [
        "#For a library management system, you have to design the \"Book\" class with OOP principles in mind. The “Book” class will have following attributes:\n",
        "\n",
        "a. title: Represents the title of the book.\n",
        "\n",
        "b. author: Represents the author(s) of the book.\n",
        "\n",
        "c. isbn: Represents the ISBN (International Standard Book Number) of the book.\n",
        "\n",
        "d. publication_year: Represents the year of publication of the book.\n",
        "\n",
        "e. available_copies: Represents the number of copies available for checkout.\n",
        "\n",
        "\n",
        "The class will also include the following methods:\n",
        "\n",
        "a. check_out(self): Decrements the available copies by one if there are copies\n",
        "available for checkout.\n",
        "\n",
        "b. return_book(self): Increments the available copies by one when a book is\n",
        "returned.\n",
        "\n",
        "c. display_book_info(self): Displays the information about the book, including its attributes and the number of available copies."
      ]
    },
    {
      "cell_type": "code",
      "execution_count": 9,
      "metadata": {
        "colab": {
          "base_uri": "https://localhost:8080/"
        },
        "id": "b1yfKKBlFQ_f",
        "outputId": "1ee811fd-18e4-49e1-e479-6a208093eded"
      },
      "outputs": [
        {
          "output_type": "stream",
          "name": "stdout",
          "text": [
            "Book title:: The Secret\n",
            "Book Author:: Rhonda Byrne\n",
            "ISBN NUMBER:: ISBN1245\n",
            "Publish Year:: 2000\n",
            "Book Availability:: 12\n",
            "\n",
            "How many books you want to buy? :::\n",
            "0\n",
            "Wrong entry..Try Again.. Available Books:: 12\n",
            "\n",
            "Do you want to return this book? Press Y or N:::\n",
            "y\n",
            "Available Books:: 13\n"
          ]
        }
      ],
      "source": [
        "\n",
        "class Book:\n",
        "\n",
        "    def __init__(self,title,author,isbn,pub_year,avail):\n",
        "        self.title=title\n",
        "        self.author=author\n",
        "        self.isbn=isbn\n",
        "        self.publish_year=pub_year\n",
        "        self.available=avail\n",
        "\n",
        "\n",
        "    def check_out(self):\n",
        "        val=input(\"How many books you want to buy? :::\\n\")\n",
        "        if val.isdigit() and int(val) in range(1,12):\n",
        "            self.available -= int(val)\n",
        "            return self.available\n",
        "\n",
        "        else:\n",
        "            try:\n",
        "                print(\"Wrong entry..Try Again..\",\"Available Books::\",self.available)\n",
        "            except:\n",
        "                print(\"Error\")\n",
        "            #return val\n",
        "\n",
        "\n",
        "\n",
        "    def return_book(self):\n",
        "        val=input(\"\\nDo you want to return this book? Press Y or N:::\\n\")\n",
        "\n",
        "        if val.lower()== 'y':\n",
        "            self.available += 1\n",
        "            print(\"Available Books::\",self.available)\n",
        "        else:\n",
        "            print(\"Wrong entry..Try Again..\",\"Available Books::\",self.available)\n",
        "            print()\n",
        "\n",
        "\n",
        "    def display_book_info(self):\n",
        "        print(\"Book title::\",self.title)\n",
        "        print('Book Author::',self.author)\n",
        "        print(\"ISBN NUMBER::\",self.isbn)\n",
        "        print(\"Publish Year::\",self.publish_year)\n",
        "        print(\"Book Availability::\",self.available)\n",
        "\n",
        "\"\"\"\n",
        "The rulesare either he can a buy a bokk or return a book.Buth cant be done at a time.\n",
        "Wrong entries may result wrong data message\n",
        "This  is designed for same book or one book which is mentioned here.\n",
        "\"\"\"\n",
        "\n",
        "obj=Book(\"The Secret\",\"Rhonda Byrne\",\"ISBN1245\",2000,12)\n",
        "obj.display_book_info()\n",
        "print()\n",
        "\n",
        "\n",
        "obj1=obj.check_out()\n",
        "\n",
        "\n",
        "if (obj1):\n",
        "    print(\"Available Books::\",obj1)\n",
        "    #pass\n",
        "else:\n",
        "    obj.return_book()"
      ]
    },
    {
      "cell_type": "code",
      "execution_count": null,
      "metadata": {
        "id": "WgFCFfzSL-9N"
      },
      "outputs": [],
      "source": []
    },
    {
      "cell_type": "markdown",
      "metadata": {
        "id": "gWGo9z_8o0dQ"
      },
      "source": [
        "#For a ticket booking system, you have to design the \"Ticket\" class with OOP principles in mind. The “Ticket” class should have the following attributes:\n",
        "\n",
        "a. ticket_id: Represents the unique identifier for the ticket.\n",
        "\n",
        "b. event_name: Represents the name of the event.\n",
        "\n",
        "c. event_date: Represents the date of the event.\n",
        "\n",
        "d. venue: Represents the venue of the event.\n",
        "\n",
        "e. seat_number: Represents the seat number associated with the ticket.\n",
        "\n",
        "f. price: Represents the price of the ticket.\n",
        "\n",
        "g. is_reserved: Represents the reservation status of the ticket.\n",
        "\n",
        "The class also includes the following methods:\n",
        "\n",
        "a. reserve_ticket(self): Marks the ticket as reserved if it is not already reserved.\n",
        "\n",
        "b. cancel_reservation(self): Cancels the reservation of the ticket if it is already reserved.\n",
        "\n",
        "c. display_ticket_info(self): Displays the information about the ticket, including its attributes and reservation status."
      ]
    },
    {
      "cell_type": "code",
      "execution_count": 11,
      "metadata": {
        "colab": {
          "base_uri": "https://localhost:8080/"
        },
        "id": "V5C-OunYo_th",
        "outputId": "65b1b361-bc34-42da-b00f-c41b86a926e8"
      },
      "outputs": [
        {
          "output_type": "stream",
          "name": "stdout",
          "text": [
            "enter Tickets_Id::\n",
            "\n",
            "105\n",
            "Ticket_id:: 105\n",
            "Event_Name:: CricketMatch\n",
            "Event_Date:: 2023-12-08 16:41:46.358841\n",
            "Venue:: Chennai\n",
            "Seat_Number:: A123\n",
            "Price:: 250\n",
            "Is_Reserved:: Yes\n",
            "\n",
            "Ticket Reserved Successfully:: 105\n",
            "\n",
            "Reserved tickets::: [101, 102, 103, 104, 105]\n"
          ]
        }
      ],
      "source": [
        "import datetime\n",
        "\n",
        "class Ticket:\n",
        "\n",
        "    ticket_lst=[101,102,103,104]  #Created an empty list\n",
        "\n",
        "    def __init__(self,ticket_id,event_name,event_date,venue,seat_number,price,is_reserved):\n",
        "        self.ticket_id=ticket_id\n",
        "        self.event_name=event_name\n",
        "        self.event_date=event_date\n",
        "        self.venue=venue\n",
        "        self.seat_number=seat_number\n",
        "        self.price=price\n",
        "        self.is_reserved=is_reserved\n",
        "\n",
        "\n",
        "\n",
        "    def display_ticket_info(self):\n",
        "        print(\"Ticket_id::\",self.ticket_id)\n",
        "        print(\"Event_Name::\",self.event_name)\n",
        "        print(\"Event_Date::\",self.event_date)\n",
        "        print(\"Venue::\",self.venue)\n",
        "        print(\"Seat_Number::\",self.seat_number)\n",
        "        print(\"Price::\",self.price)\n",
        "        print(\"Is_Reserved::\",self.is_reserved)\n",
        "\n",
        "\n",
        "    def reserve_ticket(self):\n",
        "        self.ticket_lst.append(self.ticket_id) #Appends to list because does not exist\n",
        "        print(\"\\nTicket Reserved Successfully::\",self.ticket_id)\n",
        "\n",
        "\n",
        "\n",
        "    def cancel_reservation(self):\n",
        "        self.ticket_lst.remove(self.ticket_id) #Removes from list,because already exists\n",
        "        print(\"\\nTicket Cancelled Successfully:::\",self.ticket_id)\n",
        "\n",
        "\n",
        "\n",
        "ticket_id=int(input(\"enter Tickets_Id::\\n\\n\")) #Takes input as ticket_id\n",
        "\n",
        "obj=Ticket(ticket_id,event_name=\"CricketMatch\",event_date=datetime.datetime.now(),\n",
        "           venue=\"Chennai\",seat_number=\"A123\",price=250,is_reserved=\"Yes\") #created instance of class\n",
        "\n",
        "obj.display_ticket_info()  #displays ticket information\n",
        "\n",
        "if ticket_id not in obj.ticket_lst:    #If ticket_id not in  list executes reserve_ticket()\n",
        "    obj.reserve_ticket()\n",
        "\n",
        "else:\n",
        "    obj.cancel_reservation()  #Else executes cancel function\n",
        "\n",
        "\n",
        "print(\"\\nReserved tickets:::\",sorted(obj.ticket_lst))  #List of tickets already reserved in sorted form"
      ]
    },
    {
      "cell_type": "markdown",
      "metadata": {
        "id": "OYQJAGpmNyJj"
      },
      "source": [
        "#You are creating a shopping cart for an e-commerce website. Using OOP to model the \"ShoppingCart\" functionality the class should contain following attributes and methods:\n",
        "a. items: Represents the list of items in the shopping cart.\n",
        "\n",
        "The class also includes the following methods:\n",
        "\n",
        "a. add_item(self, item): Adds an item to the shopping cart by appending it to the list of items.\n",
        "\n",
        "b. remove_item(self, item): Removes an item from the shopping cart if it exists in the list.\n",
        "\n",
        "c. view_cart(self): Displays the items currently present in the shopping cart.\n",
        "\n",
        "d. clear_cart(self): Clears all items from the shopping cart by reassigning an\n",
        "empty list to the items attribute."
      ]
    },
    {
      "cell_type": "code",
      "execution_count": 15,
      "metadata": {
        "colab": {
          "base_uri": "https://localhost:8080/"
        },
        "id": "HtBa2-ds2xAS",
        "outputId": "0c7b3eff-dd5c-4164-d855-30f6c2b2c8f2"
      },
      "outputs": [
        {
          "output_type": "stream",
          "name": "stdout",
          "text": [
            "Enter Item name::Banana\n",
            "\n",
            "Banana added Successfully to Cart\n",
            "\n",
            "\n",
            "List of Items present in the cart are:::['Apples', 'Bananas', 'Banana']\n",
            "\n",
            "\n",
            "All  Items removed Successfully from the Cart are empty::[]\n",
            "\n",
            "\n",
            "List of Items present in the cart are:::[]\n",
            "\n",
            "\n"
          ]
        }
      ],
      "source": [
        "class items:\n",
        "\n",
        "    item_list=[\"Apples\",\"Bananas\"]\n",
        "\n",
        "    def __init__(self,item):\n",
        "        self.item=item\n",
        "\n",
        "    def add_item(self):\n",
        "        self.item_list.append(self.item)\n",
        "        print(f\"\\n{self.item} added Successfully to Cart\\n\\n\")\n",
        "\n",
        "    def remove_item(self):\n",
        "        self.item_list.remove(self.item)\n",
        "        print(f\"{self.item} Removed Successfully from the Cart \\n\\n \")\n",
        "\n",
        "    def view_cart(self):\n",
        "        print(f\"List of Items present in the cart are:::{self.item_list}\\n\\n\")\n",
        "\n",
        "    def clear_cart(self):\n",
        "        self.item_list.clear()\n",
        "        print(f\"All  Items removed Successfully from the Cart are empty::{self.item_list}\\n\\n\")\n",
        "\n",
        "item_name=input(\"Enter Item name::\")\n",
        "\n",
        "obj=items(item_name)\n",
        "\n",
        "if item_name not in obj.item_list:\n",
        "    obj.add_item()\n",
        "else:\n",
        "    obj.remove_item()\n",
        "\n",
        "obj.view_cart()\n",
        "obj.clear_cart()\n",
        "obj.view_cart()\n",
        "\n"
      ]
    },
    {
      "cell_type": "code",
      "execution_count": null,
      "metadata": {
        "id": "j5h5K7ZgyD8K"
      },
      "outputs": [],
      "source": []
    },
    {
      "cell_type": "markdown",
      "metadata": {
        "id": "44QWMT6a9A0I"
      },
      "source": [
        "#Imagine a school management system. You have to design the \"Student\" class using OOP concepts.The “Student” class has the following attributes:\n",
        "\n",
        "a. name: Represents the name of the student.\n",
        "\n",
        "b. age: Represents the age of the student.\n",
        "\n",
        "c. grade: Represents the grade or class of the student.\n",
        "\n",
        "d. student_id: Represents the unique identifier for the student.\n",
        "\n",
        "e. attendance: Represents the attendance record of the student.\n",
        "\n",
        "The class should also include the following methods:\n",
        "\n",
        "a. update_attendance(self, date, status): Updates the attendance record of the\n",
        "student for a given date with the provided status (e.g., present or absent).\n",
        "\n",
        "b. get_attendance(self): Returns the attendance record of the student.\n",
        "\n",
        "c. get_average_attendance(self): Calculates and returns the average\n",
        "attendance percentage of the student based on their attendance record.\n"
      ]
    },
    {
      "cell_type": "code",
      "execution_count": 16,
      "metadata": {
        "colab": {
          "base_uri": "https://localhost:8080/"
        },
        "id": "OzAqnOot9NnE",
        "outputId": "1cfe1b55-1f5b-494d-bf9e-568f0bf70510"
      },
      "outputs": [
        {
          "output_type": "stream",
          "name": "stdout",
          "text": [
            "\n",
            "karthik attendance status as on 06/01/23 is Present\n",
            "\n",
            "\n",
            "\n",
            "karthik attendance status as on 06/02/23 is Present\n",
            "\n",
            "\n",
            "\n",
            "karthik attendance status as on 06/03/23 is Absent\n",
            "\n",
            "\n",
            "<class 'datetime.datetime'> <class 'str'>\n",
            "['karthik', '06/01/23', 'Present', 'karthik', '06/02/23', 'Present', 'karthik', '06/03/23', 'Absent']\n",
            "\n",
            "Total Present is:: 2\n",
            "\n",
            "Total Absent is:: 1\n",
            "\n",
            "Average of Attendance::: 66.66666666666666 %\n"
          ]
        }
      ],
      "source": [
        "import math\n",
        "import datetime\n",
        "\n",
        "class Student:\n",
        "\n",
        "    atten_rec=[]\n",
        "\n",
        "\n",
        "    def __init__(self,name,age,grade,id,status):\n",
        "        self.name=name\n",
        "        self.age=age\n",
        "        self.grade=grade\n",
        "        self.student_id=id\n",
        "        self.status=status\n",
        "\n",
        "        self.atten_rec.append(self.name)\n",
        "\n",
        "\n",
        "    def update_attendance(self,date,status):\n",
        "        self.date=date\n",
        "        self.status=self.status\n",
        "        self.atten_rec.append(self.date)\n",
        "        self.atten_rec.append(self.status)\n",
        "\n",
        "        print(f\"\\n{self.name} attendance status as on {self.date} is {self.status}\\n\\n\")\n",
        "\n",
        "    def get_attendance(self):\n",
        "\n",
        "        print(self.atten_rec,end=\"\\n\")\n",
        "\n",
        "    def get_average_attendance(self):\n",
        "        present=0\n",
        "        absent=0\n",
        "        for i in range(len(self.atten_rec)):\n",
        "            if self.atten_rec[i] == \"Present\":\n",
        "                present += 1\n",
        "            elif self.atten_rec[i] ==\"Absent\":\n",
        "                absent += 1\n",
        "            else:\n",
        "                pass\n",
        "        print(\"\\nTotal Present is::\",present)\n",
        "        print(\"\\nTotal Absent is::\",absent)\n",
        "        count=present+absent\n",
        "        average= present/count*100\n",
        "\n",
        "        print(\"\\nAverage of Attendance:::\",average,\"%\")\n",
        "\n",
        "obj=Student(\"karthik\",8,4,\"A001\",\"Present\")\n",
        "x=datetime.datetime(2023,6,1)\n",
        "obj.update_attendance(x.strftime(\"%x\"),'Present')\n",
        "\n",
        "obj1=Student(\"karthik\",8,4,\"A001\",\"Present\")\n",
        "x=datetime.datetime(2023,6,2)\n",
        "obj1.update_attendance(x.strftime(\"%x\"),'Present')\n",
        "\n",
        "obj2=Student(\"karthik\",8,4,\"A001\",\"Absent\")\n",
        "x=datetime.datetime(2023,6,3)\n",
        "obj2.update_attendance(x.strftime(\"%x\"),'Absent')\n",
        "#print(type(x),type(x.strftime(\"%x\")))\n",
        "obj.get_attendance()\n",
        "\n",
        "obj.get_average_attendance()\n"
      ]
    },
    {
      "cell_type": "code",
      "execution_count": null,
      "metadata": {
        "id": "fiAmaVU-txyY"
      },
      "outputs": [],
      "source": []
    }
  ],
  "metadata": {
    "colab": {
      "provenance": [],
      "authorship_tag": "ABX9TyMt9ttlzR0Gx/9ZwxUU4uDm",
      "include_colab_link": true
    },
    "kernelspec": {
      "display_name": "Python 3",
      "name": "python3"
    },
    "language_info": {
      "name": "python"
    }
  },
  "nbformat": 4,
  "nbformat_minor": 0
}