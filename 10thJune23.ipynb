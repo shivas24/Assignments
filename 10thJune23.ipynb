{
  "nbformat": 4,
  "nbformat_minor": 0,
  "metadata": {
    "colab": {
      "provenance": [],
      "authorship_tag": "ABX9TyOAdeunGyuALN0IZSYLQ9zl",
      "include_colab_link": true
    },
    "kernelspec": {
      "name": "python3",
      "display_name": "Python 3"
    },
    "language_info": {
      "name": "python"
    }
  },
  "cells": [
    {
      "cell_type": "markdown",
      "metadata": {
        "id": "view-in-github",
        "colab_type": "text"
      },
      "source": [
        "<a href=\"https://colab.research.google.com/github/shivas24/Assignments/blob/main/10thJune23.ipynb\" target=\"_parent\"><img src=\"https://colab.research.google.com/assets/colab-badge.svg\" alt=\"Open In Colab\"/></a>"
      ]
    },
    {
      "cell_type": "code",
      "execution_count": null,
      "metadata": {
        "id": "QdPQ0q3mC1FU"
      },
      "outputs": [],
      "source": []
    },
    {
      "cell_type": "markdown",
      "source": [
        "#In Python, what is the difference between a built-in function and a user-defined function? Provide an example of each."
      ],
      "metadata": {
        "id": "GgOxbE_EHSsO"
      }
    },
    {
      "cell_type": "code",
      "source": [
        "#built in functions in python are predefined functions where as user defined functions are designed by programmer as per requirement\n",
        "\n",
        "#built in functions are like len(),print(),max().etc..\n",
        "\n",
        "a=\"Shyam\"\n",
        "print(len(a))\n",
        "\n",
        "#User defined function\n",
        "\n",
        "def hello():   # User defined function defined with def\n",
        "    print(\"Hello\")\n",
        "\n",
        "hello()  # we need to call the function"
      ],
      "metadata": {
        "colab": {
          "base_uri": "https://localhost:8080/"
        },
        "id": "VY5pk9fMHVIV",
        "outputId": "90c812b1-f805-479b-c481-c5bc8b756ec3"
      },
      "execution_count": null,
      "outputs": [
        {
          "output_type": "stream",
          "name": "stdout",
          "text": [
            "5\n",
            "Hello\n"
          ]
        }
      ]
    },
    {
      "cell_type": "markdown",
      "source": [
        "# How can you pass arguments to a function in Python? Explain the difference between positional arguments and keyword arguments."
      ],
      "metadata": {
        "id": "88Eqk9PXJNWQ"
      }
    },
    {
      "cell_type": "code",
      "source": [
        "#Positional arguments are passed accoding to the position of parameter\n",
        "\n",
        "def name(name,age,gender):\n",
        "    name=name\n",
        "    age=age\n",
        "    gender=gender\n",
        "\n",
        "    print(\"Name::\",name,\"Age::\",age,\"Gender::\",gender)\n",
        "\n",
        "name(\"Shiva\",45,\"Male\")  #Positional arguments.we need topass according to position else get wrong answer\n",
        "name(\"Shiva\",\"Male\",45)   #Gives wrong answer\n",
        "\n",
        "#Keyword arguments are used to overcome above error, by passing key vaues\n",
        "print(\"\\nkeyword argument\\n\")\n",
        "def name(name,age,gender):\n",
        "    name=name\n",
        "    age=age\n",
        "    gender=gender\n",
        "\n",
        "    print(f\"Name::{name},Age ::,{age},gender::,{gender}\")\n",
        "\n",
        "name(name=\"Shivaprrasad\",gender='male',age=45)  #Passing vaues as per keywords\n",
        "\n"
      ],
      "metadata": {
        "colab": {
          "base_uri": "https://localhost:8080/"
        },
        "id": "mC_4gKlCILb8",
        "outputId": "34b71db7-e964-4561-8a88-29000edd0ee1"
      },
      "execution_count": null,
      "outputs": [
        {
          "output_type": "stream",
          "name": "stdout",
          "text": [
            "Name:: Shiva Age:: 45 Gender:: Male\n",
            "Name:: Shiva Age:: Male Gender:: 45\n",
            "\n",
            "keyword argument\n",
            "\n",
            "Name::Shivaprrasad,Age ::,45,gender::,male\n"
          ]
        }
      ]
    },
    {
      "cell_type": "code",
      "source": [],
      "metadata": {
        "id": "VFxjeoN3LyxG"
      },
      "execution_count": null,
      "outputs": []
    },
    {
      "cell_type": "markdown",
      "source": [
        "#What is the purpose of the return statement in a function? Can a function have multiple return statements? Explain with an example."
      ],
      "metadata": {
        "id": "8EvsNebMRtUe"
      }
    },
    {
      "cell_type": "code",
      "source": [
        "#Return statement can be used to return the value after performing cetian calculations or coding.\n",
        "#we can have multiple return statement but it passes only first return value\n",
        "\n",
        "def sum(a,b,c):\n",
        "    x=a+b\n",
        "    y=b+c\n",
        "    z=a+c\n",
        "\n",
        "    return x,y,z  #Here all values will be returned\n",
        "\n",
        "value=sum(2,3,5)\n",
        "print(value)  #Here prints returned valuesx,y,z\n",
        "\n"
      ],
      "metadata": {
        "colab": {
          "base_uri": "https://localhost:8080/"
        },
        "id": "rKR-Q-htRxdC",
        "outputId": "5ead40f9-bd3d-403c-df11-ef98cc8ecec7"
      },
      "execution_count": null,
      "outputs": [
        {
          "output_type": "stream",
          "name": "stdout",
          "text": [
            "(5, 8, 7)\n"
          ]
        }
      ]
    },
    {
      "cell_type": "code",
      "source": [
        "def sum(a,b,c):\n",
        "    x=a+b\n",
        "    y=b+c\n",
        "    z=a+c\n",
        "\n",
        "    return x  # here it returns x value only\n",
        "    return y   #ignored\n",
        "    return z  #ignored\n",
        "\n",
        "value=sum(2,3,5)\n",
        "print(value)"
      ],
      "metadata": {
        "colab": {
          "base_uri": "https://localhost:8080/"
        },
        "id": "Uba1lnFufBfs",
        "outputId": "86a0d873-70ad-495e-acfe-5131298050ca"
      },
      "execution_count": null,
      "outputs": [
        {
          "output_type": "stream",
          "name": "stdout",
          "text": [
            "5\n"
          ]
        }
      ]
    },
    {
      "cell_type": "markdown",
      "source": [
        "#What are lambda functions in Python? How are they different from regular functions? Provide an example where a lambda function can be useful."
      ],
      "metadata": {
        "id": "UsHcvCJvUMXa"
      }
    },
    {
      "cell_type": "code",
      "source": [
        "#LAMbdA function takes multiple exprssion or values to perform a single calculation\n",
        "\n",
        "def lam():\n",
        "    return lambda a:(a+3)+(a*3)+(a**3)\n",
        "\n",
        "val=lam()  # Here it stores by performing calculations and stores expression\n",
        "\n",
        "print(val)  #prints memory location\n",
        "print(val(5))  # passing value as 5\n",
        "print(val(6))  #passing value as 6\n"
      ],
      "metadata": {
        "colab": {
          "base_uri": "https://localhost:8080/"
        },
        "id": "x-anBUyTSOlY",
        "outputId": "fc4fe2ea-19e5-4d10-bf19-80e5c3b889d2"
      },
      "execution_count": null,
      "outputs": [
        {
          "output_type": "stream",
          "name": "stdout",
          "text": [
            "<function lam.<locals>.<lambda> at 0x7a08be7fd7e0>\n",
            "148\n",
            "243\n"
          ]
        }
      ]
    },
    {
      "cell_type": "code",
      "source": [
        "#prints initial value, then takes multiple values to calculate and prints\n",
        "def lam():\n",
        "    x=lambda a: (a+3)  + (a*3) + (a**3)\n",
        "    #return lambda a:(a+3)+(a*3)+(a**3)\n",
        "    return x\n",
        "\n",
        "val=lam()\n",
        "\n",
        "print(val(5))\n",
        "print(val(6))"
      ],
      "metadata": {
        "colab": {
          "base_uri": "https://localhost:8080/"
        },
        "id": "1PkdoL1pVkeO",
        "outputId": "7d244996-4273-4355-9024-4228ae837842"
      },
      "execution_count": null,
      "outputs": [
        {
          "output_type": "stream",
          "name": "stdout",
          "text": [
            "148\n",
            "243\n"
          ]
        }
      ]
    },
    {
      "cell_type": "markdown",
      "source": [
        "# How does the concept of \"scope\" apply to functions in Python? Explain the difference between localscope and global scope."
      ],
      "metadata": {
        "id": "iyUunSTlhNIT"
      }
    },
    {
      "cell_type": "code",
      "source": [
        "#scopewhich defines the validity of that variable\n",
        "#In python functions local and global aer scope of variables\n",
        "#local scope validity is with in the functions\n",
        "#global scope validity is even also outiside function\n",
        "\n",
        "def sco():\n",
        "\n",
        "    x=5\n",
        "    print(x)\n",
        "sco()\n",
        "print(x)  #throws error because x is using outside function, where as x is inside variable of sco()\n"
      ],
      "metadata": {
        "colab": {
          "base_uri": "https://localhost:8080/",
          "height": 227
        },
        "id": "KvX_QRhufRQb",
        "outputId": "33a8aabd-be66-4d99-a907-85d5bc598caf"
      },
      "execution_count": null,
      "outputs": [
        {
          "output_type": "stream",
          "name": "stdout",
          "text": [
            "5\n"
          ]
        },
        {
          "output_type": "error",
          "ename": "NameError",
          "evalue": "ignored",
          "traceback": [
            "\u001b[0;31m---------------------------------------------------------------------------\u001b[0m",
            "\u001b[0;31mNameError\u001b[0m                                 Traceback (most recent call last)",
            "\u001b[0;32m<ipython-input-89-7bebac498ee8>\u001b[0m in \u001b[0;36m<cell line: 11>\u001b[0;34m()\u001b[0m\n\u001b[1;32m      9\u001b[0m     \u001b[0mprint\u001b[0m\u001b[0;34m(\u001b[0m\u001b[0mx\u001b[0m\u001b[0;34m)\u001b[0m\u001b[0;34m\u001b[0m\u001b[0;34m\u001b[0m\u001b[0m\n\u001b[1;32m     10\u001b[0m \u001b[0msco\u001b[0m\u001b[0;34m(\u001b[0m\u001b[0;34m)\u001b[0m\u001b[0;34m\u001b[0m\u001b[0;34m\u001b[0m\u001b[0m\n\u001b[0;32m---> 11\u001b[0;31m \u001b[0mprint\u001b[0m\u001b[0;34m(\u001b[0m\u001b[0mx\u001b[0m\u001b[0;34m)\u001b[0m  \u001b[0;31m#throws error because x is using outside function, where as x is inside variable of sco()\u001b[0m\u001b[0;34m\u001b[0m\u001b[0;34m\u001b[0m\u001b[0m\n\u001b[0m",
            "\u001b[0;31mNameError\u001b[0m: name 'x' is not defined"
          ]
        }
      ]
    },
    {
      "cell_type": "code",
      "source": [
        "def sco():\n",
        "    global x\n",
        "    x=5\n",
        "    print(x)\n",
        "\n",
        "sco()\n",
        "print(x)  # Here x is defined as global variable using keyword global"
      ],
      "metadata": {
        "colab": {
          "base_uri": "https://localhost:8080/"
        },
        "id": "MBlpZQO_hqbv",
        "outputId": "15e17b58-8459-4e7d-ad7a-5c3bfe060415"
      },
      "execution_count": null,
      "outputs": [
        {
          "output_type": "stream",
          "name": "stdout",
          "text": [
            "5\n",
            "5\n"
          ]
        }
      ]
    },
    {
      "cell_type": "markdown",
      "source": [
        "#How can you use the \"return\" statement in a Python function to return multiple values?"
      ],
      "metadata": {
        "id": "tTaMFEKMkewT"
      }
    },
    {
      "cell_type": "code",
      "source": [
        "#Returns single value\n",
        "def func(a,b,c):\n",
        "    a1=a\n",
        "    b1=b\n",
        "    c1=c\n",
        "\n",
        "    x=a1+b1\n",
        "    y=b1+c1\n",
        "    z=a1+c1\n",
        "\n",
        "    return x   # this value only return\n",
        "    return y   #ignored\n",
        "    return z   #ignored\n",
        "\n",
        "\n",
        "val=func(1,2,3)\n",
        "print(val)\n"
      ],
      "metadata": {
        "colab": {
          "base_uri": "https://localhost:8080/"
        },
        "id": "hlAqsUHCkTHr",
        "outputId": "fd8fa39c-5d38-4232-a57b-0678afe54ed4"
      },
      "execution_count": null,
      "outputs": [
        {
          "output_type": "stream",
          "name": "stdout",
          "text": [
            "3\n"
          ]
        }
      ]
    },
    {
      "cell_type": "code",
      "source": [
        "#Returns multiple values\n",
        "def func(a,b,c):\n",
        "    a1=a\n",
        "    b1=b\n",
        "    c1=c\n",
        "\n",
        "    x=a1+b1\n",
        "    y=b1+c1\n",
        "    z=a1+c1\n",
        "\n",
        "    return x,y,z\n",
        "\n",
        "\n",
        "val=func(1,2,3)\n",
        "print(val)"
      ],
      "metadata": {
        "colab": {
          "base_uri": "https://localhost:8080/"
        },
        "id": "7wb6Hfo3k7_x",
        "outputId": "6270cfe3-eb94-4554-9737-d8476193d2e9"
      },
      "execution_count": null,
      "outputs": [
        {
          "output_type": "stream",
          "name": "stdout",
          "text": [
            "(3, 5, 4)\n"
          ]
        }
      ]
    },
    {
      "cell_type": "markdown",
      "source": [
        "#What is the difference between the \"pass by value\" and \"pass by reference\" concepts when it comes to function arguments in Python?"
      ],
      "metadata": {
        "id": "U0n-aOM5lnbD"
      }
    },
    {
      "cell_type": "code",
      "source": [
        "#pass by value means passing value directly to function\n",
        "\n",
        "def fun(a,b):\n",
        "    sum=a+b\n",
        "    print(\"Pass by Value::\",sum)\n",
        "\n",
        "fun(2,3)\n",
        "\n",
        "#pass by refernce means passing value through an object\n",
        "def fun(a,b):\n",
        "    sum =a+b\n",
        "    return sum\n",
        "print(\"Pass by Value::\",fun(2,3))  #Pass by value directly to function\n",
        "obj=fun(2,3) #Creating reference\n",
        "obj #Reference object\n",
        "print(\"Pass by Object reference:\",obj) #Calling function throguh reference\n"
      ],
      "metadata": {
        "colab": {
          "base_uri": "https://localhost:8080/"
        },
        "id": "OpoVPVmHlaCO",
        "outputId": "e5600717-0b19-424f-baa0-c143679b06a8"
      },
      "execution_count": null,
      "outputs": [
        {
          "output_type": "stream",
          "name": "stdout",
          "text": [
            "Pass by Value:: 5\n",
            "Pass by Value:: 5\n",
            "Pass by Object reference: 5\n"
          ]
        }
      ]
    },
    {
      "cell_type": "code",
      "source": [
        "def fun(a,b):\n",
        "    sum=a+b\n",
        "    #print(\"Pass by Value::\",sum)\n",
        "\n",
        "print(fun(2,3))  #prints none because here we didnt use return statement, nor print inside function\n",
        "obj=fun(2,3)  # function had no return  statement\n",
        "print(obj) #Prints None\n",
        "#bydefault it prints None because function not returning nor we have not created an object"
      ],
      "metadata": {
        "colab": {
          "base_uri": "https://localhost:8080/"
        },
        "id": "bkpPYuu6mwEv",
        "outputId": "1f469545-3829-455c-c09d-4207b714881b"
      },
      "execution_count": null,
      "outputs": [
        {
          "output_type": "stream",
          "name": "stdout",
          "text": [
            "None\n",
            "None\n"
          ]
        }
      ]
    },
    {
      "cell_type": "markdown",
      "source": [
        "#Create a function that can intake integer or decimal value and do following operations:\n",
        "a. Logarithmic function (log x)\n",
        "\n",
        "b. Exponential function (exp(x))\n",
        "\n",
        "c. Power function with base 2 (2x)\n",
        "\n",
        "d. Square root"
      ],
      "metadata": {
        "id": "Vm9sHPQhp6hy"
      }
    },
    {
      "cell_type": "code",
      "source": [
        "import math\n",
        "\n",
        "def cal(val):\n",
        "    a=math.log(val)\n",
        "    b=math.exp(val)\n",
        "    c=math.pow(2,val)\n",
        "    d=math.sqrt(val)\n",
        "\n",
        "    print(\"log Values is::\",a)\n",
        "    print(\"Exponential is::\",b)\n",
        "    print(\"Power function is::\",c)\n",
        "    print(\"Square root  is::\",d)\n",
        "\n",
        "    return a,b,c,d\n",
        "x=cal(5)\n",
        "print(x)"
      ],
      "metadata": {
        "colab": {
          "base_uri": "https://localhost:8080/"
        },
        "id": "nZs9J85LoFL2",
        "outputId": "7fe7fb45-3b4c-495b-e6b0-ac8d84a8ad1f"
      },
      "execution_count": null,
      "outputs": [
        {
          "output_type": "stream",
          "name": "stdout",
          "text": [
            "log Values is:: 1.6094379124341003\n",
            "Exponential is:: 148.4131591025766\n",
            "Power function is:: 32.0\n",
            "Square root  is:: 2.23606797749979\n",
            "(1.6094379124341003, 148.4131591025766, 32.0, 2.23606797749979)\n"
          ]
        }
      ]
    },
    {
      "cell_type": "code",
      "source": [
        "import math\n",
        "\n",
        "def cal(val):\n",
        "    a=math.log(val)\n",
        "    b=math.exp(val)\n",
        "    c=math.pow(2,val)\n",
        "    d=math.sqrt(val)\n",
        "\n",
        "    print(\"log Values is::\",a)\n",
        "    print(\"Exponential is::\",b)\n",
        "    print(\"Power function is::\",c)\n",
        "    print(\"Square root  is::\",d)\n",
        "\n",
        "    return a,b,c,d\n",
        "x=cal(2.25)\n",
        "print(x)"
      ],
      "metadata": {
        "colab": {
          "base_uri": "https://localhost:8080/"
        },
        "id": "uG4zPgVuqjE6",
        "outputId": "c7043db8-c6c7-43a7-d51f-b7622b0992bb"
      },
      "execution_count": null,
      "outputs": [
        {
          "output_type": "stream",
          "name": "stdout",
          "text": [
            "log Values is:: 0.8109302162163288\n",
            "Exponential is:: 9.487735836358526\n",
            "Power function is:: 4.756828460010884\n",
            "Square root  is:: 1.5\n",
            "(0.8109302162163288, 9.487735836358526, 4.756828460010884, 1.5)\n"
          ]
        }
      ]
    },
    {
      "cell_type": "markdown",
      "source": [
        "#Create a function that takes a full name as an argument and returns first name and last name"
      ],
      "metadata": {
        "id": "eV_yVeex4emg"
      }
    },
    {
      "cell_type": "code",
      "source": [
        "def name(name):\n",
        "    name=name.split(\" \")\n",
        "    print(\"First Name is::\",name[0])\n",
        "    print(\"Last Name is::\",name[1])\n",
        "\n",
        "name(\"SHIVAPRRASAD SunK\")\n"
      ],
      "metadata": {
        "colab": {
          "base_uri": "https://localhost:8080/"
        },
        "id": "BRxEDxaK4g22",
        "outputId": "becaab49-fd09-419a-c004-f37745fa1052"
      },
      "execution_count": null,
      "outputs": [
        {
          "output_type": "stream",
          "name": "stdout",
          "text": [
            "First Name is:: SHIVAPRRASAD\n",
            "Last Name is:: SunK\n"
          ]
        }
      ]
    },
    {
      "cell_type": "code",
      "source": [
        "def name(name):\n",
        "    name=name.split(\" \")\n",
        "    print(\"First Name is::\",name[0])\n",
        "    print(\"Last Name is::\",name[1])\n",
        "\n",
        "name(input(\"Enter First Name and Last Name followed by whitespace::\\n\"))"
      ],
      "metadata": {
        "colab": {
          "base_uri": "https://localhost:8080/"
        },
        "id": "vxKfhd167cuM",
        "outputId": "e14a44ce-a163-48a1-b3a9-6d864dac4159"
      },
      "execution_count": null,
      "outputs": [
        {
          "output_type": "stream",
          "name": "stdout",
          "text": [
            "Enter First Name and Last Name followed by whitespace::\n",
            "shivaprrasad Sunk\n",
            "First Name is:: shivaprrasad\n",
            "Last Name is:: Sunk\n"
          ]
        }
      ]
    },
    {
      "cell_type": "code",
      "source": [],
      "metadata": {
        "id": "PdC6Rex_-cvQ"
      },
      "execution_count": null,
      "outputs": []
    }
  ]
}