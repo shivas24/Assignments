{
 "cells": [
  {
   "cell_type": "code",
   "execution_count": null,
   "id": "34aa736c",
   "metadata": {},
   "outputs": [],
   "source": [
    "1. In the below elements which of them are values or an expression? \n",
    "eg:- values can be integer or string and expressions will be mathematical operators.\n",
    "    \n",
    "*   is expression or variable operator according to the given data\n",
    "A=10    a1=A*3\t=30\n",
    "A=\"Hi\"\ta2=A*3\t=HiHiHi\n",
    "'hello'\t= value\n",
    "-87.8\t=value\n",
    "- =expression\n",
    "/ =expression\n",
    "+ =expression\n",
    "6 =value"
   ]
  },
  {
   "cell_type": "code",
   "execution_count": null,
   "id": "8f21a4af",
   "metadata": {},
   "outputs": [],
   "source": [
    "2. What is the difference between string and variable?\n",
    "String is a data type in python. Variable is a storage container, which stores the assigned data type either be integer, \n",
    "float or string or Boolean.  \n",
    "\n",
    "Name= ”Shivaprrasad”   #Here Name is string data type\n",
    "Value=5\t #Value is variable which stores any value\t"
   ]
  },
  {
   "cell_type": "code",
   "execution_count": null,
   "id": "f9d4af09",
   "metadata": {},
   "outputs": [],
   "source": [
    "3. Describe three different data types.\n",
    "In python there are several data types like \n",
    "\n",
    "Integers =to  represent integers to represent integer values\n",
    "Float\t= to represent with decimal values\n",
    "Strings\t= to represent text values\n",
    "Lists= to represent set of integer , float or strings\n",
    "Other data types also like tuple, dictionary, sets  etc.."
   ]
  },
  {
   "cell_type": "code",
   "execution_count": null,
   "id": "75468dcc",
   "metadata": {},
   "outputs": [],
   "source": [
    "4. What is an expression made up of? What do all expressions do?\n",
    "An expression is used to operate some set of calculations or a code to produce an output value .\n",
    "it can be used to perform the some set of operations and new value be assigned to new variable"
   ]
  },
  {
   "cell_type": "code",
   "execution_count": null,
   "id": "bc13d83d",
   "metadata": {},
   "outputs": [],
   "source": [
    "5. This assignment statements, like spam = 10. What is the difference between an expression and a statement?\n",
    "Here we are assigning the value 10 to a variable spam. \n",
    "\n",
    "Spam =10  # expression\n",
    "Spam=spam *3 #Expression\n",
    "Print(spam)\t# Statement\n",
    "Expressions produce a value where as statement to perform an action, it may not produce value"
   ]
  },
  {
   "cell_type": "code",
   "execution_count": null,
   "id": "2f0bc3ce",
   "metadata": {},
   "outputs": [],
   "source": [
    "6. After running the following code, what does the variable bacon contain?\n",
    "bacon = 22\n",
    "bacon + 1\n",
    "print(bacon) = 22 only. Because after adding 1 to bacon i.e   22+1=23 is not reassigned to bacon. hence output will be 22\n",
    "bacon = bacon +1 or  \n",
    "bacon += 1"
   ]
  },
  {
   "cell_type": "code",
   "execution_count": null,
   "id": "910e7f0e",
   "metadata": {},
   "outputs": [],
   "source": [
    "7. What should the values of the following two terms be?\n",
    "\n",
    "'spam' + 'spamspam'\n",
    "'spam' * 3\n",
    "Answer1 = spamspamspam\n",
    "Answer2= spamspamspam\n",
    "Here *  can be used as an expression sometimes or can be used as an statement"
   ]
  },
  {
   "cell_type": "code",
   "execution_count": null,
   "id": "6a8109a7",
   "metadata": {},
   "outputs": [],
   "source": [
    "8. Why is eggs a valid variable name while 100 is invalid?\n",
    "Variables can not start or assigned with numeric values like\n",
    "\n",
    "Eggs = 10  right\n",
    " 100=10  wrong  ..in python variable cannot start with numeric\n",
    "Like wise variable cant be eg..My Eggs=10  wrong.no space\n",
    "10Eggs\t=100 is  wrong."
   ]
  },
  {
   "cell_type": "code",
   "execution_count": null,
   "id": "0faedf93",
   "metadata": {},
   "outputs": [],
   "source": [
    "9. What three functions can be used to get the integer, floating-point number, or string version of a value?\n",
    "Int()   = int(10.2)= 10\n",
    "Float()\t= Float(12)\t=12.0\n",
    "Str()\t=str(10)\t='10'"
   ]
  },
  {
   "cell_type": "code",
   "execution_count": null,
   "id": "a61c1527",
   "metadata": {},
   "outputs": [],
   "source": [
    "10. Why does this expression cause an error? How can you fix it?\n",
    "\n",
    "'I have eaten ' + 99 + 'burritos'\n",
    "It can concatenate string only. \n",
    "To overcome this error we can use this expression.\n",
    "'I have eaten'+'99'+'burritos'\n",
    "'Ihaveeaten'+str(99)+'burritos'"
   ]
  }
 ],
 "metadata": {
  "kernelspec": {
   "display_name": "Python 3 (ipykernel)",
   "language": "python",
   "name": "python3"
  },
  "language_info": {
   "codemirror_mode": {
    "name": "ipython",
    "version": 3
   },
   "file_extension": ".py",
   "mimetype": "text/x-python",
   "name": "python",
   "nbconvert_exporter": "python",
   "pygments_lexer": "ipython3",
   "version": "3.11.3"
  }
 },
 "nbformat": 4,
 "nbformat_minor": 5
}
