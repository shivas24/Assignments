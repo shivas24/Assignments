{
  "nbformat": 4,
  "nbformat_minor": 0,
  "metadata": {
    "colab": {
      "provenance": [],
      "authorship_tag": "ABX9TyNAJJQ2G22vHTACMwlMUi58",
      "include_colab_link": true
    },
    "kernelspec": {
      "name": "python3",
      "display_name": "Python 3"
    },
    "language_info": {
      "name": "python"
    }
  },
  "cells": [
    {
      "cell_type": "markdown",
      "metadata": {
        "id": "view-in-github",
        "colab_type": "text"
      },
      "source": [
        "<a href=\"https://colab.research.google.com/github/shivas24/Assignments/blob/main/21May2023.ipynb\" target=\"_parent\"><img src=\"https://colab.research.google.com/assets/colab-badge.svg\" alt=\"Open In Colab\"/></a>"
      ]
    },
    {
      "cell_type": "markdown",
      "source": [
        "#Create two int type variables, apply addition, subtraction, division and multiplications and store the results in variables. Then print the data in the following format by calling the variables:"
      ],
      "metadata": {
        "id": "5UVbfflvrUv8"
      }
    },
    {
      "cell_type": "code",
      "source": [
        "a = 10\n",
        "b=5\n",
        "\n",
        "print(\"Addition::\", a+b)\n",
        "print(\"Substraction::\",a-b)\n",
        "print(\"Multiplication::\", a*b)\n",
        "print(\"Division::\",a/b)\n"
      ],
      "metadata": {
        "colab": {
          "base_uri": "https://localhost:8080/"
        },
        "id": "Ewpnr6q9G0xv",
        "outputId": "c88ae025-7a3a-46df-c946-930da31c4269"
      },
      "execution_count": null,
      "outputs": [
        {
          "output_type": "stream",
          "name": "stdout",
          "text": [
            "Addition:: 15\n",
            "Substraction:: 5\n",
            "Multiplication:: 50\n",
            "Division:: 2.0\n"
          ]
        }
      ]
    },
    {
      "cell_type": "markdown",
      "source": [
        "#What is the difference between the following operators:\n",
        "(i) ‘/’ & ‘//’\n",
        "\n",
        "(ii) ‘**’ & ‘^’"
      ],
      "metadata": {
        "id": "G5U4XJKJsG3-"
      }
    },
    {
      "cell_type": "code",
      "source": [
        "# /  is division operators willbe use d to divsion between 2 numbers\n",
        "print(2/5)\n",
        "\n",
        "# // floor division operator. returns floorvalue nearest to floor value\n",
        "\n",
        "print(5 //2)  # floor value is 2\n",
        "print(6 //2)  # floor value is 3\n",
        "print(9//2)   # floor value is 9/2=4.5 but nearest large floor integer value of divsion is 4\n",
        "print(9.6//2) # floor value is 9.6/2=4.8 but nearest integer divsion is 4\n",
        "\n",
        "# **  is exponent operator to calculate exponent of a number\n",
        "\n",
        "print( 3 ** 3)\n",
        "\n",
        "#^  is xor operator used in bitiwise opearator.If both bits are 1 or 0 then it eturns 0. if either or 1 then only returns 1\n",
        "\n",
        "a = 1 #0001\n",
        "b=  2 #0010\n",
        "c = 3 #0011\n",
        "\n",
        "print(a ^ b)  # Here neither bits are same . hence results 0001 + 0010= 0011=3\n",
        "print(a ^ c) # Here 0001+0011= 0010= 2"
      ],
      "metadata": {
        "colab": {
          "base_uri": "https://localhost:8080/"
        },
        "id": "7d62-_9Er8HN",
        "outputId": "56ccc63f-bcc5-4a94-b5f7-450ef11ff625"
      },
      "execution_count": null,
      "outputs": [
        {
          "output_type": "stream",
          "name": "stdout",
          "text": [
            "0.4\n",
            "2\n",
            "3\n",
            "4\n",
            "4.0\n",
            "27\n",
            "3\n",
            "2\n"
          ]
        }
      ]
    },
    {
      "cell_type": "markdown",
      "source": [
        "#List of logical operators"
      ],
      "metadata": {
        "id": "rbS7dWtWxbil"
      }
    },
    {
      "cell_type": "code",
      "source": [
        "# AND\n",
        "# OR\n",
        "# NOT\n",
        "\n",
        "#In python 1 and above considered as True.  0 is considered as False\n",
        "\n",
        "x= 5\n",
        "y=6\n",
        "z=6\n",
        "\n",
        "print(x==5 and y==6)\n",
        "print(x==5 or y==6)\n",
        "print(not(x==y))\n",
        "print(not(y==z))\n",
        "print(x and z)\n",
        "print(1 and 0)  # here 1 is true and 0 is false . hence false i.e.0\n",
        "print(1 and 2)  # in pyhton 0 is considerd as false 1 and above numbers as true\n",
        "print(1 or 0)\n",
        "print(1 or 2)\n",
        "print(not (0))\n",
        "print(not (1))\n",
        "print(not(2))\n"
      ],
      "metadata": {
        "colab": {
          "base_uri": "https://localhost:8080/"
        },
        "id": "sdZ6NsJRtY9Q",
        "outputId": "1e021e94-bf92-4bce-909d-56ceb3bf3518"
      },
      "execution_count": null,
      "outputs": [
        {
          "output_type": "stream",
          "name": "stdout",
          "text": [
            "True\n",
            "True\n",
            "True\n",
            "False\n",
            "6\n",
            "0\n",
            "2\n",
            "1\n",
            "1\n",
            "True\n",
            "False\n",
            "False\n"
          ]
        }
      ]
    },
    {
      "cell_type": "markdown",
      "source": [
        "#Explain right shift operator and left shift operator with examples."
      ],
      "metadata": {
        "id": "u_JOmjbV1RKW"
      }
    },
    {
      "cell_type": "code",
      "source": [
        "#Right shift operators are used to shift by right justification\n",
        "#Left shift operators are used to shift by left justification\n",
        "\n",
        "x=6  #0000110\n",
        "y=2  #0000010\n",
        "print(bin(x))\n",
        "print(bin(y))\n",
        "print(x >> y)  # shfts x by y value i.e. 0110 right shifts by 2 times i.e    000001\n",
        "print(x << y)  # Left shifts by 2 times i.e 0110  left shifts by 2 times i.e 011000"
      ],
      "metadata": {
        "colab": {
          "base_uri": "https://localhost:8080/"
        },
        "id": "CwuwsbmOxwdv",
        "outputId": "f48fe9c7-d035-45d0-a267-4f4107e111b9"
      },
      "execution_count": null,
      "outputs": [
        {
          "output_type": "stream",
          "name": "stdout",
          "text": [
            "0b110\n",
            "0b10\n",
            "1\n",
            "24\n"
          ]
        }
      ]
    },
    {
      "cell_type": "markdown",
      "source": [
        "#Create a list containing int type data of length 15. Then write a code to check if 10 is present in the list or not."
      ],
      "metadata": {
        "id": "HoaGhPcP5ls5"
      }
    },
    {
      "cell_type": "code",
      "source": [
        "my_list=[1,2,3,4,5,6,7,8,9,10,11,12,13,14,15]\n",
        "print(\"length of List is::\",len(my_list))\n",
        "[print(\"found\") if int(10) in my_list else print(\"not found\")]\n",
        "[print(\"found\") if int(16) in my_list else print(\"not found\")]\n",
        "print()"
      ],
      "metadata": {
        "colab": {
          "base_uri": "https://localhost:8080/"
        },
        "id": "ccwxX4SJ243i",
        "outputId": "b798a45b-b615-4bc6-a079-b94de8c60e67"
      },
      "execution_count": 6,
      "outputs": [
        {
          "output_type": "stream",
          "name": "stdout",
          "text": [
            "length of List is:: 15\n",
            "found\n",
            "not found\n",
            "\n"
          ]
        }
      ]
    },
    {
      "cell_type": "code",
      "source": [
        "my_list=[1,2,3,4,5,6,7,8,9,1,11,12,13,14,10]\n",
        "print(my_list)\n",
        "\n",
        "for i in range(len(my_list)):\n",
        "\n",
        "    if my_list[i] == 10:\n",
        "        print(\"Found @ position\",f\"{i}::\" ,my_list[i])\n",
        "        break\n",
        "    else:\n",
        "        print(\"Value not found @ position\", f\"{i}::Value is::\",my_list[i])"
      ],
      "metadata": {
        "id": "sgr0R_Ri59yg",
        "colab": {
          "base_uri": "https://localhost:8080/"
        },
        "outputId": "7ba9a776-7f99-4286-9abb-96c23bedda06"
      },
      "execution_count": 60,
      "outputs": [
        {
          "output_type": "stream",
          "name": "stdout",
          "text": [
            "[1, 2, 3, 4, 5, 6, 7, 8, 9, 1, 11, 12, 13, 14, 10]\n",
            "Value not found @ position 0::Value is:: 1\n",
            "Value not found @ position 1::Value is:: 2\n",
            "Value not found @ position 2::Value is:: 3\n",
            "Value not found @ position 3::Value is:: 4\n",
            "Value not found @ position 4::Value is:: 5\n",
            "Value not found @ position 5::Value is:: 6\n",
            "Value not found @ position 6::Value is:: 7\n",
            "Value not found @ position 7::Value is:: 8\n",
            "Value not found @ position 8::Value is:: 9\n",
            "Value not found @ position 9::Value is:: 1\n",
            "Value not found @ position 10::Value is:: 11\n",
            "Value not found @ position 11::Value is:: 12\n",
            "Value not found @ position 12::Value is:: 13\n",
            "Value not found @ position 13::Value is:: 14\n",
            "Found @ position 14:: 10\n"
          ]
        }
      ]
    },
    {
      "cell_type": "code",
      "source": [
        "my_list=[1,2,3,4,5,10,7,8,9,1,11,12,13,14,10]\n",
        "print(my_list)\n",
        "\n",
        "for i in range(len(my_list)):\n",
        "\n",
        "    if my_list[i] == 10:\n",
        "        print(\"Found @ position\",f\"{i}::\" ,my_list[i])\n",
        "        continue\n",
        "    else:\n",
        "        print(\"Value not found @ position\", f\"{i}::\",my_list[i])"
      ],
      "metadata": {
        "colab": {
          "base_uri": "https://localhost:8080/"
        },
        "id": "fp7OJedm-Zld",
        "outputId": "45c54523-03ac-45df-90de-b31c27308fb9"
      },
      "execution_count": 58,
      "outputs": [
        {
          "output_type": "stream",
          "name": "stdout",
          "text": [
            "[1, 2, 3, 4, 5, 10, 7, 8, 9, 1, 11, 12, 13, 14, 10]\n",
            "Value not found @ position 0:: 1\n",
            "Value not found @ position 1:: 2\n",
            "Value not found @ position 2:: 3\n",
            "Value not found @ position 3:: 4\n",
            "Value not found @ position 4:: 5\n",
            "Found @ position 5:: 10\n",
            "Value not found @ position 6:: 7\n",
            "Value not found @ position 7:: 8\n",
            "Value not found @ position 8:: 9\n",
            "Value not found @ position 9:: 1\n",
            "Value not found @ position 10:: 11\n",
            "Value not found @ position 11:: 12\n",
            "Value not found @ position 12:: 13\n",
            "Value not found @ position 13:: 14\n",
            "Found @ position 14:: 10\n"
          ]
        }
      ]
    },
    {
      "cell_type": "code",
      "source": [],
      "metadata": {
        "id": "34Cfm90QFWlj"
      },
      "execution_count": null,
      "outputs": []
    }
  ]
}