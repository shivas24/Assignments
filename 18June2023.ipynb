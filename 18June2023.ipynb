{
  "cells": [
    {
      "cell_type": "markdown",
      "metadata": {
        "id": "view-in-github",
        "colab_type": "text"
      },
      "source": [
        "<a href=\"https://colab.research.google.com/github/shivas24/Assignments/blob/main/18June2023.ipynb\" target=\"_parent\"><img src=\"https://colab.research.google.com/assets/colab-badge.svg\" alt=\"Open In Colab\"/></a>"
      ]
    },
    {
      "cell_type": "code",
      "execution_count": null,
      "metadata": {
        "id": "CSlf7sN4ypIm"
      },
      "outputs": [],
      "source": []
    },
    {
      "cell_type": "markdown",
      "metadata": {
        "id": "TcZo5R4Eyy5m"
      },
      "source": [
        "#What is the role of the 'else' block in a try-except statement? Provide an example scenario where it would be useful."
      ]
    },
    {
      "cell_type": "code",
      "execution_count": null,
      "metadata": {
        "colab": {
          "base_uri": "https://localhost:8080/"
        },
        "id": "n_bGpvn3y4vR",
        "outputId": "656defbe-5bd2-440f-bcfd-92ee844f21df"
      },
      "outputs": [
        {
          "name": "stdout",
          "output_type": "stream",
          "text": [
            "\n",
            "\n",
            "Final Output::: 76\n",
            "The Input provided is :: 4\n",
            "\n",
            "\n",
            "Final Output::: 98.38400000000003\n",
            "The Input provided is :: 4.4\n",
            "\n",
            "Entered Value is not an integer::\n",
            "The Input provided is :: Shivaprrasad\n"
          ]
        }
      ],
      "source": [
        "\"\"\"In try block some set of coding will be executed\n",
        "If any errors occur it catched the except block\n",
        "if code is no errors then else block will be executed\n",
        "Finally will execute the code irrespective of errors\"\"\"\n",
        "\n",
        "def calculate(x):\n",
        "    val=x\n",
        "    try:\n",
        "        val == int(x)\n",
        "        print()\n",
        "    except:\n",
        "        print('\\nEntered Value is not an integer::')\n",
        "    else:\n",
        "        val= val*3 + val**3\n",
        "        print(\"\\nFinal Output:::\",val)\n",
        "    finally:\n",
        "        print(\"The Input provided is ::\",x)\n",
        "\n",
        "calculate(4)\n",
        "calculate(4.4)\n",
        "calculate(\"Shivaprrasad\")\n"
      ]
    },
    {
      "cell_type": "markdown",
      "metadata": {
        "id": "baG6p0rJ1YCz"
      },
      "source": [
        "#Can a try-except block be nested inside another try-except block? Explain with an example."
      ]
    },
    {
      "cell_type": "code",
      "execution_count": null,
      "metadata": {
        "colab": {
          "base_uri": "https://localhost:8080/"
        },
        "id": "cRbezAR_0QWs",
        "outputId": "4c70eeaa-fc67-42fd-c9cd-efbbc8dbb2a0"
      },
      "outputs": [
        {
          "name": "stdout",
          "output_type": "stream",
          "text": [
            "Enter Age::18\n",
            "Enter Gender  M or F::F\n",
            "Eligible for voting\n"
          ]
        }
      ],
      "source": [
        "#Yes it can be possible\n",
        "\n",
        "class WrongAge(Exception):\n",
        "    pass\n",
        "\n",
        "def calculate():\n",
        "    try:\n",
        "        age=int(input(\"Enter Age::\"))\n",
        "\n",
        "        if age >=18:\n",
        "\n",
        "            try:\n",
        "\n",
        "                gender=input(\"Enter Gender  M or F::\")\n",
        "\n",
        "\n",
        "            except:\n",
        "                raise WrongAge\n",
        "\n",
        "            else:\n",
        "                if gender == 'F' or gender == 'M':\n",
        "\n",
        "                    print(\"Eligible for voting\")\n",
        "                else:\n",
        "                    print(\"Wrong Entry\")\n",
        "\n",
        "            finally:\n",
        "                pass\n",
        "\n",
        "        else:\n",
        "            raise WrongAge\n",
        "\n",
        "\n",
        "\n",
        "    except WrongAge:\n",
        "        print(\"Not eligible\")\n",
        "    except ValueError:\n",
        "        print(\"Data Not  found\")\n",
        "\n",
        "\n",
        "\n",
        "calculate()"
      ]
    },
    {
      "cell_type": "markdown",
      "metadata": {
        "id": "6Job_kIcsBrW"
      },
      "source": [
        "#How can you create a custom exception class in Python? Provide an example that demonstrates its usage."
      ]
    },
    {
      "cell_type": "code",
      "execution_count": null,
      "metadata": {
        "id": "AwpUY7ImJI7D"
      },
      "outputs": [],
      "source": []
    },
    {
      "cell_type": "code",
      "execution_count": null,
      "metadata": {
        "colab": {
          "base_uri": "https://localhost:8080/"
        },
        "id": "_LsbBIvxsGRB",
        "outputId": "425e64ba-d20b-4e23-b954-d914cc666f8c"
      },
      "outputs": [
        {
          "name": "stdout",
          "output_type": "stream",
          "text": [
            "Enter Age::19\n",
            "Enter Gender  M or F::\n",
            "Wrong Entry\n"
          ]
        }
      ],
      "source": [
        "#Custom exception class\n",
        "\n",
        "class WrongAge(Exception):\n",
        "    pass\n",
        "\n",
        "def calculate():\n",
        "    try:\n",
        "        age=int(input(\"Enter Age::\"))\n",
        "\n",
        "        if age >=18:\n",
        "\n",
        "            try:\n",
        "\n",
        "                gender=input(\"Enter Gender  M or F::\")\n",
        "\n",
        "\n",
        "            except:\n",
        "                raise WrongAge\n",
        "\n",
        "            else:\n",
        "                if gender == 'F' or gender == 'M':\n",
        "\n",
        "                    print(\"Eligible for voting\")\n",
        "                else:\n",
        "                    print(\"Wrong Entry\")\n",
        "\n",
        "            finally:\n",
        "                pass\n",
        "\n",
        "        else:\n",
        "            raise WrongAge\n",
        "\n",
        "\n",
        "\n",
        "    except WrongAge:\n",
        "        print(\"Not eligible\")\n",
        "    except ValueError:\n",
        "        print(\"Data Not  found\")\n",
        "\n",
        "calculate()"
      ]
    },
    {
      "cell_type": "markdown",
      "metadata": {
        "id": "1ag_6IczsYhI"
      },
      "source": [
        "#What are some common exceptions that are built-in to Python?"
      ]
    },
    {
      "cell_type": "code",
      "execution_count": null,
      "metadata": {
        "id": "FpoQsvXTscGV"
      },
      "outputs": [],
      "source": [
        "#Common exception errors\n",
        "\n",
        "\"\"\"\n",
        "Value error if wrong value entered\n",
        "Index error if wrong index mentioned\n",
        "Tab Indent Error if tab error\n",
        "ZerodivisionError if divisible by zero\n"
      ]
    },
    {
      "cell_type": "markdown",
      "metadata": {
        "id": "KbfFvN2KvARm"
      },
      "source": [
        "#What is logging in Python, and why is it important in software development?"
      ]
    },
    {
      "cell_type": "code",
      "execution_count": null,
      "metadata": {
        "id": "I1wW-5KVvBdI"
      },
      "outputs": [],
      "source": [
        "\"\"\"Logging is very important in software development to check  how the software is  working,\n",
        " and to track all system errors and softwaare errors also  to track the software functioning.\n",
        "\n",
        "  in python there is a library called logging we need to import it using import\"\"\"\n",
        "\n",
        "  #import logging\n",
        "\n",
        "'''The major functioings are\n",
        "debug  to debug errors\n",
        "info     to catch the information\n",
        "warning   to check whether any warnings\n",
        "error  to  check errors in software\n",
        "critical error  to check critical system  errors\n"
      ]
    },
    {
      "cell_type": "markdown",
      "metadata": {
        "id": "rjInrVAxxo9G"
      },
      "source": [
        "# Explain the purpose of log levels in Python logging and provide examples of when each log level would be appropriate."
      ]
    },
    {
      "cell_type": "markdown",
      "metadata": {
        "id": "E9bjw-67R9Ke"
      },
      "source": [
        "## levels of logging are as folows\n",
        "\n",
        "logging.BasicConfig(level=logging.DEBUG)\n",
        "\n",
        "logging.debug(\"Debug Message\")     # To debug the message\n",
        "\n",
        "logging.info(\"Information Message\")\n",
        "\n",
        "logging.warning(\"Warninig Message\")  #Warning message\n",
        "\n",
        "logging.error(\"error Message\")   # error Message\n",
        "\n",
        "logging.critical(\"Critical Error Message\")  #Critical Message"
      ]
    },
    {
      "cell_type": "code",
      "execution_count": null,
      "metadata": {
        "colab": {
          "base_uri": "https://localhost:8080/"
        },
        "id": "eTLkrPiRSFl_",
        "outputId": "4353795d-f1bf-4c2f-919f-4b21ddf9128e"
      },
      "outputs": [
        {
          "output_type": "stream",
          "name": "stderr",
          "text": [
            "DEBUG:root:Variable data given as 2 and 3\n"
          ]
        },
        {
          "output_type": "execute_result",
          "data": {
            "text/plain": [
              "8"
            ]
          },
          "metadata": {},
          "execution_count": 117
        }
      ],
      "source": [
        "#DEBUG\n",
        "\n",
        "import logging\n",
        "\n",
        "logging.basicConfig(level=logging.DEBUG,force=True)\n",
        "\n",
        "def express(a,b):\n",
        "    logging.debug(\"Variable data given as %s and %s\",a,b)\n",
        "    return a**b\n",
        "\n",
        "express(2,3)"
      ]
    },
    {
      "cell_type": "code",
      "execution_count": null,
      "metadata": {
        "id": "NSU6CKxgV-tc",
        "colab": {
          "base_uri": "https://localhost:8080/"
        },
        "outputId": "0062e8df-bcb5-488b-885c-bfe7b7d4a5fa"
      },
      "outputs": [
        {
          "output_type": "stream",
          "name": "stderr",
          "text": [
            "INFO:root:Input Data entered correctly as  2  and 3 \n"
          ]
        }
      ],
      "source": [
        "#INFO\n",
        "import logging\n",
        "\n",
        "logging.basicConfig(level=logging.INFO, force=True)\n",
        "\n",
        "def express(a,b):\n",
        "\n",
        "    if (a == int(a)  and b == int(b)):\n",
        "        logging.info(\"Input Data entered correctly as  %s  and %s \",a,b)\n",
        "    else:\n",
        "        logging.info(\"Invalid Input Data\",a,b)\n",
        "express(2,3)"
      ]
    },
    {
      "cell_type": "code",
      "source": [
        "#INFO\n",
        "import logging\n",
        "\n",
        "logging.basicConfig(level=logging.INFO, force=True)\n",
        "\n",
        "def express(a,b):\n",
        "\n",
        "    if (a == int(a)  and b == int(b)):\n",
        "        logging.info(\"Input Data entered correctly as  %s  and %s \",a,b)\n",
        "    else:\n",
        "        logging.info(\"Invalid Input Data\",a,b)\n",
        "express(2,'3')"
      ],
      "metadata": {
        "colab": {
          "base_uri": "https://localhost:8080/"
        },
        "id": "fjTfIP5d8gw2",
        "outputId": "dd27a091-2e8e-49e7-fd87-2e7ea5ec581b"
      },
      "execution_count": null,
      "outputs": [
        {
          "output_type": "stream",
          "name": "stderr",
          "text": [
            "--- Logging error ---\n",
            "Traceback (most recent call last):\n",
            "  File \"/usr/lib/python3.10/logging/__init__.py\", line 1100, in emit\n",
            "    msg = self.format(record)\n",
            "  File \"/usr/lib/python3.10/logging/__init__.py\", line 943, in format\n",
            "    return fmt.format(record)\n",
            "  File \"/usr/lib/python3.10/logging/__init__.py\", line 678, in format\n",
            "    record.message = record.getMessage()\n",
            "  File \"/usr/lib/python3.10/logging/__init__.py\", line 368, in getMessage\n",
            "    msg = msg % self.args\n",
            "TypeError: not all arguments converted during string formatting\n",
            "Call stack:\n",
            "  File \"/usr/lib/python3.10/runpy.py\", line 196, in _run_module_as_main\n",
            "    return _run_code(code, main_globals, None,\n",
            "  File \"/usr/lib/python3.10/runpy.py\", line 86, in _run_code\n",
            "    exec(code, run_globals)\n",
            "  File \"/usr/local/lib/python3.10/dist-packages/colab_kernel_launcher.py\", line 37, in <module>\n",
            "    ColabKernelApp.launch_instance()\n",
            "  File \"/usr/local/lib/python3.10/dist-packages/traitlets/config/application.py\", line 992, in launch_instance\n",
            "    app.start()\n",
            "  File \"/usr/local/lib/python3.10/dist-packages/ipykernel/kernelapp.py\", line 619, in start\n",
            "    self.io_loop.start()\n",
            "  File \"/usr/local/lib/python3.10/dist-packages/tornado/platform/asyncio.py\", line 195, in start\n",
            "    self.asyncio_loop.run_forever()\n",
            "  File \"/usr/lib/python3.10/asyncio/base_events.py\", line 603, in run_forever\n",
            "    self._run_once()\n",
            "  File \"/usr/lib/python3.10/asyncio/base_events.py\", line 1909, in _run_once\n",
            "    handle._run()\n",
            "  File \"/usr/lib/python3.10/asyncio/events.py\", line 80, in _run\n",
            "    self._context.run(self._callback, *self._args)\n",
            "  File \"/usr/local/lib/python3.10/dist-packages/tornado/ioloop.py\", line 685, in <lambda>\n",
            "    lambda f: self._run_callback(functools.partial(callback, future))\n",
            "  File \"/usr/local/lib/python3.10/dist-packages/tornado/ioloop.py\", line 738, in _run_callback\n",
            "    ret = callback()\n",
            "  File \"/usr/local/lib/python3.10/dist-packages/tornado/gen.py\", line 825, in inner\n",
            "    self.ctx_run(self.run)\n",
            "  File \"/usr/local/lib/python3.10/dist-packages/tornado/gen.py\", line 786, in run\n",
            "    yielded = self.gen.send(value)\n",
            "  File \"/usr/local/lib/python3.10/dist-packages/ipykernel/kernelbase.py\", line 361, in process_one\n",
            "    yield gen.maybe_future(dispatch(*args))\n",
            "  File \"/usr/local/lib/python3.10/dist-packages/tornado/gen.py\", line 234, in wrapper\n",
            "    yielded = ctx_run(next, result)\n",
            "  File \"/usr/local/lib/python3.10/dist-packages/ipykernel/kernelbase.py\", line 261, in dispatch_shell\n",
            "    yield gen.maybe_future(handler(stream, idents, msg))\n",
            "  File \"/usr/local/lib/python3.10/dist-packages/tornado/gen.py\", line 234, in wrapper\n",
            "    yielded = ctx_run(next, result)\n",
            "  File \"/usr/local/lib/python3.10/dist-packages/ipykernel/kernelbase.py\", line 539, in execute_request\n",
            "    self.do_execute(\n",
            "  File \"/usr/local/lib/python3.10/dist-packages/tornado/gen.py\", line 234, in wrapper\n",
            "    yielded = ctx_run(next, result)\n",
            "  File \"/usr/local/lib/python3.10/dist-packages/ipykernel/ipkernel.py\", line 302, in do_execute\n",
            "    res = shell.run_cell(code, store_history=store_history, silent=silent)\n",
            "  File \"/usr/local/lib/python3.10/dist-packages/ipykernel/zmqshell.py\", line 539, in run_cell\n",
            "    return super(ZMQInteractiveShell, self).run_cell(*args, **kwargs)\n",
            "  File \"/usr/local/lib/python3.10/dist-packages/IPython/core/interactiveshell.py\", line 2975, in run_cell\n",
            "    result = self._run_cell(\n",
            "  File \"/usr/local/lib/python3.10/dist-packages/IPython/core/interactiveshell.py\", line 3030, in _run_cell\n",
            "    return runner(coro)\n",
            "  File \"/usr/local/lib/python3.10/dist-packages/IPython/core/async_helpers.py\", line 78, in _pseudo_sync_runner\n",
            "    coro.send(None)\n",
            "  File \"/usr/local/lib/python3.10/dist-packages/IPython/core/interactiveshell.py\", line 3257, in run_cell_async\n",
            "    has_raised = await self.run_ast_nodes(code_ast.body, cell_name,\n",
            "  File \"/usr/local/lib/python3.10/dist-packages/IPython/core/interactiveshell.py\", line 3473, in run_ast_nodes\n",
            "    if (await self.run_code(code, result,  async_=asy)):\n",
            "  File \"/usr/local/lib/python3.10/dist-packages/IPython/core/interactiveshell.py\", line 3553, in run_code\n",
            "    exec(code_obj, self.user_global_ns, self.user_ns)\n",
            "  File \"<ipython-input-55-df73ed2443ad>\", line 12, in <cell line: 12>\n",
            "    express(2,'3')\n",
            "  File \"<ipython-input-55-df73ed2443ad>\", line 11, in express\n",
            "    logging.info(\"Invalid Input Data\",a,b)\n",
            "Message: 'Invalid Input Data'\n",
            "Arguments: (2, '3')\n"
          ]
        }
      ]
    },
    {
      "cell_type": "code",
      "source": [
        "#WARNING\n",
        "\n",
        "import logging\n",
        "logging.basicConfig(level=logging.WARNING,force= True)\n",
        "\n",
        "def express(a,b):\n",
        "    if a ==int(a) and b !=int(b):\n",
        "        logging.warning(\"Invalid Entry %s  and %s\",a,b)\n",
        "    else:\n",
        "        logging.warning(\"No Warnings\")\n",
        "\n",
        "express(2,3)\n",
        "express(2,'33')\n"
      ],
      "metadata": {
        "colab": {
          "base_uri": "https://localhost:8080/"
        },
        "id": "PRpPvKoRAubs",
        "outputId": "7501275e-c0b3-48f6-f610-894ab04e8bdd"
      },
      "execution_count": null,
      "outputs": [
        {
          "output_type": "stream",
          "name": "stderr",
          "text": [
            "WARNING:root:No Warnings\n",
            "WARNING:root:Invalid Entry 2  and 33\n"
          ]
        }
      ]
    },
    {
      "cell_type": "code",
      "source": [
        "#WARNING\n",
        "\n",
        "import logging\n",
        "logging.basicConfig(level=logging.WARNING,force= True)\n",
        "\n",
        "def express(a,b):\n",
        "    if a ==int(a) and b != int(b):\n",
        "        logging.warning(f\"Invalid Entry {a} AND {b}, values are Not true integers\")\n",
        "    else:\n",
        "        logging.warning(\"No Warnings\")\n",
        "\n",
        "express(2,'33')\n",
        "express(2,33)"
      ],
      "metadata": {
        "colab": {
          "base_uri": "https://localhost:8080/"
        },
        "id": "pbNfpl22BjHG",
        "outputId": "91447d27-3778-4016-c270-a6ebe251957a"
      },
      "execution_count": null,
      "outputs": [
        {
          "output_type": "stream",
          "name": "stderr",
          "text": [
            "WARNING:root:Invalid Entry 2 AND 33, values are Not true integers\n",
            "WARNING:root:No Warnings\n"
          ]
        }
      ]
    },
    {
      "cell_type": "code",
      "source": [
        "#ERROR\n",
        "\n",
        "import logging\n",
        "logging.basicConfig(level=logging.ERROR,force=True)\n",
        "\n",
        "def express(a,b):\n",
        "    if a ==int(a)  and  b ==int(b):\n",
        "        logging.error(\"No errors\")\n",
        "        return a+b\n",
        "\n",
        "    else:\n",
        "        logging.error(\"Not true integeres %s and %s and check  data type\", a,b)\n",
        "\n",
        "\n",
        "express(2,7)\n",
        "express(2,'7')"
      ],
      "metadata": {
        "colab": {
          "base_uri": "https://localhost:8080/"
        },
        "id": "6_7-aXYkCpmJ",
        "outputId": "30f2d097-5cc4-4bb2-d2bd-6f379683e78b"
      },
      "execution_count": null,
      "outputs": [
        {
          "output_type": "stream",
          "name": "stderr",
          "text": [
            "ERROR:root:No errors\n",
            "ERROR:root:Not true integeres 2 and 7 and check  data type\n"
          ]
        }
      ]
    },
    {
      "cell_type": "code",
      "source": [
        "#Critical Error\n",
        "\n",
        "import logging\n",
        "logging.basicConfig(level=logging.CRITICAL,force=True)\n",
        "\n",
        "def express(a,b):\n",
        "    if a ==int(a)  and b==str(b):\n",
        "        logging.critical(\"No Critical Errors\")\n",
        "\n",
        "    else:\n",
        "        logging.critical(\"Critical Error Input data\")\n",
        "\n",
        "express(2,3)\n",
        "express(2,'s')"
      ],
      "metadata": {
        "colab": {
          "base_uri": "https://localhost:8080/"
        },
        "id": "QcA4HP7dFuc4",
        "outputId": "ed08557c-47c5-490c-a0de-8ef90f28e18f"
      },
      "execution_count": null,
      "outputs": [
        {
          "output_type": "stream",
          "name": "stderr",
          "text": [
            "CRITICAL:root:Critical Error Input data\n",
            "CRITICAL:root:No Critical Errors\n"
          ]
        }
      ]
    },
    {
      "cell_type": "markdown",
      "source": [
        "#What are log formatters in Python logging, and how can you customise the log message format using formatters"
      ],
      "metadata": {
        "id": "t33EvjiAasGV"
      }
    },
    {
      "cell_type": "code",
      "source": [
        "\"\"\"Log formatters are in python are used tocontrol the log messaages into string formats for readable purposes.\n",
        "formatters are used to control the layout and structure of the log messages\n",
        "Loggers are catched by  log handlers which are strcutured and layout the log messages to radable string formats\"\"\"\n",
        "\n",
        "#Create a logger\n",
        "\n",
        "import logging\n",
        "\n",
        "log_message= logging.getLogger('new-file')\n",
        "\n",
        "# Create  a file handler\n",
        "\n",
        "log_handle= logging.FileHandler('new-file')\n",
        "\n",
        "#Set level\n",
        "\n",
        "log_level=log_message.setLevel(logging.CRITICAL)\n",
        "\n",
        "#Create a formatter\n",
        "\n",
        "log_format=logging.Formatter(\"%(asctime)s:%(levelname)s:%(message)s\")\n",
        "\n",
        "#Set Formatter to  file handler\n",
        "\n",
        "log_handle.setFormatter(log_format)\n",
        "\n",
        "#Add file handle to logger\n",
        "\n",
        "log_message.addHandler(log_handle)\n",
        "\n",
        "#Create a looging message\n",
        "\n",
        "log_message.critical(\"This is a critical message\")\n"
      ],
      "metadata": {
        "colab": {
          "base_uri": "https://localhost:8080/"
        },
        "id": "yKobo1-iJvPZ",
        "outputId": "3fe162c5-16e7-4091-9a48-58c0e1640015"
      },
      "execution_count": null,
      "outputs": [
        {
          "output_type": "stream",
          "name": "stderr",
          "text": [
            "CRITICAL:new-file:This is a critical message\n"
          ]
        }
      ]
    },
    {
      "cell_type": "markdown",
      "source": [
        "#How can you set up logging to capture log messages from multiple modules or classes in a Python application?"
      ],
      "metadata": {
        "id": "-nUpCZa00uIo"
      }
    },
    {
      "cell_type": "code",
      "source": [
        "\"\"\"\n",
        "1. Import logging module\n",
        "\n",
        "import logging\n",
        "\n",
        "2. Then we need to  create logger filefor each module seperately\n",
        "\n",
        "logger=logging.getLogger(__name__)  ..This hekpstoidentify each moduke with its name seperately\n",
        "\n",
        "like    log_module1= logging.getLogger(__name__)\n",
        "log_moduke2= logging.getLogger(__name__)\n",
        "\n",
        "3. configure logging module by creating  log-config.py\n",
        "\n",
        "4. set levels for each module like DEBUG,WARNING,ERROR, CRITICAL\n",
        "\n",
        "5. Call logging configuration\n",
        "\n",
        "6. Use log levels for each  module by calling\n",
        "\n",
        "\"\"\"\n",
        "\n",
        "#module1.py\n",
        "\n",
        "def module1_fun():\n",
        "    log_level=logger.debug(\"Debug Level\")\n",
        "\n",
        "#module2.py\n",
        "\n",
        "def module2_fun():\n",
        "    log_level=logger.warning(\"Warning\")\n",
        "\n",
        "import logging\n",
        "from logging.handlers import RotatingFileHandler\n",
        "\n",
        "#Looging config file\n",
        "#logging_config.py\n",
        "\n",
        "def setup_logger():\n",
        "    #Create root logger\n",
        "    logger=logging.getLogger(\"example.log\")\n",
        "    logger.setLevel(log_level)\n",
        "\n",
        "    #Create a formatter\n",
        "    formatter=logging.Formatter(\"%(asctime)s:%(levelname)s:%(name)s:%(message)s\")\n",
        "\n",
        "    #Create filehandler\n",
        "    file_handler=logging.FileHandler(\"example.log\")\n",
        "    file_handler.setFormatter(formatter)\n",
        "\n",
        "    # Add file handler to root\n",
        "    logger.addHandler(file_handler)\n",
        "\n",
        "    #Call logging function\n",
        "    #first.py\n",
        "    import logging_config\n",
        "    import module1\n",
        "    import module2\n",
        "\n",
        "    #configure logging for each module\n",
        "    logging_config.setup_logger()\n",
        "\n",
        "\n",
        "    module1.module1_fun()\n",
        "    module2.module2_fun()\n",
        "\n",
        "\n",
        "\n",
        "\n"
      ],
      "metadata": {
        "id": "IDsga3g2uP0J"
      },
      "execution_count": null,
      "outputs": []
    },
    {
      "cell_type": "markdown",
      "source": [
        "#What is the difference between the logging and print statements in Python? When should you use logging over print statements in a real-world application?"
      ],
      "metadata": {
        "id": "Yrn_kD0ke09_"
      }
    },
    {
      "cell_type": "code",
      "source": [
        "\"\"\"\n",
        "the major difference between print and logging is print statement can print the the basic debugging and displaying\n",
        "during execution.The output send to console display only\n",
        "\n",
        "where as in logging we can use tostire the log data in a file and can track the various steps like, debug,warning,error,critical  etc.. to\n",
        "track where the actual logging is happening even though we cant set log at various levels to control the output\n",
        "\n",
        "\n",
        "The flexibility is possible at various level in logging hence we can control without modifying the source code\n",
        "where as in print statemnt we cant chang its behaviour. If we want tochange the behaviour of print we need to change basic coding\n",
        "\n",
        "The configuration is very easy in logging as compared to print\n",
        "\n",
        "\n",
        "In realtime environment which can be useful for us to let us say to track the errors , warnings to stop future error and crtiical stages\n",
        "\n",
        "It can be useful in production environment let us say in textile industry we can track the each  process and can check the product quality\n",
        "\"\"\""
      ],
      "metadata": {
        "id": "0QeNRM6fdwZJ"
      },
      "execution_count": null,
      "outputs": []
    },
    {
      "cell_type": "markdown",
      "source": [
        "#Write a Python program that logs a message to a file named \"app.log\" with the following requirements:\n",
        "###● The log message should be \"Hello, World!\"\n",
        "###● The log level should be set to \"INFO.\"\n",
        "###● The log file should append new log entries without overwriting previous ones."
      ],
      "metadata": {
        "id": "fsDQFF20hiRx"
      }
    },
    {
      "cell_type": "code",
      "source": [
        "import logging\n",
        "\n",
        "#Create a Logger\n",
        "log_message=logging.getLogger('app.log')\n",
        "\n",
        "#Create a filehandler\n",
        "file_handler=logging.FileHandler(\"app.log\")\n",
        "\n",
        "#  Set level\n",
        "log_level=log_message.setLevel(logging.INFO)\n",
        "\n",
        "# Create a Formatter\n",
        "log_formatter= logging.Formatter(\" %(asctime)s: %(name)s: %(levelname)s: %(message)s \")\n",
        "\n",
        "#Set Formatter to file handler\n",
        "file_handler.setFormatter(log_formatter)\n",
        "\n",
        "#Add filehandler to logger\n",
        "\n",
        "log_message.addHandler(file_handler)\n",
        "\n",
        "#Create a log message\n",
        "log_message.info(\"Hello,World\")\n",
        "\n"
      ],
      "metadata": {
        "colab": {
          "base_uri": "https://localhost:8080/"
        },
        "id": "k2TUzSVbhvZ0",
        "outputId": "bb5e544a-ac95-491b-9cd7-aa2db3207ec8"
      },
      "execution_count": null,
      "outputs": [
        {
          "output_type": "stream",
          "name": "stderr",
          "text": [
            "INFO:app.log:Hello,World\n"
          ]
        }
      ]
    },
    {
      "cell_type": "markdown",
      "source": [
        "#Create a Python program that logs an error message to the console and a file named \"errors.log\" if an exception occurs during the program's execution. The error message should include the exception type and a timestamp."
      ],
      "metadata": {
        "id": "S3iIeBS3lIW2"
      }
    },
    {
      "cell_type": "code",
      "source": [
        "import logging\n",
        "\n",
        "def add(a,b):\n",
        "    try:\n",
        "        return a+b\n",
        "\n",
        "    except Exception as e:\n",
        "\n",
        "        #Create a logger\n",
        "        log_message=logging.getLogger(\"errors.log\")\n",
        "\n",
        "        #Create a fileHandler\n",
        "        file_handler=logging.FileHandler(\"erros.log\")\n",
        "\n",
        "        #set Level\n",
        "        log_level=log_message.setLevel(logging.ERROR)\n",
        "\n",
        "        #Create a formatter\n",
        "        log_format=logging.Formatter(\"%(asctime)s::%(levelname)s::%(message)s\")\n",
        "\n",
        "        #set Formatter to filehandler\n",
        "\n",
        "        file_handler.setFormatter(log_format)\n",
        "\n",
        "        #Add file handle to logger\n",
        "\n",
        "        log_message.addHandler(file_handler)\n",
        "\n",
        "        #Create a logging message\n",
        "        log_message.error(e)\n",
        "\n",
        "add(2,'3')\n",
        "\n"
      ],
      "metadata": {
        "colab": {
          "base_uri": "https://localhost:8080/"
        },
        "id": "8H1U4h75m8wR",
        "outputId": "9b553a40-b404-41f2-c011-d60f217d2d89"
      },
      "execution_count": null,
      "outputs": [
        {
          "output_type": "stream",
          "name": "stderr",
          "text": [
            "ERROR:errors.log:unsupported operand type(s) for +: 'int' and 'str'\n"
          ]
        }
      ]
    },
    {
      "cell_type": "code",
      "source": [],
      "metadata": {
        "id": "3pUKJa7QpRaK"
      },
      "execution_count": null,
      "outputs": []
    }
  ],
  "metadata": {
    "colab": {
      "provenance": [],
      "authorship_tag": "ABX9TyMfczZCKdB2DruNr0zz1pBG",
      "include_colab_link": true
    },
    "kernelspec": {
      "display_name": "Python 3",
      "name": "python3"
    },
    "language_info": {
      "name": "python"
    }
  },
  "nbformat": 4,
  "nbformat_minor": 0
}