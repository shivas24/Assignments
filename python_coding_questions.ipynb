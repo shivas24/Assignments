{
  "cells": [
    {
      "cell_type": "markdown",
      "metadata": {
        "id": "view-in-github",
        "colab_type": "text"
      },
      "source": [
        "<a href=\"https://colab.research.google.com/github/shivas24/Assignments/blob/main/python_coding_questions.ipynb\" target=\"_parent\"><img src=\"https://colab.research.google.com/assets/colab-badge.svg\" alt=\"Open In Colab\"/></a>"
      ]
    },
    {
      "cell_type": "code",
      "execution_count": null,
      "metadata": {
        "colab": {
          "base_uri": "https://localhost:8080/"
        },
        "id": "4kvEoP1_sv98",
        "outputId": "8084551a-e2f0-45a0-c421-905553427cc9"
      },
      "outputs": [
        {
          "name": "stdout",
          "output_type": "stream",
          "text": [
            "<class 'list'> \n",
            " ['write', 'write', 'write', 'all', 'the', 'number', 'from', 'from', 'from', '1', 'to', '100']\n",
            "write 5 \n",
            "\n",
            "\n",
            "<class 'list'> \n",
            " ['cat', 'on', 'cat', 'on', 'table', 'under', 'cat', 'from', 'india', 'india', 'india', 'india', 'world']\n",
            "india 5 \n",
            "\n",
            "\n",
            "<class 'list'> \n",
            " ['Compose,', 'compose,', 'compose', 'all', 'the', 'letters', 'froms', 'froms', 'froms', 'A', 'to', 'Z']\n",
            "froms 5 \n",
            "\n",
            "\n"
          ]
        }
      ],
      "source": [
        "input= \"write write write all the number from from from 1 to 100 \"\n",
        "\n",
        "l1=input.split()\n",
        "print(type(l1),\"\\n\",l1)\n",
        "x=max(l1,key=l1.count)\n",
        "print(x,len(x),\"\\n\\n\")\n",
        "\n",
        "input2= \"cat on cat on table under cat from india india india india world  \"\n",
        "l2=input2.split()\n",
        "print(type(l2),\"\\n\",l2)\n",
        "\n",
        "y=max(l2,key=l2.count)\n",
        "print(y,len(y),\"\\n\\n\")\n",
        "\n",
        "input3='Compose, compose, compose all the letters froms froms froms A to Z'\n",
        "l3=input3.split()\n",
        "print(type(l3),\"\\n\",l3)\n",
        "\n",
        "z=max(l3,key=l3.count)\n",
        "print(z,len(z),\"\\n\\n\")"
      ]
    },
    {
      "cell_type": "code",
      "execution_count": null,
      "metadata": {
        "colab": {
          "base_uri": "https://localhost:8080/"
        },
        "id": "wXFexkvzZ9W3",
        "outputId": "c4ceb759-58d4-44f4-b8bf-9205bae5f229"
      },
      "outputs": [
        {
          "name": "stdout",
          "output_type": "stream",
          "text": [
            "<class 'list'> \n",
            " ['write', 'write', 'write', 'all', 'the', 'number', 'froms', 'froms', 'froms', '1', 'to', '100']\n",
            "write 5\n"
          ]
        }
      ],
      "source": [
        "input= \"write write write all the number froms froms froms 1 to 100 \"\n",
        "\n",
        "l1=input.split()\n",
        "print(type(l1),\"\\n\",l1)\n",
        "x=max(l1,key=input.count)\n",
        "print(x,len(x))"
      ]
    },
    {
      "cell_type": "code",
      "execution_count": null,
      "metadata": {
        "colab": {
          "base_uri": "https://localhost:8080/"
        },
        "id": "6GPVKH0Fs8aJ",
        "outputId": "93ece613-f8dc-4e48-8de5-fc35b017ec76"
      },
      "outputs": [
        {
          "name": "stdout",
          "output_type": "stream",
          "text": [
            "<class 'list'> \n",
            " ['cat', 'on', 'cat', 'on', 'table', 'under', 'cat', 'from', 'india', 'india', 'india', 'india', 'world', 'cat']\n",
            "cat 3\n"
          ]
        }
      ],
      "source": [
        "input2= \"cat on cat on table under cat from india india india india world  cat\"\n",
        "l2=input2.split()\n",
        "print(type(l2),\"\\n\",l2)\n",
        "\n",
        "x=max(l2,key=input2.count)\n",
        "print(x,len(x))"
      ]
    },
    {
      "cell_type": "code",
      "execution_count": null,
      "metadata": {
        "colab": {
          "base_uri": "https://localhost:8080/"
        },
        "id": "hd5rrWFwvewr",
        "outputId": "e7baaa96-c671-4070-d51a-9841513ac440"
      },
      "outputs": [
        {
          "name": "stdout",
          "output_type": "stream",
          "text": [
            "<class 'list'> \n",
            " ['compose,', 'compose,', 'compose', 'all', 'the', 'letters', 'froms', 'froms', 'froms', 'A', 'to', 'Z']\n",
            "compose 7\n"
          ]
        }
      ],
      "source": [
        "input3='compose, compose, compose all the letters froms froms froms A to Z'\n",
        "l3=input3.split()\n",
        "print(type(l3),\"\\n\",l3)\n",
        "\n",
        "x=max(l3,key=input3.count)\n",
        "print(x,len(x))"
      ]
    },
    {
      "cell_type": "code",
      "execution_count": null,
      "metadata": {
        "colab": {
          "base_uri": "https://localhost:8080/"
        },
        "id": "1NlGOfSAyK4E",
        "outputId": "9fea01c3-8e50-4349-bd9f-1210172d3fec"
      },
      "outputs": [
        {
          "name": "stdout",
          "output_type": "stream",
          "text": [
            "('write', 5)\n",
            "('india', 5)\n",
            "('froms', 5)\n"
          ]
        }
      ],
      "source": [
        "def find_highest_frequency_word_length(input_str):\n",
        "    words = input_str.split()\n",
        "    most_frequent_word = max(set(words), key=words.count)\n",
        "    return most_frequent_word, len(most_frequent_word)\n",
        "\n",
        "input1 = \"write write write all the number froms froms froms 1 to 100\"\n",
        "result1 = find_highest_frequency_word_length(input1)\n",
        "print(result1)\n",
        "\n",
        "input2 = \"cat on cat on table under cat from india india india india world\"\n",
        "result2 = find_highest_frequency_word_length(input2)\n",
        "print(result2)\n",
        "\n",
        "input3 = 'Compose, compose, compose all the letters froms froms froms A to Z'\n",
        "result3 = find_highest_frequency_word_length(input3)\n",
        "print(result3)\n"
      ]
    },
    {
      "cell_type": "code",
      "execution_count": null,
      "metadata": {
        "colab": {
          "base_uri": "https://localhost:8080/"
        },
        "id": "hpDBrlcT2hz9",
        "outputId": "95cbec25-14fc-4622-cf5b-56bc86ac172c"
      },
      "outputs": [
        {
          "name": "stdout",
          "output_type": "stream",
          "text": [
            "['write', 'write', 'write', 'all', 'the', 'number', 'from', 'from', 'from', '1', 'to', '100'] \n",
            " <class 'list'>\n",
            "write 5 \n",
            "\n",
            "\n",
            "['cat', 'on', 'cat', 'on', 'table', 'under', 'cat', 'from', 'india', 'india', 'indian', 'india', 'world'] \n",
            " <class 'list'>\n",
            "cat 3 \n",
            "\n",
            "\n",
            "['Compose,', 'compose,', 'compose', 'all', 'the', 'letters', 'froms', 'froms', 'froms', 'A', 'to'] \n",
            " <class 'list'>\n",
            "froms 5 \n",
            "\n",
            "\n"
          ]
        }
      ],
      "source": [
        "def highwordcount(input):\n",
        "    list_form=input.split()\n",
        "    print(list_form, \"\\n\", type(list_form))\n",
        "\n",
        "    output=max(list_form,key=list_form.count)\n",
        "    print(output,len(output),\"\\n\\n\")\n",
        "\n",
        "obj=highwordcount(\"write write write all the number from from from 1 to 100\")\n",
        "obj\n",
        "obj1=highwordcount(\"cat on cat on table under cat from india india indian india world\")\n",
        "obj1\n",
        "obj2=highwordcount(\"Compose, compose, compose all the letters froms froms froms A to \")"
      ]
    },
    {
      "cell_type": "code",
      "execution_count": null,
      "metadata": {
        "colab": {
          "base_uri": "https://localhost:8080/",
          "height": 418
        },
        "id": "14acMpjh3Vb9",
        "outputId": "cec0c977-b6e4-4e9b-97e1-6b44bbab19a1"
      },
      "outputs": [
        {
          "name": "stdout",
          "output_type": "stream",
          "text": [
            "['write', 'write', 'write', 'all', 'the', 'number', 'from', 'from', 'from', '1', 'to', '100'] \n",
            " <class 'list'>\n",
            "<built-in method count of list object at 0x7f9784f8ff00>\n"
          ]
        },
        {
          "ename": "NameError",
          "evalue": "name 'count' is not defined",
          "output_type": "error",
          "traceback": [
            "\u001b[0;31m---------------------------------------------------------------------------\u001b[0m",
            "\u001b[0;31mNameError\u001b[0m                                 Traceback (most recent call last)",
            "\u001b[0;32m<ipython-input-11-1caa7b143b91>\u001b[0m in \u001b[0;36m<cell line: 10>\u001b[0;34m()\u001b[0m\n\u001b[1;32m      8\u001b[0m     \u001b[0mprint\u001b[0m\u001b[0;34m(\u001b[0m\u001b[0moutput\u001b[0m\u001b[0;34m,\u001b[0m\u001b[0mlen\u001b[0m\u001b[0;34m(\u001b[0m\u001b[0moutput\u001b[0m\u001b[0;34m)\u001b[0m\u001b[0;34m,\u001b[0m\u001b[0;34m\"\\n\\n\"\u001b[0m\u001b[0;34m)\u001b[0m\u001b[0;34m\u001b[0m\u001b[0;34m\u001b[0m\u001b[0m\n\u001b[1;32m      9\u001b[0m \u001b[0;34m\u001b[0m\u001b[0m\n\u001b[0;32m---> 10\u001b[0;31m \u001b[0mobj\u001b[0m\u001b[0;34m=\u001b[0m\u001b[0mhighwordcount\u001b[0m\u001b[0;34m(\u001b[0m\u001b[0;34m\"write write write all the number from from from 1 to 100\"\u001b[0m\u001b[0;34m)\u001b[0m\u001b[0;34m\u001b[0m\u001b[0;34m\u001b[0m\u001b[0m\n\u001b[0m\u001b[1;32m     11\u001b[0m \u001b[0mobj\u001b[0m\u001b[0;34m\u001b[0m\u001b[0;34m\u001b[0m\u001b[0m\n\u001b[1;32m     12\u001b[0m \u001b[0mobj1\u001b[0m\u001b[0;34m=\u001b[0m\u001b[0mhighwordcount\u001b[0m\u001b[0;34m(\u001b[0m\u001b[0;34m\"cat on cat on table under cat from india india indian india world\"\u001b[0m\u001b[0;34m)\u001b[0m\u001b[0;34m\u001b[0m\u001b[0;34m\u001b[0m\u001b[0m\n",
            "\u001b[0;32m<ipython-input-11-1caa7b143b91>\u001b[0m in \u001b[0;36mhighwordcount\u001b[0;34m(input)\u001b[0m\n\u001b[1;32m      3\u001b[0m     \u001b[0mprint\u001b[0m\u001b[0;34m(\u001b[0m\u001b[0mlist_form\u001b[0m\u001b[0;34m,\u001b[0m \u001b[0;34m\"\\n\"\u001b[0m\u001b[0;34m,\u001b[0m \u001b[0mtype\u001b[0m\u001b[0;34m(\u001b[0m\u001b[0mlist_form\u001b[0m\u001b[0;34m)\u001b[0m\u001b[0;34m)\u001b[0m\u001b[0;34m\u001b[0m\u001b[0;34m\u001b[0m\u001b[0m\n\u001b[1;32m      4\u001b[0m     \u001b[0mprint\u001b[0m\u001b[0;34m(\u001b[0m\u001b[0mlist_form\u001b[0m\u001b[0;34m.\u001b[0m\u001b[0mcount\u001b[0m\u001b[0;34m)\u001b[0m\u001b[0;34m\u001b[0m\u001b[0;34m\u001b[0m\u001b[0m\n\u001b[0;32m----> 5\u001b[0;31m     \u001b[0moutput\u001b[0m\u001b[0;34m=\u001b[0m\u001b[0mmax\u001b[0m\u001b[0;34m(\u001b[0m\u001b[0mlist_form\u001b[0m\u001b[0;34m,\u001b[0m\u001b[0mkey\u001b[0m\u001b[0;34m=\u001b[0m\u001b[0mcount\u001b[0m\u001b[0;34m)\u001b[0m\u001b[0;34m\u001b[0m\u001b[0;34m\u001b[0m\u001b[0m\n\u001b[0m\u001b[1;32m      6\u001b[0m     \u001b[0mprint\u001b[0m\u001b[0;34m(\u001b[0m\u001b[0moutput\u001b[0m\u001b[0;34m)\u001b[0m\u001b[0;34m\u001b[0m\u001b[0;34m\u001b[0m\u001b[0m\n\u001b[1;32m      7\u001b[0m \u001b[0;34m\u001b[0m\u001b[0m\n",
            "\u001b[0;31mNameError\u001b[0m: name 'count' is not defined"
          ]
        }
      ],
      "source": [
        "def highwordcount(input):\n",
        "    list_form=input.split()\n",
        "    print(list_form, \"\\n\", type(list_form))\n",
        "    print(list_form.count)\n",
        "    output=max(list_form,key=count)\n",
        "\n",
        "    print(output)\n",
        "\n",
        "    print(output,len(output),\"\\n\\n\")\n",
        "\n",
        "obj=highwordcount(\"write write write all the number from from from 1 to 100\")\n",
        "obj\n",
        "obj1=highwordcount(\"cat on cat on table under cat from india india indian india world\")\n",
        "obj1\n",
        "obj2=highwordcount(\"Compose, compose, compose all the letters froms froms froms A to \")\n",
        "obj2"
      ]
    },
    {
      "cell_type": "code",
      "execution_count": null,
      "metadata": {
        "colab": {
          "base_uri": "https://localhost:8080/"
        },
        "id": "s0r8g8FkmORb",
        "outputId": "7805f3c1-5dc9-4fd5-8bc9-24f2e496bc2c"
      },
      "outputs": [
        {
          "name": "stdout",
          "output_type": "stream",
          "text": [
            "Words with maximum count: ['from', 'write']\n",
            "Length of the first word: 4\n"
          ]
        }
      ],
      "source": [
        "my_words = ['write', 'write', 'write', 'all', 'the', 'number', 'from', 'from', 'from', '1', 'to', '100']\n",
        "max_count = my_words.count(max(set(my_words), key=my_words.count))\n",
        "\n",
        "max_count_words = [word for word in set(my_words) if my_words.count(word) == max_count]\n",
        "\n",
        "print(\"Words with maximum count:\", max_count_words)\n",
        "print(\"Length of the first word:\", len(max_count_words[0]))\n",
        "\n"
      ]
    },
    {
      "cell_type": "code",
      "execution_count": null,
      "metadata": {
        "colab": {
          "base_uri": "https://localhost:8080/"
        },
        "id": "50znUpWqmRQ3",
        "outputId": "643d92d3-79c5-4223-dc99-dbbe2d2d8b7d"
      },
      "outputs": [
        {
          "name": "stdout",
          "output_type": "stream",
          "text": [
            "['write', 'write', 'write', 'all', 'the', 'number', 'from', 'from', 'from', '1', 'to', '100'] \n",
            " <class 'list'>\n",
            "[]\n",
            "['write', 'write', 'write', 'all', 'the', 'number', 'from', 'from', 'from', '1', 'to', '100'] \n",
            " <class 'list'>\n",
            "[]\n"
          ]
        }
      ],
      "source": [
        "def highwordcount(input):\n",
        "    list_form = input.split()\n",
        "    print(list_form, \"\\n\", type(list_form))\n",
        "    i = 0  # Initialize i to 0\n",
        "    l1 = []\n",
        "    count = 0\n",
        "\n",
        "    def recur():\n",
        "        nonlocal i, count\n",
        "        if i < len(list_form) - 1:  # Check if i is less than the last index\n",
        "            if list_form[i] == list_form[i + 1]:\n",
        "                count += 1\n",
        "                i += 1\n",
        "            else:\n",
        "                l1.append(count + 1)  # Append count + 1 (including the current word)\n",
        "                count = 0  # Reset count for the new word\n",
        "        recur()  # Call the function recursively\n",
        "\n",
        "\n",
        "    return l1\n",
        "\n",
        "\n",
        "obj = highwordcount(\"write write write all the number from from from 1 to 100\")\n",
        "print(obj)\n",
        "# obj1 = highwordcount(\"cat on cat on table under cat from india india indian india world\")\n",
        "# print(obj1)\n",
        "# obj2 = highwordcount(\"Compose, compose, compose all the letters froms froms froms A to \")\n",
        "# print(obj2)\n",
        "\n",
        "\n",
        "\n",
        "\n",
        "obj=highwordcount(\"write write write all the number from from from 1 to 100\")\n",
        "print(obj)\n",
        "#obj1=highwordcount(\"cat on cat on table under cat from india india indian india world\")\n",
        "#print(obj1)\"\"\"\n",
        "#obj2=highwordcount(\"Compose, compose, compose all the letters froms froms froms A to \")"
      ]
    },
    {
      "cell_type": "code",
      "execution_count": null,
      "metadata": {
        "colab": {
          "base_uri": "https://localhost:8080/"
        },
        "id": "lERmxQYdnU_s",
        "outputId": "6f4dd33d-7672-4e0b-84a0-2e1faef3ec1e"
      },
      "outputs": [
        {
          "name": "stdout",
          "output_type": "stream",
          "text": [
            "['cat', 'on', 'cat', 'on', 'table', 'under', 'cat', 'from', 'india', 'india', 'indian', 'india', 'world'] \n",
            " <class 'list'>\n"
          ]
        }
      ],
      "source": [
        "def highwordcount(input):\n",
        "    list_form = input.split()\n",
        "    print(list_form, \"\\n\", type(list_form))\n",
        "    l1=[]\n",
        "    count=0\n",
        "    def recur():\n",
        "        for i in range(0,len(list_form)):\n",
        "            print(list_form[i])\n",
        "            if list_form[i] == list_form[i+1]:\n",
        "                count +=1\n",
        "                list_form.pop(i+1)\n",
        "\n",
        "            else:\n",
        "\n",
        "                print(count)\n",
        "        return count\n",
        "    return l1.append(count)\n",
        "obj = highwordcount(\"cat on cat on table under cat from india india indian india world\")\n",
        "obj\n"
      ]
    },
    {
      "cell_type": "code",
      "execution_count": null,
      "metadata": {
        "colab": {
          "base_uri": "https://localhost:8080/"
        },
        "id": "aq5-Sc21tW57",
        "outputId": "27684682-0cbc-4bcf-cda5-f3f885cc57ae"
      },
      "outputs": [
        {
          "name": "stdout",
          "output_type": "stream",
          "text": [
            "['cat', 'on', 'cat', 'on', 'table', 'under', 'cat', 'from', 'india', 'india', 'indian', 'india', 'world'] \n",
            " <class 'list'>\n"
          ]
        }
      ],
      "source": [
        "\n",
        "\n",
        "def highwordcount(input):\n",
        "    list_form = input.split()\n",
        "    print(list_form, \"\\n\", type(list_form))\n",
        "    l1=[]\n",
        "    count=0\n",
        "    def recur():\n",
        "        for i in range(0,len(list_form)):\n",
        "            print(list_form[i])\n",
        "            if list_form[i] == list_form[i+1]:\n",
        "                count +=1\n",
        "                list_form.remove(i+1)\n",
        "                print(count)\n",
        "\n",
        "            else:\n",
        "\n",
        "                print(count)\n",
        "\n",
        "    return l1.append(count)\n",
        "obj = highwordcount(\"cat on cat on table under cat from india india indian india world\")\n",
        "printobj"
      ]
    },
    {
      "cell_type": "code",
      "execution_count": null,
      "metadata": {
        "colab": {
          "base_uri": "https://localhost:8080/"
        },
        "id": "YSBpbSkZE0kh",
        "outputId": "26bca121-a229-4baf-a409-7cf4b7743d2c"
      },
      "outputs": [
        {
          "name": "stdout",
          "output_type": "stream",
          "text": [
            "['cat', 'on', 'cat', 'on', 'table', 'under', 'cat', 'from', 'india', 'india', 'indian', 'india', 'world']\n",
            "{'cat': 3, 'on': 2, 'table': 1, 'under': 1, 'from': 1, 'india': 4, 'indian': 1, 'world': 1}\n",
            "world\n"
          ]
        }
      ],
      "source": [
        "#x=\"write write write all the number from from from 1 to 100\"\n",
        "x='cat on cat on table under cat from india india indian india world'\n",
        "y=x.split()\n",
        "print(y)\n",
        "d={}\n",
        "for i in range(len(y)):\n",
        "    z=x.count(y[i])\n",
        "    d[y[i]]=z\n",
        "print(d)\n",
        "print(max(d))\n"
      ]
    },
    {
      "cell_type": "code",
      "execution_count": null,
      "metadata": {
        "id": "N5z1jTi0GLeh"
      },
      "outputs": [],
      "source": []
    },
    {
      "cell_type": "code",
      "execution_count": null,
      "metadata": {
        "colab": {
          "base_uri": "https://localhost:8080/"
        },
        "id": "1VWRNEUkJS_9",
        "outputId": "5132e8e3-9cd3-4430-b62c-5fd8370a588f"
      },
      "outputs": [
        {
          "name": "stdout",
          "output_type": "stream",
          "text": [
            "['cat', 'on', 'cat', 'on', 'table', 'under', 'cat', 'from', 'india', 'india', 'indian', 'india', 'world'] \n",
            " 13\n",
            "{'cat': 3, 'on': 2, 'table': 1, 'under': 1, 'from': 1, 'india': 4, 'indian': 1, 'world': 1}\n",
            "4\n",
            "india\n"
          ]
        }
      ],
      "source": [
        "#x=\"write write write all the number from from from 1 to 100\"\n",
        "x=\"cat on cat on table under cat from india india indian india world\"\n",
        "#x=\"compose, compose, compose all the letters froms froms froms A to\"\n",
        "y=x.split()\n",
        "print(y,\"\\n\",len(y))\n",
        "d={}\n",
        "for i in range(len(y)):\n",
        "    z=x.count(y[i])\n",
        "    d[y[i]]=z\n",
        "print(d)\n",
        "value=max(d.values())\n",
        "print(value)\n",
        "\n",
        "\n",
        "l=[]\n",
        "for key,val in d.items():\n",
        "    if value == val:\n",
        "        l.append(key)\n",
        "print(max(l,key=len))\n",
        "\n",
        "\n"
      ]
    },
    {
      "cell_type": "code",
      "execution_count": null,
      "metadata": {
        "colab": {
          "base_uri": "https://localhost:8080/"
        },
        "id": "eIQ5HqU6KWG-",
        "outputId": "9ddd410e-faa9-4959-90b8-682c20fdef37"
      },
      "outputs": [
        {
          "name": "stdout",
          "output_type": "stream",
          "text": [
            "['e', 'o']\n"
          ]
        }
      ],
      "source": [
        "input1='hello'\n",
        "l1=[]\n",
        "j=len(input1)\n",
        "vowels='aeiou'\n",
        "for i in range(0,j):\n",
        "    if input1[i] in vowels:\n",
        "\n",
        "        l1.append(input1[i])\n",
        "    else:\n",
        "        pass\n",
        "\n",
        "print(l1)"
      ]
    },
    {
      "cell_type": "code",
      "execution_count": null,
      "metadata": {
        "id": "-VJJYm-nFTO0"
      },
      "outputs": [],
      "source": [
        "def output(input_dict):\n",
        "   x=dict.fromkeys(input_dict)\n",
        "   print(x)\n",
        "\n",
        "\n",
        "input_dict = {\"abc\":{\"def\":{\"ghi\":{\"jkl\":{\"mno\":{\"pqr\":{\"stu\":{\"vwx\":{\"yz\":\"you are finally here !!!\"}}}}}}}}}\n",
        "\n",
        "\n",
        "\n"
      ]
    },
    {
      "cell_type": "code",
      "execution_count": null,
      "metadata": {
        "colab": {
          "base_uri": "https://localhost:8080/"
        },
        "id": "zhv1LImfmRlZ",
        "outputId": "d7518a67-27ea-4bd9-9ebd-a198532cccfd"
      },
      "outputs": [
        {
          "name": "stdout",
          "output_type": "stream",
          "text": [
            "{'abc': ['def', 'ghi', 'jkl', 'mno', 'pqr', 'stu', 'vwx', 'yz'],\n",
            " 'def': ['ghi', 'jkl', 'mno', 'pqr', 'stu', 'vwx', 'yz'],\n",
            " 'ghi': ['jkl', 'mno', 'pqr', 'stu', 'vwx', 'yz'],\n",
            " 'jkl': ['mno', 'pqr', 'stu', 'vwx', 'yz'],\n",
            " 'mno': ['pqr', 'stu', 'vwx', 'yz'],\n",
            " 'pqr': ['stu', 'vwx', 'yz'],\n",
            " 'stu': ['vwx', 'yz'],\n",
            " 'vwx': ['yz'],\n",
            " 'yz': ['you are finally here !!!']}\n"
          ]
        }
      ],
      "source": [
        "from pprint import pprint\n",
        "\n",
        "\n",
        "def output(input):\n",
        "    ret = {}\n",
        "    for k, v in input.items():\n",
        "        if isinstance(v, dict):\n",
        "            d = output(v)\n",
        "            ret.update(d)\n",
        "            ret[k] = list(reversed(d))\n",
        "        else:\n",
        "            ret[k] = [v]\n",
        "    return ret\n",
        "\n",
        "input = {\"abc\":{\"def\":{\"ghi\":{\"jkl\":{\"mno\":{\"pqr\":{\"stu\":{\"vwx\":{\"yz\":\"you are finally here !!!\"}}}}}}}}}\n",
        "\n",
        "pprint(output(input))"
      ]
    },
    {
      "cell_type": "code",
      "execution_count": null,
      "metadata": {
        "id": "In48E3_sdZh7"
      },
      "outputs": [],
      "source": []
    },
    {
      "cell_type": "code",
      "execution_count": null,
      "metadata": {
        "colab": {
          "base_uri": "https://localhost:8080/"
        },
        "id": "2mPFKKPolhWX",
        "outputId": "925761e4-8541-4c50-92a6-6f84b2ea749c"
      },
      "outputs": [
        {
          "name": "stdout",
          "output_type": "stream",
          "text": [
            "After decor\n",
            "Before decor\n",
            "add:: 55\n",
            "sub:: 52\n",
            "52\n"
          ]
        }
      ],
      "source": [
        "#example 4\n",
        "\n",
        "def x1(func):\n",
        "    def in2():\n",
        "        print(\"Before decor\")\n",
        "        add=func()\n",
        "        add+= 5\n",
        "        print(\"add::\",add)\n",
        "        return add\n",
        "    return in2\n",
        "\n",
        "def x2(func):\n",
        "    def in2():\n",
        "        print(\"After decor\")\n",
        "        sub=func()\n",
        "        sub -= 3\n",
        "        print(\"sub::\",sub)\n",
        "        return sub\n",
        "    return in2\n",
        "\n",
        "@x2\n",
        "@x1\n",
        "\n",
        "def concat():\n",
        "    a=50\n",
        "    return a\n",
        "\n",
        "print(concat())"
      ]
    },
    {
      "cell_type": "code",
      "execution_count": null,
      "metadata": {
        "colab": {
          "base_uri": "https://localhost:8080/",
          "height": 110
        },
        "id": "ELWf2za116_E",
        "outputId": "d2a8a78f-ebbd-40ef-d56e-2fca0881f61a"
      },
      "outputs": [
        {
          "ename": "SyntaxError",
          "evalue": "expected ':' (<ipython-input-5-e5314d0417ab>, line 1)",
          "output_type": "error",
          "traceback": [
            "\u001b[0;36m  File \u001b[0;32m\"<ipython-input-5-e5314d0417ab>\"\u001b[0;36m, line \u001b[0;32m1\u001b[0m\n\u001b[0;31m    def cal(input1:int)\u001b[0m\n\u001b[0m                       ^\u001b[0m\n\u001b[0;31mSyntaxError\u001b[0m\u001b[0;31m:\u001b[0m expected ':'\n"
          ]
        }
      ],
      "source": [
        "def cal(input1:int)-\n",
        "    print(input1*2)\n",
        "\n",
        "cal(2)"
      ]
    },
    {
      "cell_type": "code",
      "execution_count": null,
      "metadata": {
        "id": "G9Wqc7qHLRun"
      },
      "outputs": [],
      "source": []
    },
    {
      "cell_type": "code",
      "execution_count": null,
      "metadata": {
        "colab": {
          "base_uri": "https://localhost:8080/"
        },
        "id": "UxppgdNSxK27",
        "outputId": "eb5a0f56-8f43-478c-edaf-ca15a1c30010"
      },
      "outputs": [
        {
          "name": "stdout",
          "output_type": "stream",
          "text": [
            "0\n",
            "1\n",
            "2\n",
            "0\n",
            "0\n"
          ]
        }
      ],
      "source": [
        "i = 0\n",
        "while i < 3:\n",
        "       print(i)\n",
        "       i += 1\n",
        "else:\n",
        "      print(0)\n",
        "      print(3%3)\n",
        "\n"
      ]
    },
    {
      "cell_type": "code",
      "execution_count": null,
      "metadata": {
        "colab": {
          "base_uri": "https://localhost:8080/"
        },
        "id": "lfol9IZnB53M",
        "outputId": "45757620-d396-491f-9dc4-d7cd3eab1594"
      },
      "outputs": [
        {
          "name": "stdout",
          "output_type": "stream",
          "text": [
            "[['ad', 'bd', 'cd'], ['ae', 'be', 'ce'], ['af', 'bf', 'cf']]\n"
          ]
        }
      ],
      "source": [
        "print([[i+j for i in \"abc\"] for j in \"def\"])\n",
        "\n"
      ]
    },
    {
      "cell_type": "code",
      "execution_count": null,
      "metadata": {
        "colab": {
          "base_uri": "https://localhost:8080/"
        },
        "id": "5WVQecRRB9C1",
        "outputId": "127448fb-8eca-43c0-d3f1-26d72fef18c9"
      },
      "outputs": [
        {
          "name": "stdout",
          "output_type": "stream",
          "text": [
            "0\n",
            "1\n",
            "2\n"
          ]
        }
      ],
      "source": [
        "\n",
        "\n",
        "i = 0\n",
        "while i < 5:\n",
        "    print(i)\n",
        "    i += 1\n",
        "    if i == 3:\n",
        "        break\n",
        "else:\n",
        "    print(0)\n",
        "\n"
      ]
    },
    {
      "cell_type": "code",
      "execution_count": null,
      "metadata": {
        "colab": {
          "base_uri": "https://localhost:8080/"
        },
        "id": "DBOsZs9fCAvD",
        "outputId": "bcaaebb1-cc12-4bb4-ed77-8fc7c0ea225b"
      },
      "outputs": [
        {
          "name": "stdout",
          "output_type": "stream",
          "text": [
            "1\n",
            "2\n"
          ]
        }
      ],
      "source": [
        "\n",
        "i = 1\n",
        "while True:\n",
        "    if i%3 == 0:\n",
        "        break\n",
        "    print(i)\n",
        "    i += 1"
      ]
    },
    {
      "cell_type": "code",
      "execution_count": null,
      "metadata": {
        "colab": {
          "base_uri": "https://localhost:8080/"
        },
        "id": "e1j0y7MAnxv-",
        "outputId": "d64b84f5-4fdf-4fdc-86b0-8082d2e6ec74"
      },
      "outputs": [
        {
          "name": "stdout",
          "output_type": "stream",
          "text": [
            "inner\n"
          ]
        }
      ],
      "source": [
        "#  local and non local example\n",
        "def outer():\n",
        "\n",
        "    x=\"outer\"\n",
        "\n",
        "    def inner():\n",
        "        nonlocal x\n",
        "        x=\"inner\"\n",
        "\n",
        "    inner()\n",
        "    return x\n",
        "\n",
        "print(outer())"
      ]
    },
    {
      "cell_type": "code",
      "execution_count": null,
      "metadata": {
        "colab": {
          "base_uri": "https://localhost:8080/"
        },
        "id": "-QHZ8CE0AIfa",
        "outputId": "313b0957-e606-4731-ccb3-7200c0a12caf"
      },
      "outputs": [
        {
          "name": "stdout",
          "output_type": "stream",
          "text": [
            "Number 1 is odd and odd_sum is 1\n",
            "Number 2 is even and even_sum is 2 \n",
            "Number 3 is odd and odd_sum is 4\n",
            "Number 4 is even and even_sum is 6 \n",
            "Number 5 is odd and odd_sum is 9\n",
            "[None, None, None, None, None]\n"
          ]
        }
      ],
      "source": [
        "#MAP function\n",
        "\n",
        "lst=[1,2,3,4,5]\n",
        "sum_even=0\n",
        "sum_odd=0\n",
        "\n",
        "def even_odd_sum(num):\n",
        "\n",
        "    global sum_even,sum_odd\n",
        "    if num%2==0:\n",
        "        sum_even +=num\n",
        "        print(\"Number {} is even and even_sum is {} \".format(num, sum_even))\n",
        "    else:\n",
        "        sum_odd +=num\n",
        "        print(\"Number {} is odd and odd_sum is {}\".format(num,sum_odd))\n",
        "\n",
        "print(list(map(even_odd_sum,lst)))"
      ]
    },
    {
      "cell_type": "code",
      "execution_count": null,
      "metadata": {
        "colab": {
          "base_uri": "https://localhost:8080/"
        },
        "id": "shm_zGypQXzR",
        "outputId": "ebe2b942-79e1-40e6-fc31-6668d3b975f5"
      },
      "outputs": [
        {
          "name": "stdout",
          "output_type": "stream",
          "text": [
            "[2, 4, 44, 98]\n",
            "[2, 4, 44, 98]\n",
            "[False, True, False, True, False, False, False, False, True, True]\n"
          ]
        }
      ],
      "source": [
        "#filter\n",
        "\n",
        "def even(num):\n",
        "    if num%2==0:\n",
        "        return True\n",
        "\n",
        "lst=[1,2,3,4,5,67,55,77,44,98]\n",
        "print(list(filter(even,lst)))\n",
        "\n",
        "print(list(filter(lambda num:num%2==0, lst)))\n",
        "print(list(map(lambda num:num%2==0,lst)))\n"
      ]
    },
    {
      "cell_type": "code",
      "execution_count": null,
      "metadata": {
        "colab": {
          "base_uri": "https://localhost:8080/"
        },
        "id": "rjOYjL5NTKmT",
        "outputId": "72125647-d10e-42b9-ab09-dd0c5c2105c1"
      },
      "outputs": [
        {
          "name": "stdout",
          "output_type": "stream",
          "text": [
            "Squared List: [1, 4, 9, 16, 25]\n",
            "Squared List: [1, 2, 3, 4, 5]\n"
          ]
        }
      ],
      "source": [
        "#difference between map and filter using lambda\n",
        "\n",
        "lst = [1, 2, 3, 4, 5]\n",
        "\n",
        "# Using map to square each number\n",
        "squared_lst = list(map(lambda x: x ** 2, lst))\n",
        "print(\"Squared List:\", squared_lst)\n",
        "\n",
        "# Using filter square root each number\n",
        "sqrd_lst = list(filter(lambda x: x ** 2, lst))\n",
        "print(\"Squared List:\", sqrd_lst)\n",
        "\n",
        "#map() returns all values where as filter() returns only conditional values"
      ]
    },
    {
      "cell_type": "code",
      "execution_count": null,
      "metadata": {
        "colab": {
          "base_uri": "https://localhost:8080/"
        },
        "id": "8_bEapDwYy3_",
        "outputId": "01c04fa4-afea-43ee-90e2-45507ce2e5a3"
      },
      "outputs": [
        {
          "name": "stdout",
          "output_type": "stream",
          "text": [
            "[None, True, None, True, None, None, None, None, True, True]\n",
            "[2, 4, 44, 98]\n",
            "[False, True, False, True, False, False, False, False, True, True]\n",
            "[2, 4, 44, 98]\n"
          ]
        }
      ],
      "source": [
        "#map() and filter()\n",
        "\n",
        "# map() returns all iterations, where as filter() returns only values conditions satsfies\n",
        "\n",
        "def even(num):\n",
        "    if num%2==0:\n",
        "        return True\n",
        "\n",
        "print(list(map(even,lst)))\n",
        "print(list(filter(even,lst)))\n",
        "\n",
        "print(list(map(lambda x:x%2==0,lst)))\n",
        "print(list(filter(lambda x:x %2==0, lst)))\n",
        "\n",
        "lst=[1,2,3,4,5,67,55,77,44,98]"
      ]
    },
    {
      "cell_type": "code",
      "execution_count": null,
      "metadata": {
        "colab": {
          "base_uri": "https://localhost:8080/"
        },
        "id": "JRR2WCasJniH",
        "outputId": "f4853b2b-d98b-4c1d-b01b-3f1c61980710"
      },
      "outputs": [
        {
          "name": "stdout",
          "output_type": "stream",
          "text": [
            "Number 1 is odd and odd_sum is 1\n",
            "Number 2 is even and even_sum is 2\n",
            "Number 3 is odd and odd_sum is 4\n",
            "Number 4 is even and even_sum is 6\n",
            "Number 5 is odd and odd_sum is 9\n",
            "Total even sum: 6\n",
            "Total odd sum: 9\n"
          ]
        }
      ],
      "source": [
        "lst = [1, 2, 3, 4, 5]\n",
        "\n",
        "def even_odd_sum(nums):\n",
        "    sum_even = 0\n",
        "    sum_odd = 0\n",
        "\n",
        "    for num in nums:\n",
        "        if num % 2 == 0:\n",
        "            sum_even += num\n",
        "            print(\"Number {} is even and even_sum is {}\".format(num, sum_even))\n",
        "\n",
        "        else:\n",
        "            sum_odd += num\n",
        "            print(\"Number {} is odd and odd_sum is {}\".format(num, sum_odd))\n",
        "\n",
        "    return sum_even, sum_odd\n",
        "\n",
        "sum_even, sum_odd = even_odd_sum(lst)\n",
        "print(\"Total even sum:\", sum_even)\n",
        "print(\"Total odd sum:\", sum_odd)\n"
      ]
    },
    {
      "cell_type": "code",
      "execution_count": null,
      "metadata": {
        "colab": {
          "base_uri": "https://localhost:8080/"
        },
        "id": "zxIQLmnrq1CX",
        "outputId": "b18de80c-6cb5-4622-941b-55c4410386fc"
      },
      "outputs": [
        {
          "name": "stdout",
          "output_type": "stream",
          "text": [
            "False\n"
          ]
        }
      ],
      "source": [
        "x='10'\n",
        "y=10\n",
        "print(x == y)"
      ]
    },
    {
      "cell_type": "code",
      "execution_count": null,
      "metadata": {
        "colab": {
          "base_uri": "https://localhost:8080/"
        },
        "id": "yT-7eUZnePne",
        "outputId": "e91055c8-f84f-4211-89eb-09648ebf8f74"
      },
      "outputs": [
        {
          "data": {
            "text/plain": [
              "[1, 4, 9, 25, 36]"
            ]
          },
          "execution_count": 79,
          "metadata": {},
          "output_type": "execute_result"
        }
      ],
      "source": [
        "lst=[1,2,3,4,5,6]\n",
        "\n",
        "[i**2 for i in lst if i != 4]\n"
      ]
    },
    {
      "cell_type": "code",
      "execution_count": null,
      "metadata": {
        "colab": {
          "base_uri": "https://localhost:8080/"
        },
        "id": "FWtwyeFVOTML",
        "outputId": "c971b227-468e-4a85-881c-ad5af972f5bd"
      },
      "outputs": [
        {
          "name": "stdout",
          "output_type": "stream",
          "text": [
            "<class 'tuple'> <class 'dict'>\n",
            "(('Ram', 'shyyam'), {'age': 30, 'hight': 5.6}, ('Ram', 'shyyam'), {'age': 30, 'hight': 5.6})\n"
          ]
        }
      ],
      "source": [
        "def func(*args,**kwargs):\n",
        "    print(type(args),type(kwargs))\n",
        "    a1=args\n",
        "    k1=kwargs\n",
        "    return args,kwargs,a1,k1\n",
        "\n",
        "values=func(\"Ram\",'shyyam',age=30,hight=5.6)\n",
        "print(values)\n",
        "\n"
      ]
    },
    {
      "cell_type": "code",
      "execution_count": null,
      "metadata": {
        "colab": {
          "base_uri": "https://localhost:8080/"
        },
        "id": "YQVAgYgtRltq",
        "outputId": "0d1589bf-997d-4a29-bd51-15b0d6308461"
      },
      "outputs": [
        {
          "name": "stdout",
          "output_type": "stream",
          "text": [
            "(('Ram', 'Shyam'), {'age': 30, 'height': 5.6})\n",
            "((['Ram', 'Shyam'], {'age': 30, 'height': 5.6}), {})\n"
          ]
        }
      ],
      "source": [
        "a2=['Ram','Shyam']\n",
        "k2={'age':30,'height':5.6}\n",
        "def func(*a3,**k3):\n",
        "    a4=a3\n",
        "    k4=k3\n",
        "    return a4,k4\n",
        "\n",
        "val2=func(*a2,**k2)\n",
        "val3=func(a2,k2)\n",
        "print(val2)\n",
        "print(val3)\n",
        "\n"
      ]
    },
    {
      "cell_type": "code",
      "execution_count": null,
      "metadata": {
        "colab": {
          "base_uri": "https://localhost:8080/"
        },
        "id": "vSneRuUbzEzb",
        "outputId": "3cacf286-211f-411e-9516-f7bcbb217992"
      },
      "outputs": [
        {
          "name": "stdout",
          "output_type": "stream",
          "text": [
            "Requirement already satisfied: Pyforest in /usr/local/lib/python3.10/dist-packages (1.1.2)\n"
          ]
        }
      ],
      "source": [
        "!pip install Pyforest\n"
      ]
    },
    {
      "cell_type": "code",
      "execution_count": null,
      "metadata": {
        "colab": {
          "base_uri": "https://localhost:8080/",
          "height": 147
        },
        "id": "I_78lp49zfkc",
        "outputId": "33cb7b5d-3177-4c3e-d426-d62f6469b7da"
      },
      "outputs": [
        {
          "ename": "NameError",
          "evalue": "name 'pd' is not defined",
          "output_type": "error",
          "traceback": [
            "\u001b[0;31m---------------------------------------------------------------------------\u001b[0m",
            "\u001b[0;31mNameError\u001b[0m                                 Traceback (most recent call last)",
            "\u001b[0;32m<ipython-input-35-db1af59c514b>\u001b[0m in \u001b[0;36m<cell line: 1>\u001b[0;34m()\u001b[0m\n\u001b[0;32m----> 1\u001b[0;31m \u001b[0mpd\u001b[0m\u001b[0;34m.\u001b[0m\u001b[0mread_html\u001b[0m\u001b[0;34m(\u001b[0m\u001b[0;34m'https://ngodarpan.gov.in/index.php/search/'\u001b[0m\u001b[0;34m)\u001b[0m\u001b[0;34m\u001b[0m\u001b[0;34m\u001b[0m\u001b[0m\n\u001b[0m",
            "\u001b[0;31mNameError\u001b[0m: name 'pd' is not defined"
          ]
        }
      ],
      "source": [
        "pd.read_html('https://ngodarpan.gov.in/index.php/search/')"
      ]
    },
    {
      "cell_type": "code",
      "execution_count": null,
      "metadata": {
        "id": "qYQVrYLC26eN"
      },
      "outputs": [],
      "source": [
        "#Decorators\n",
        "\n",
        "### Closures of functions\n",
        "def main_welcome(msg):\n",
        "\n",
        "    def sub_welcome_class():\n",
        "        print(\"Welcome To Python Channel\")\n",
        "        print(msg)\n",
        "        print(\"Please subscribe Pythonchannel\")\n",
        "    return sub_welcome_class()\n",
        "\n"
      ]
    },
    {
      "cell_type": "code",
      "execution_count": null,
      "metadata": {
        "colab": {
          "base_uri": "https://localhost:8080/"
        },
        "id": "lKHNYYdz5fc3",
        "outputId": "5665097d-7161-4904-befc-cc91939c9be8"
      },
      "outputs": [
        {
          "name": "stdout",
          "output_type": "stream",
          "text": [
            "Welcome To Python Channel\n",
            "Python\n",
            "Please subscribe Pythonchannel\n"
          ]
        }
      ],
      "source": [
        "main_welcome(\"Python\")\n"
      ]
    },
    {
      "cell_type": "code",
      "execution_count": null,
      "metadata": {
        "id": "t0gPp3s45jhO"
      },
      "outputs": [],
      "source": [
        "\n",
        "### Closures & initial Decorators\n",
        "def main_welcome(func):\n",
        "\n",
        "    def sub_welcome_class():\n",
        "        print(\"Welcome To Python Channel\")\n",
        "        print(func([1,2,3,4,5,6]))\n",
        "        print(\"Please subscribe Pythonchannel\")\n",
        "    return sub_welcome_class()\n"
      ]
    },
    {
      "cell_type": "code",
      "execution_count": null,
      "metadata": {
        "colab": {
          "base_uri": "https://localhost:8080/"
        },
        "id": "B-ULRfuv5sgP",
        "outputId": "e7ec8c91-5ef1-4463-e2c5-a8bc5d92db11"
      },
      "outputs": [
        {
          "name": "stdout",
          "output_type": "stream",
          "text": [
            "Welcome To Python Channel\n",
            "6\n",
            "Please subscribe Pythonchannel\n"
          ]
        }
      ],
      "source": [
        "main_welcome(len)\n",
        "\n"
      ]
    },
    {
      "cell_type": "code",
      "execution_count": null,
      "metadata": {
        "id": "RV1PjELT57mU"
      },
      "outputs": [],
      "source": [
        "### Decorators\n",
        "def main_welcome(func):\n",
        "\n",
        "    def sub_welcome_class():\n",
        "        print(\"Welcome To Python Channel\")\n",
        "        func()\n",
        "        print(\"Please subscribe Pythonchannel\")\n",
        "    return sub_welcome_class()\n"
      ]
    },
    {
      "cell_type": "code",
      "execution_count": null,
      "metadata": {
        "colab": {
          "base_uri": "https://localhost:8080/"
        },
        "id": "R4TgZ7hY59_J",
        "outputId": "34116743-b6ff-4b53-d92b-c2bd87bbcda3"
      },
      "outputs": [
        {
          "name": "stdout",
          "output_type": "stream",
          "text": [
            "Welcome To Python Channel\n",
            "This is Python youtube channel\n",
            "Please subscribe Pythonchannel\n"
          ]
        }
      ],
      "source": [
        "@main_welcome\n",
        "def channel_name():\n",
        "    print(\"This is Python youtube channel\")"
      ]
    },
    {
      "cell_type": "code",
      "source": [],
      "metadata": {
        "id": "opBLsDM8g2UM"
      },
      "execution_count": null,
      "outputs": []
    },
    {
      "cell_type": "code",
      "execution_count": null,
      "metadata": {
        "colab": {
          "base_uri": "https://localhost:8080/"
        },
        "id": "UyMTLH7uW1kw",
        "outputId": "d6a3d46b-2ed7-4db7-eddf-b9352603f69e"
      },
      "outputs": [
        {
          "output_type": "stream",
          "name": "stdout",
          "text": [
            "[1, 2, 3, 4] [1, 2, 3, 4]\n"
          ]
        }
      ],
      "source": [
        "### =,copy(),deepcopy()\n",
        "\n",
        "import copy\n",
        "\n",
        "lst1=[1,2,3,4]\n",
        "lst2=[3,4,5,6]\n",
        "\n",
        "lst2=lst1\n",
        "lst2=lst1.copy()\n",
        "lst2=copy.deepcopy(lst1)\n",
        "\n",
        "print(lst1,lst2)\n"
      ]
    },
    {
      "cell_type": "code",
      "source": [
        "import random\n",
        "when = ['A few years ago', 'Yesterday', 'Last night', 'A long time ago','On 20th Jan']\n",
        "who = ['a rabbit', 'an elephant', 'a mouse', 'a turtle','a cat']\n",
        "name = ['Ali', 'Miriam','daniel', 'Hoouk', 'Starwalker']\n",
        "residence = ['Barcelona','India', 'Germany', 'Venice', 'England']\n",
        "went = ['cinema', 'university','seminar', 'school', 'laundry']\n",
        "happened = ['made a lot of friends','Eats a burger', 'found a secret key', 'solved a mistery', 'wrote a book']\n",
        "print(random.choice(when) + ', ' + random.choice(who) + ' that lived in ' + random.choice(residence) + ', went to the ' + random.choice(went) + ' and ' + random.choice(happened))\n"
      ],
      "metadata": {
        "colab": {
          "base_uri": "https://localhost:8080/"
        },
        "id": "epbNRQXsvhfH",
        "outputId": "ed5f6751-a226-4df3-b05b-d7cc21fcd658"
      },
      "execution_count": null,
      "outputs": [
        {
          "output_type": "stream",
          "name": "stdout",
          "text": [
            "A long time ago, a cat that lived in Germany, went to the seminar and found a secret key\n"
          ]
        }
      ]
    }
  ],
  "metadata": {
    "colab": {
      "provenance": [],
      "authorship_tag": "ABX9TyMtE/3nb+bTG14z95yR4pVm",
      "include_colab_link": true
    },
    "kernelspec": {
      "display_name": "Python 3",
      "name": "python3"
    },
    "language_info": {
      "name": "python"
    }
  },
  "nbformat": 4,
  "nbformat_minor": 0
}