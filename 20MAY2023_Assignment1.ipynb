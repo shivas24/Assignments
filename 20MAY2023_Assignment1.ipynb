{
  "nbformat": 4,
  "nbformat_minor": 0,
  "metadata": {
    "colab": {
      "provenance": [],
      "authorship_tag": "ABX9TyNkAt4LmzSXKV8ilUvhqJaD",
      "include_colab_link": true
    },
    "kernelspec": {
      "name": "python3",
      "display_name": "Python 3"
    },
    "language_info": {
      "name": "python"
    }
  },
  "cells": [
    {
      "cell_type": "markdown",
      "metadata": {
        "id": "view-in-github",
        "colab_type": "text"
      },
      "source": [
        "<a href=\"https://colab.research.google.com/github/shivas24/Assignments/blob/main/20MAY2023_Assignment1.ipynb\" target=\"_parent\"><img src=\"https://colab.research.google.com/assets/colab-badge.svg\" alt=\"Open In Colab\"/></a>"
      ]
    },
    {
      "cell_type": "code",
      "execution_count": null,
      "metadata": {
        "id": "-sfvv6u28PNk"
      },
      "outputs": [],
      "source": []
    },
    {
      "cell_type": "markdown",
      "source": [
        "#Python Basics"
      ],
      "metadata": {
        "id": "xl98VACs8U3W"
      }
    },
    {
      "cell_type": "markdown",
      "source": [
        "#What are keywords in python? Using the keyword library, print all the python keywords"
      ],
      "metadata": {
        "id": "xlJWOy5z8dzu"
      }
    },
    {
      "cell_type": "code",
      "source": [
        "#Keywords special reserved words in python can only be used to run python codes. We can not use keywords to assign variables. Even we cant alter.\n",
        "\n",
        "#To print keywrods list\n",
        "\n",
        "import keyword\n",
        "for  key in keyword.kwlist:\n",
        "    print(key)"
      ],
      "metadata": {
        "colab": {
          "base_uri": "https://localhost:8080/"
        },
        "id": "HkchQLzR8ZmW",
        "outputId": "314b26a3-fe20-4c77-e4ac-1da8a3a20c8b"
      },
      "execution_count": null,
      "outputs": [
        {
          "output_type": "stream",
          "name": "stdout",
          "text": [
            "False\n",
            "None\n",
            "True\n",
            "and\n",
            "as\n",
            "assert\n",
            "async\n",
            "await\n",
            "break\n",
            "class\n",
            "continue\n",
            "def\n",
            "del\n",
            "elif\n",
            "else\n",
            "except\n",
            "finally\n",
            "for\n",
            "from\n",
            "global\n",
            "if\n",
            "import\n",
            "in\n",
            "is\n",
            "lambda\n",
            "nonlocal\n",
            "not\n",
            "or\n",
            "pass\n",
            "raise\n",
            "return\n",
            "try\n",
            "while\n",
            "with\n",
            "yield\n"
          ]
        }
      ]
    },
    {
      "cell_type": "markdown",
      "source": [
        "#What are the rules to create variables in python?\n",
        "\n"
      ],
      "metadata": {
        "id": "vDurraEN_F7w"
      }
    },
    {
      "cell_type": "code",
      "source": [
        "#Varibales names cant be start with numeric values\n",
        "123='Hello'\n",
        "2myname=\"Hello\"\n",
        "\n",
        "#Varibales cant be assigned with multiple words\n",
        "\n",
        "my name= 'shiva'\n",
        "\n",
        "\n",
        "#Variable names cant be python keywords\n",
        "\n",
        "for = 123"
      ],
      "metadata": {
        "colab": {
          "base_uri": "https://localhost:8080/",
          "height": 140
        },
        "id": "bXBw0pNu9YnX",
        "outputId": "85b0ac6e-2636-4c67-9688-8ffd9a639326"
      },
      "execution_count": null,
      "outputs": [
        {
          "output_type": "error",
          "ename": "SyntaxError",
          "evalue": "ignored",
          "traceback": [
            "\u001b[0;36m  File \u001b[0;32m\"<ipython-input-26-3ba927f72976>\"\u001b[0;36m, line \u001b[0;32m2\u001b[0m\n\u001b[0;31m    123='Hello'\u001b[0m\n\u001b[0m    ^\u001b[0m\n\u001b[0;31mSyntaxError\u001b[0m\u001b[0;31m:\u001b[0m cannot assign to literal here. Maybe you meant '==' instead of '='?\n"
          ]
        }
      ]
    },
    {
      "cell_type": "markdown",
      "source": [
        "#What are the standards and conventions followed for the nomenclature of variables in python to improve code readability and maintainability"
      ],
      "metadata": {
        "id": "gzclJHgdApfv"
      }
    },
    {
      "cell_type": "code",
      "source": [
        "# Names must consistent and meaningful\n",
        "# Use conventional methods like assigning variables with atleast one underscore\n",
        "# Python is case sensitive. So  use variables names carefully by avoiding reserved keywords\n",
        "# varibale names can be follow the style camelcase, snakecase etc..MyVarName, my_var_name etc.."
      ],
      "metadata": {
        "id": "sG90luce_mj5"
      },
      "execution_count": null,
      "outputs": []
    },
    {
      "cell_type": "markdown",
      "source": [
        "#What will happen if a keyword is used as a variable name?"
      ],
      "metadata": {
        "id": "7-ARwdBBBkZG"
      }
    },
    {
      "cell_type": "code",
      "source": [
        "# If we use reserved keywords as variablename it throws syntax errors\n",
        "\n",
        "if = \"Hello\"\n",
        "print(if)"
      ],
      "metadata": {
        "colab": {
          "base_uri": "https://localhost:8080/",
          "height": 140
        },
        "id": "arT9lpUZBlzF",
        "outputId": "99146913-e4ce-4a35-d988-b0b703c260a8"
      },
      "execution_count": null,
      "outputs": [
        {
          "output_type": "error",
          "ename": "SyntaxError",
          "evalue": "ignored",
          "traceback": [
            "\u001b[0;36m  File \u001b[0;32m\"<ipython-input-3-f021a4455e7f>\"\u001b[0;36m, line \u001b[0;32m3\u001b[0m\n\u001b[0;31m    if = \"Hello\"\u001b[0m\n\u001b[0m       ^\u001b[0m\n\u001b[0;31mSyntaxError\u001b[0m\u001b[0;31m:\u001b[0m invalid syntax\n"
          ]
        }
      ]
    },
    {
      "cell_type": "markdown",
      "source": [
        "#For what purpose def keyword is used?"
      ],
      "metadata": {
        "id": "WB-jTEFKCNTX"
      }
    },
    {
      "cell_type": "code",
      "source": [
        "# def keyword is used to define a function\n",
        "\n",
        "def func():\n",
        "    print(\"Hello\")\n",
        "\n",
        "func()"
      ],
      "metadata": {
        "colab": {
          "base_uri": "https://localhost:8080/"
        },
        "id": "r6lU1qQrB4Gi",
        "outputId": "d0db21f2-0925-4509-ac93-329d91babdc6"
      },
      "execution_count": null,
      "outputs": [
        {
          "output_type": "stream",
          "name": "stdout",
          "text": [
            "Hello\n"
          ]
        }
      ]
    },
    {
      "cell_type": "markdown",
      "source": [
        "#What is the operation of this special character ‘\\’?"
      ],
      "metadata": {
        "id": "i0rXQr0ADSnK"
      }
    },
    {
      "cell_type": "code",
      "source": [
        "# \"\\\" also known as backslash used for various purposes in python.\n",
        "\n",
        "# \\n   new line character\n",
        "# \\r  carriage return\n",
        "# \\  backspace\n",
        "# \\b  insert backspace\n",
        "#\\t tabspace\n",
        "\n",
        "my_name= \"Hello\"\n",
        "print(\"1:\",my_name,'\\n',my_name)\n",
        "print(\"2:\",my_name,'\\b',my_name)\n",
        "print(\"3:\",my_name,'\\r',my_name)\n",
        "print(\"4:\",my_name,'\\t',my_name)\n"
      ],
      "metadata": {
        "colab": {
          "base_uri": "https://localhost:8080/"
        },
        "id": "sUxgVUeLCWud",
        "outputId": "c3bc3535-44b8-49de-d555-3f4349688d05"
      },
      "execution_count": null,
      "outputs": [
        {
          "output_type": "stream",
          "name": "stdout",
          "text": [
            "1: Hello \n",
            " Hello\n",
            "2: Hello \b Hello\n",
            "3: Hello \r Hello\n",
            "4: Hello \t Hello\n"
          ]
        }
      ]
    },
    {
      "cell_type": "markdown",
      "source": [
        "#Give an example of the following conditions:\n",
        "(i) Homogeneous list\n",
        "\n",
        "(ii) Heterogeneous set\n",
        "\n",
        "(iii) Homogeneous tuple"
      ],
      "metadata": {
        "id": "aYoLD4AjZopY"
      }
    },
    {
      "cell_type": "code",
      "source": [
        "# Homogeneous List\n",
        "\n",
        "hom_list=[\"Apples\",\"bananas\",\"CHerrys\"]\n",
        "\n",
        "#Heterogeneous set\n",
        "\n",
        "het_set={\"Apples\",10.25,True}\n",
        "\n",
        "#Homogeneous Tuple\n",
        "\n",
        "home_tuple=(\"Apples\",\"Cherry\",'mango')\n",
        "\n",
        "print(hom_list)\n",
        "print(het_set)\n",
        "print(home_tuple)"
      ],
      "metadata": {
        "colab": {
          "base_uri": "https://localhost:8080/"
        },
        "id": "TLcQHyVlEt1f",
        "outputId": "f6111e70-4785-4505-9a3c-973fab93f496"
      },
      "execution_count": null,
      "outputs": [
        {
          "output_type": "stream",
          "name": "stdout",
          "text": [
            "['Apples', 'bananas', 'CHerrys']\n",
            "{True, 10.25, 'Apples'}\n",
            "('Apples', 'Cherry', 'mango')\n"
          ]
        }
      ]
    },
    {
      "cell_type": "markdown",
      "source": [
        "#Explain the mutable and immutable data types with proper explanation & examples."
      ],
      "metadata": {
        "id": "BPuw22OlaQzQ"
      }
    },
    {
      "cell_type": "code",
      "source": [
        "#Mutable datatypes\n",
        "\n",
        "#lists, dictionaries are mutable\n",
        "#sets,tuples are unmutable\n",
        "\n",
        "my_list=[\"Apples\",\"Mangoes\",\"Cherrys\"]\n",
        "my_list.append(\"Bananas\")   # Adding element to list\n",
        "print(my_list)"
      ],
      "metadata": {
        "colab": {
          "base_uri": "https://localhost:8080/"
        },
        "id": "Vb7OeCxYaLBn",
        "outputId": "66802173-8030-47b8-e0af-641574b2681e"
      },
      "execution_count": null,
      "outputs": [
        {
          "output_type": "stream",
          "name": "stdout",
          "text": [
            "['Apples', 'Mangoes', 'Cherrys', 'Bananas']\n"
          ]
        }
      ]
    },
    {
      "cell_type": "code",
      "source": [
        "my_dictin={\"f_name\":\"Shivaprrasad\",\"l_name\":\"SK\"}\n",
        "my_dictin['age']=42   #Adding element to dictionaries\n",
        "print(my_dictin)"
      ],
      "metadata": {
        "colab": {
          "base_uri": "https://localhost:8080/"
        },
        "id": "Anjn2ArJjP2I",
        "outputId": "f7e8010f-63bf-40a9-94d8-395f59ad7331"
      },
      "execution_count": null,
      "outputs": [
        {
          "output_type": "stream",
          "name": "stdout",
          "text": [
            "{'f_name': 'Shivaprrasad', 'l_name': 'SK', 'age': 42}\n"
          ]
        }
      ]
    },
    {
      "cell_type": "code",
      "source": [
        "my_sets={'Apples',\"Bananas\"}\n",
        "print(my_sets) #Sets are unmutable cant add element directly\n",
        "my_lists=list(my_sets) #Converting sets to lists\n",
        "my_lists.append(\"Mangoes\") #Adding element to list\n",
        "my_sets_new=set(my_lists) #Converting lists to set\n",
        "print(my_sets_new)"
      ],
      "metadata": {
        "colab": {
          "base_uri": "https://localhost:8080/"
        },
        "id": "qIwz5IzdlWBJ",
        "outputId": "10e3b30c-6d27-4846-d3a1-f5fa71f48b55"
      },
      "execution_count": null,
      "outputs": [
        {
          "output_type": "stream",
          "name": "stdout",
          "text": [
            "{'Bananas', 'Apples'}\n",
            "{'Mangoes', 'Apples', 'Bananas'}\n"
          ]
        }
      ]
    },
    {
      "cell_type": "code",
      "source": [
        "my_tuple=(\"Apples\",\"Bananas\")\n",
        "print(my_tuple)\n",
        "\n",
        "my_lst=list(my_tuple)\n",
        "my_lst.append(\"Cherry\")\n",
        "print((my_lst))"
      ],
      "metadata": {
        "colab": {
          "base_uri": "https://localhost:8080/"
        },
        "id": "eWHJuqCgnE3B",
        "outputId": "a9e771a0-9177-41d9-ec29-d0701acb1500"
      },
      "execution_count": null,
      "outputs": [
        {
          "output_type": "stream",
          "name": "stdout",
          "text": [
            "('Apples', 'Bananas')\n",
            "['Apples', 'Bananas', 'Cherry']\n"
          ]
        }
      ]
    },
    {
      "cell_type": "markdown",
      "source": [
        "#Write a code to create the given structure using only for loop.\n",
        "\n",
        "         *\n",
        "        ***\n",
        "       *****\n",
        "      *******\n",
        "     *********\n"
      ],
      "metadata": {
        "id": "iI1H9FAd1fD3"
      }
    },
    {
      "cell_type": "code",
      "source": [
        "for i in range(1,10,2):\n",
        "    i = i*'*'\n",
        "    print(i.center(10))\n",
        "\n",
        "\n",
        "\n"
      ],
      "metadata": {
        "colab": {
          "base_uri": "https://localhost:8080/"
        },
        "id": "MukMs7puoKJQ",
        "outputId": "1df17566-1e3e-4e1b-dd60-456faf02425f"
      },
      "execution_count": null,
      "outputs": [
        {
          "output_type": "stream",
          "name": "stdout",
          "text": [
            "    *     \n",
            "   ***    \n",
            "  *****   \n",
            " *******  \n",
            "********* \n"
          ]
        }
      ]
    },
    {
      "cell_type": "code",
      "source": [
        "x=int(input(\"enter Input\"))\n",
        "for i in range(1,x,3):\n",
        "    i =i*'*'\n",
        "    print(i.center(x))\n"
      ],
      "metadata": {
        "colab": {
          "base_uri": "https://localhost:8080/"
        },
        "id": "ws_YZmV1JiVN",
        "outputId": "a8c627bc-f809-449b-e824-bd6d311816da"
      },
      "execution_count": null,
      "outputs": [
        {
          "output_type": "stream",
          "name": "stdout",
          "text": [
            "enter Input15\n",
            "       *       \n",
            "      ****     \n",
            "    *******    \n",
            "   **********  \n",
            " ************* \n"
          ]
        }
      ]
    },
    {
      "cell_type": "markdown",
      "source": [
        "#Write a code to create the given structure using while loop.\n",
        "\n",
        "|||||||||\n",
        "\n",
        "|||||||\n",
        "\n",
        "|||||\n",
        "\n",
        "|||\n",
        "\n",
        "|"
      ],
      "metadata": {
        "id": "YTvo3ypp2tjn"
      }
    },
    {
      "cell_type": "code",
      "source": [
        "i=9\n",
        "while (i in range(10)):\n",
        "\n",
        "    print(i*'|')\n",
        "\n",
        "    i -=2\n",
        "\n"
      ],
      "metadata": {
        "colab": {
          "base_uri": "https://localhost:8080/"
        },
        "id": "kDh34Jhr2VKU",
        "outputId": "e28a6829-10b7-491b-d550-e0223bcb457d"
      },
      "execution_count": null,
      "outputs": [
        {
          "output_type": "stream",
          "name": "stdout",
          "text": [
            "|||||||||\n",
            "|||||||\n",
            "|||||\n",
            "|||\n",
            "|\n"
          ]
        }
      ]
    },
    {
      "cell_type": "code",
      "source": [],
      "metadata": {
        "id": "_3RSDCk44f3u"
      },
      "execution_count": null,
      "outputs": []
    }
  ]
}